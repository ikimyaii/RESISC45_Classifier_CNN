{
 "cells": [
  {
   "cell_type": "code",
   "execution_count": 2,
   "metadata": {
    "colab": {
     "base_uri": "https://localhost:8080/"
    },
    "id": "Tq5KQGn9nbaF",
    "outputId": "123d5b63-ef1c-44f9-cf33-1eb11ecbfb04"
   },
   "outputs": [],
   "source": [
    "import tensorflow as tf\n",
    "from tensorflow import keras\n",
    "from keras.activations import relu\n",
    "from keras.activations import linear\n",
    "\n",
    "from tensorflow.keras.layers import *\n",
    "from tensorflow.keras import Model\n",
    "from tensorflow.keras import layers as Layers\n",
    "from keras_preprocessing.image import ImageDataGenerator\n",
    "from keras.layers import LeakyReLU\n",
    "from keras.models import Sequential#Import from keras_preprocessing not from keras.preprocessingfrom keras_preprocessing.image import ImageDataGenerator\n",
    "from keras.layers import Dense, Activation, Flatten, Dropout, BatchNormalization\n",
    "from keras.layers import Conv2D, MaxPooling2D\n",
    "from keras import regularizers, optimizers\n",
    "import pandas as pd\n",
    "import numpy as np\n",
    "from keras_preprocessing.image import ImageDataGenerator\n",
    "import warnings\n",
    "\n",
    "warnings.filterwarnings(\"ignore\")\n",
    "import pathlib\n",
    "import warnings\n",
    "warnings.filterwarnings(\"ignore\")\n",
    "from tensorflow.keras import datasets, layers, models\n",
    "\n",
    "from tensorflow.keras.models import Sequential\n",
    "from tensorflow.keras.layers import Activation\n",
    "from tensorflow.keras.layers import Conv2D\n",
    "from tensorflow.keras.layers import Dense\n",
    "from tensorflow.keras.layers import MaxPooling2D\n",
    "from tensorflow.keras.layers import InputLayer\n",
    "from tensorflow.keras.layers import Flatten\n",
    "from tensorflow.keras.layers import Dropout\n",
    "from tensorflow.keras.regularizers import l1_l2\n",
    "from tensorflow.keras.datasets import cifar10\n",
    "from tensorflow.keras.optimizers import SGD\n",
    "from tensorflow.keras.utils import to_categorical\n",
    "from sklearn.utils import shuffle\n",
    "from sklearn.model_selection import train_test_split\n",
    "from sklearn.metrics import confusion_matrix\n",
    "from sklearn.metrics import classification_report\n",
    "from PIL import Image\n",
    "import pandas as pd\n",
    "import matplotlib.pyplot as plt\n",
    "import numpy as np\n",
    "import warnings\n",
    "# import seaborn as sn\n",
    "import math\n",
    "import os\n",
    "from tensorflow.keras.utils import to_categorical\n",
    "from keras.regularizers import l2\n",
    "from matplotlib import pyplot\n",
    "from keras.layers import LeakyReLU"
   ]
  },
  {
   "cell_type": "markdown",
   "metadata": {
    "id": "Nys_bv3QKv_O"
   },
   "source": [
    "Loading Data:\n",
    "The dataset has been splited into 20% for validation and 80% for training."
   ]
  },
  {
   "cell_type": "code",
   "execution_count": 3,
   "metadata": {
    "colab": {
     "base_uri": "https://localhost:8080/"
    },
    "id": "jNf5aYI3nvt4",
    "outputId": "d7894284-7505-4e24-a621-f71698ffa588"
   },
   "outputs": [
    {
     "name": "stdout",
     "output_type": "stream",
     "text": [
      "Found 24750 files belonging to 45 classes.\n",
      "Using 19800 files for training.\n",
      "Found 6750 files belonging to 45 classes.\n",
      "Using 1350 files for validation.\n",
      "['airplane', 'airport', 'baseball_diamond', 'basketball_court', 'beach', 'bridge', 'chaparral', 'church', 'circular_farmland', 'cloud', 'commercial_area', 'dense_residential', 'desert', 'forest', 'freeway', 'golf_course', 'ground_track_field', 'harbor', 'industrial_area', 'intersection', 'island', 'lake', 'meadow', 'medium_residential', 'mobile_home_park', 'mountain', 'overpass', 'palace', 'parking_lot', 'railway', 'railway_station', 'rectangular_farmland', 'river', 'roundabout', 'runway', 'sea_ice', 'ship', 'snowberg', 'sparse_residential', 'stadium', 'storage_tank', 'tennis_court', 'terrace', 'thermal_power_station', 'wetland']\n",
      "0.0 1.0\n"
     ]
    }
   ],
   "source": [
    "batch_size = 32\n",
    "img_height = 256\n",
    "img_width = 256\n",
    "train_data_path = 'E:/OldDrive/Yasin/Fall2021/Neural_Network/Kimia/HW3/NWPU-RESISC45/train_ds'\n",
    "test_data_path = 'E:/OldDrive/Yasin/Fall2021/Neural_Network/Kimia/HW3/NWPU-RESISC45/test_ds'\n",
    "\n",
    "train_ds = tf.keras.utils.image_dataset_from_directory(\n",
    "  train_data_path,\n",
    "  validation_split=0.2,\n",
    "  subset=\"training\",\n",
    "  seed=123,\n",
    "  image_size=(img_height, img_width),\n",
    "  batch_size=batch_size)\n",
    "\n",
    "val_ds = tf.keras.utils.image_dataset_from_directory(\n",
    "  test_data_path,\n",
    "  validation_split=0.2,\n",
    "  subset=\"validation\",\n",
    "  seed=123,\n",
    "  image_size=(img_height, img_width),\n",
    "  batch_size=batch_size)\n",
    "\n",
    "class_names = train_ds.class_names\n",
    "print(class_names)\n",
    "\n",
    "AUTOTUNE = tf.data.AUTOTUNE\n",
    "\n",
    "train_ds = train_ds.cache().shuffle(1000).prefetch(buffer_size=AUTOTUNE)\n",
    "val_ds = val_ds.cache().prefetch(buffer_size=AUTOTUNE)\n",
    "\n",
    "normalization_layer = layers.Rescaling(1./255)\n",
    "\n",
    "normalized_ds = train_ds.map(lambda x, y: (normalization_layer(x), y))\n",
    "image_batch, labels_batch = next(iter(normalized_ds))\n",
    "first_image = image_batch[0]\n",
    "# Notice the pixel values are now in `[0,1]`.\n",
    "print(np.min(first_image), np.max(first_image))\n",
    "\n",
    "num_classes = len(class_names)"
   ]
  },
  {
   "cell_type": "markdown",
   "metadata": {
    "id": "zjM8DAI1K-_o"
   },
   "source": [
    "**Run 1:**\n",
    "The relu activation function has been used in Con2D layers and MaxPooling layers. \n",
    "The optimizer in this run is Adam."
   ]
  },
  {
   "cell_type": "markdown",
   "metadata": {},
   "source": [
    "# Run 11: Ensemble Training with Different Nets (Tried to run Resnet 3times each one 20 epochs and then combine three models)"
   ]
  },
  {
   "cell_type": "markdown",
   "metadata": {},
   "source": [
    "# ResNet 34"
   ]
  },
  {
   "cell_type": "code",
   "execution_count": 3,
   "metadata": {},
   "outputs": [],
   "source": [
    "class ResBlock(Model):\n",
    "    def __init__(self, channels, stride=1):\n",
    "        super(ResBlock, self).__init__(name='ResBlock')\n",
    "        self.flag = (stride != 1)\n",
    "        self.conv1 = Conv2D(channels, 3, stride, padding='same')\n",
    "        self.bn1 = BatchNormalization()\n",
    "        self.conv2 = Conv2D(channels, 3, padding='same')\n",
    "        self.bn2 = BatchNormalization()\n",
    "        self.relu = ReLU()\n",
    "        if self.flag:\n",
    "            self.bn3 = BatchNormalization()\n",
    "            self.conv3 = Conv2D(channels, 1, stride)\n",
    "\n",
    "    def call(self, x):\n",
    "        x1 = self.conv1(x)\n",
    "        x1 = self.bn1(x1)\n",
    "        x1 = self.relu(x1)\n",
    "        x1 = self.conv2(x1)\n",
    "        x1 = self.bn2(x1)\n",
    "        if self.flag:\n",
    "            x = self.conv3(x)\n",
    "            x = self.bn3(x)\n",
    "        x1 = Layers.add([x, x1])\n",
    "        x1 = self.relu(x1)\n",
    "        return x1\n",
    "\n",
    "\n",
    "class ResNet34(Model):\n",
    "    def __init__(self):\n",
    "        super(ResNet34, self).__init__(name='ResNet34')\n",
    "        self.conv1 = Conv2D(64, 7, 2, padding='same')\n",
    "        self.bn = BatchNormalization()\n",
    "        self.relu = ReLU()\n",
    "        self.mp1 = MaxPooling2D(3, 2)\n",
    "\n",
    "        self.conv2_1 = ResBlock(64)\n",
    "        self.conv2_2 = ResBlock(64)\n",
    "        self.conv2_3 = ResBlock(64)\n",
    "\n",
    "        self.conv3_1 = ResBlock(128, 2)\n",
    "        self.conv3_2 = ResBlock(128)\n",
    "        self.conv3_3 = ResBlock(128)\n",
    "        self.conv3_4 = ResBlock(128)\n",
    "\n",
    "        self.conv4_1 = ResBlock(256, 2)\n",
    "        self.conv4_2 = ResBlock(256)\n",
    "        self.conv4_3 = ResBlock(256)\n",
    "        self.conv4_4 = ResBlock(256)\n",
    "        self.conv4_5 = ResBlock(256)\n",
    "        self.conv4_6 = ResBlock(256)\n",
    "\n",
    "        self.conv5_1 = ResBlock(512, 2)\n",
    "        self.conv5_2 = ResBlock(512)\n",
    "        self.conv5_3 = ResBlock(512)\n",
    "\n",
    "        self.pool = GlobalAveragePooling2D()\n",
    "        self.fc1 = Dense(512, activation='relu')\n",
    "        self.dp1 = Dropout(0.5)\n",
    "        self.fc2 = Dense(512, activation='relu')\n",
    "        self.dp2 = Dropout(0.5)\n",
    "        self.fc3 = Dense(45)\n",
    "\n",
    "    def call(self, x):\n",
    "        x = self.conv1(x)\n",
    "        x = self.bn(x)\n",
    "        x = self.relu(x)\n",
    "        x = self.mp1(x)\n",
    "\n",
    "        x = self.conv2_1(x)\n",
    "        x = self.conv2_2(x)\n",
    "        x = self.conv2_3(x)\n",
    "\n",
    "        x = self.conv3_1(x)\n",
    "        x = self.conv3_2(x)\n",
    "        x = self.conv3_3(x)\n",
    "        x = self.conv3_4(x)\n",
    "\n",
    "        x = self.conv4_1(x)\n",
    "        x = self.conv4_2(x)\n",
    "        x = self.conv4_3(x)\n",
    "        x = self.conv4_4(x)\n",
    "        x = self.conv4_5(x)\n",
    "        x = self.conv4_6(x)\n",
    "\n",
    "        x = self.conv5_1(x)\n",
    "        x = self.conv5_2(x)\n",
    "        x = self.conv5_3(x)\n",
    "\n",
    "        x = self.pool(x)\n",
    "        x = self.fc1(x)\n",
    "        x = self.dp1(x)\n",
    "        x = self.fc2(x)\n",
    "        x = self.dp2(x)\n",
    "        x = self.fc3(x)\n",
    "        return x\n",
    "\n",
    "\n"
   ]
  },
  {
   "cell_type": "code",
   "execution_count": 4,
   "metadata": {},
   "outputs": [],
   "source": [
    "model = ResNet34()\n",
    "model.build(input_shape=(1, 256, 256, 3))"
   ]
  },
  {
   "cell_type": "code",
   "execution_count": 53,
   "metadata": {},
   "outputs": [
    {
     "name": "stdout",
     "output_type": "stream",
     "text": [
      "Net 0 is being trained...\n",
      "Epoch 1/20\n",
      "619/619 [==============================] - 45s 69ms/step - loss: 1.7586 - accuracy: 0.4832 - val_loss: 1.4881 - val_accuracy: 0.5504\n",
      "Epoch 2/20\n",
      "619/619 [==============================] - 42s 68ms/step - loss: 1.6448 - accuracy: 0.5153 - val_loss: 2.0347 - val_accuracy: 0.5015\n",
      "Epoch 3/20\n",
      "619/619 [==============================] - 42s 68ms/step - loss: 1.5481 - accuracy: 0.5379 - val_loss: 15.1806 - val_accuracy: 0.2637\n",
      "Epoch 4/20\n",
      "619/619 [==============================] - 42s 68ms/step - loss: 1.4534 - accuracy: 0.5667 - val_loss: 1.3129 - val_accuracy: 0.6259\n",
      "Epoch 5/20\n",
      "619/619 [==============================] - 43s 69ms/step - loss: 1.3906 - accuracy: 0.5886 - val_loss: 2.2244 - val_accuracy: 0.4119\n",
      "Epoch 6/20\n",
      "619/619 [==============================] - 43s 69ms/step - loss: 1.2932 - accuracy: 0.6135 - val_loss: 1.1299 - val_accuracy: 0.6615\n",
      "Epoch 7/20\n",
      "619/619 [==============================] - 43s 69ms/step - loss: 1.1626 - accuracy: 0.6485 - val_loss: 1.0561 - val_accuracy: 0.6830\n",
      "Epoch 8/20\n",
      "619/619 [==============================] - 42s 68ms/step - loss: 1.0750 - accuracy: 0.6707 - val_loss: 3.9160 - val_accuracy: 0.6652\n",
      "Epoch 9/20\n",
      "619/619 [==============================] - 42s 69ms/step - loss: 0.9507 - accuracy: 0.7128 - val_loss: 13.0957 - val_accuracy: 0.6504\n",
      "Epoch 10/20\n",
      "619/619 [==============================] - 42s 68ms/step - loss: 0.9482 - accuracy: 0.7154 - val_loss: 3.4164 - val_accuracy: 0.3652\n",
      "Epoch 11/20\n",
      "619/619 [==============================] - 42s 68ms/step - loss: 0.9025 - accuracy: 0.7290 - val_loss: 2.2234 - val_accuracy: 0.5830\n",
      "Epoch 12/20\n",
      "619/619 [==============================] - 41s 67ms/step - loss: 0.8345 - accuracy: 0.7464 - val_loss: 1.4610 - val_accuracy: 0.5926\n",
      "Epoch 13/20\n",
      "619/619 [==============================] - 42s 67ms/step - loss: 0.6994 - accuracy: 0.7846 - val_loss: 0.9526 - val_accuracy: 0.7430\n",
      "Epoch 14/20\n",
      "619/619 [==============================] - 41s 67ms/step - loss: 0.6384 - accuracy: 0.8037 - val_loss: 1.9586 - val_accuracy: 0.7356\n",
      "Epoch 15/20\n",
      "619/619 [==============================] - 42s 67ms/step - loss: 0.6546 - accuracy: 0.7996 - val_loss: 1.3094 - val_accuracy: 0.6881\n",
      "Epoch 16/20\n",
      "619/619 [==============================] - 42s 68ms/step - loss: 0.6113 - accuracy: 0.8132 - val_loss: 52.7175 - val_accuracy: 0.3681\n",
      "Epoch 17/20\n",
      "619/619 [==============================] - 41s 67ms/step - loss: 0.4698 - accuracy: 0.8546 - val_loss: 0.9347 - val_accuracy: 0.7659\n",
      "Epoch 18/20\n",
      "619/619 [==============================] - 43s 69ms/step - loss: 0.5210 - accuracy: 0.8454 - val_loss: 2.3046 - val_accuracy: 0.5296\n",
      "Epoch 19/20\n",
      "619/619 [==============================] - 42s 68ms/step - loss: 0.4352 - accuracy: 0.8669 - val_loss: 1.4465 - val_accuracy: 0.7622\n",
      "Epoch 20/20\n",
      "619/619 [==============================] - 42s 67ms/step - loss: 0.3514 - accuracy: 0.8923 - val_loss: 1.0535 - val_accuracy: 0.7659\n"
     ]
    },
    {
     "name": "stderr",
     "output_type": "stream",
     "text": [
      "WARNING:absl:Found untraced functions such as conv2d_110_layer_call_fn, conv2d_110_layer_call_and_return_conditional_losses, re_lu_51_layer_call_fn, re_lu_51_layer_call_and_return_conditional_losses, dense_9_layer_call_fn while saving (showing 5 of 290). These functions will not be directly callable after loading.\n"
     ]
    },
    {
     "name": "stdout",
     "output_type": "stream",
     "text": [
      "INFO:tensorflow:Assets written to: models1\\model_0.model\\assets\n"
     ]
    },
    {
     "name": "stderr",
     "output_type": "stream",
     "text": [
      "INFO:tensorflow:Assets written to: models1\\model_0.model\\assets\n"
     ]
    },
    {
     "name": "stdout",
     "output_type": "stream",
     "text": [
      "Net 1 is being trained...\n",
      "Epoch 1/20\n",
      "619/619 [==============================] - 44s 69ms/step - loss: 0.4248 - accuracy: 0.8751 - val_loss: 8.3457 - val_accuracy: 0.7281\n",
      "Epoch 2/20\n",
      "619/619 [==============================] - 43s 69ms/step - loss: 0.3212 - accuracy: 0.9023 - val_loss: 1.1097 - val_accuracy: 0.7681\n",
      "Epoch 3/20\n",
      "619/619 [==============================] - 43s 70ms/step - loss: 0.3383 - accuracy: 0.9010 - val_loss: 2.7111 - val_accuracy: 0.4896\n",
      "Epoch 4/20\n",
      "619/619 [==============================] - 43s 70ms/step - loss: 0.3589 - accuracy: 0.8970 - val_loss: 1.0648 - val_accuracy: 0.7748\n",
      "Epoch 5/20\n",
      "619/619 [==============================] - 43s 69ms/step - loss: 0.2325 - accuracy: 0.9288 - val_loss: 2.5703 - val_accuracy: 0.7541\n",
      "Epoch 6/20\n",
      "619/619 [==============================] - 43s 69ms/step - loss: 0.2886 - accuracy: 0.9146 - val_loss: 1.0838 - val_accuracy: 0.7659\n",
      "Epoch 7/20\n",
      "619/619 [==============================] - 43s 69ms/step - loss: 0.4102 - accuracy: 0.8909 - val_loss: 1242.2654 - val_accuracy: 0.1015\n",
      "Epoch 8/20\n",
      "619/619 [==============================] - 43s 69ms/step - loss: 0.4224 - accuracy: 0.8790 - val_loss: 1.0095 - val_accuracy: 0.7822\n",
      "Epoch 9/20\n",
      "619/619 [==============================] - 43s 69ms/step - loss: 0.2831 - accuracy: 0.9208 - val_loss: 1.5498 - val_accuracy: 0.6978\n",
      "Epoch 10/20\n",
      "619/619 [==============================] - 43s 69ms/step - loss: 0.2733 - accuracy: 0.9253 - val_loss: 1.1143 - val_accuracy: 0.7881\n",
      "Epoch 11/20\n",
      "619/619 [==============================] - 43s 70ms/step - loss: 0.2527 - accuracy: 0.9266 - val_loss: 1.3480 - val_accuracy: 0.7407\n",
      "Epoch 12/20\n",
      "619/619 [==============================] - 43s 69ms/step - loss: 0.2335 - accuracy: 0.9355 - val_loss: 1.1290 - val_accuracy: 0.7837\n",
      "Epoch 13/20\n",
      "619/619 [==============================] - 43s 70ms/step - loss: 0.2099 - accuracy: 0.9424 - val_loss: 1.8510 - val_accuracy: 0.6941\n",
      "Epoch 14/20\n",
      "619/619 [==============================] - 42s 68ms/step - loss: 0.3510 - accuracy: 0.9025 - val_loss: 72.8603 - val_accuracy: 0.2007\n",
      "Epoch 15/20\n",
      "619/619 [==============================] - 41s 67ms/step - loss: 0.2776 - accuracy: 0.9240 - val_loss: 1.2037 - val_accuracy: 0.7830\n",
      "Epoch 16/20\n",
      "619/619 [==============================] - 41s 67ms/step - loss: 0.2288 - accuracy: 0.9360 - val_loss: 1.3943 - val_accuracy: 0.7519\n",
      "Epoch 17/20\n",
      "619/619 [==============================] - 42s 67ms/step - loss: 0.2905 - accuracy: 0.9207 - val_loss: 2.1337 - val_accuracy: 0.6185\n",
      "Epoch 18/20\n",
      "619/619 [==============================] - 42s 67ms/step - loss: 0.3465 - accuracy: 0.9084 - val_loss: 4.8585 - val_accuracy: 0.3067\n",
      "Epoch 19/20\n",
      "619/619 [==============================] - 42s 67ms/step - loss: 0.2193 - accuracy: 0.9414 - val_loss: 1.3655 - val_accuracy: 0.7541\n",
      "Epoch 20/20\n",
      "619/619 [==============================] - 41s 67ms/step - loss: 0.1910 - accuracy: 0.9468 - val_loss: 1.2468 - val_accuracy: 0.7785\n"
     ]
    },
    {
     "name": "stderr",
     "output_type": "stream",
     "text": [
      "WARNING:absl:Found untraced functions such as conv2d_110_layer_call_fn, conv2d_110_layer_call_and_return_conditional_losses, re_lu_51_layer_call_fn, re_lu_51_layer_call_and_return_conditional_losses, dense_9_layer_call_fn while saving (showing 5 of 290). These functions will not be directly callable after loading.\n"
     ]
    },
    {
     "name": "stdout",
     "output_type": "stream",
     "text": [
      "INFO:tensorflow:Assets written to: models1\\model_1.model\\assets\n"
     ]
    },
    {
     "name": "stderr",
     "output_type": "stream",
     "text": [
      "INFO:tensorflow:Assets written to: models1\\model_1.model\\assets\n"
     ]
    },
    {
     "name": "stdout",
     "output_type": "stream",
     "text": [
      "Net 2 is being trained...\n",
      "Epoch 1/20\n",
      "619/619 [==============================] - 43s 67ms/step - loss: 0.2184 - accuracy: 0.9402 - val_loss: 1.2160 - val_accuracy: 0.7719\n",
      "Epoch 2/20\n",
      "619/619 [==============================] - 41s 67ms/step - loss: 0.2991 - accuracy: 0.9174 - val_loss: 1.2014 - val_accuracy: 0.7474\n",
      "Epoch 3/20\n",
      "619/619 [==============================] - 41s 67ms/step - loss: 0.2953 - accuracy: 0.9197 - val_loss: 1.1241 - val_accuracy: 0.7793\n",
      "Epoch 4/20\n",
      "619/619 [==============================] - 41s 67ms/step - loss: 0.1907 - accuracy: 0.9463 - val_loss: 1.3184 - val_accuracy: 0.7541\n",
      "Epoch 5/20\n",
      "619/619 [==============================] - 42s 67ms/step - loss: 0.1629 - accuracy: 0.9527 - val_loss: 1.3163 - val_accuracy: 0.7756\n",
      "Epoch 6/20\n",
      "619/619 [==============================] - 42s 67ms/step - loss: 0.1622 - accuracy: 0.9533 - val_loss: 1.3329 - val_accuracy: 0.7726\n",
      "Epoch 7/20\n",
      "619/619 [==============================] - 41s 67ms/step - loss: 0.1643 - accuracy: 0.9538 - val_loss: 1.3426 - val_accuracy: 0.7652\n",
      "Epoch 8/20\n",
      "619/619 [==============================] - 41s 67ms/step - loss: 0.1365 - accuracy: 0.9576 - val_loss: 1.5513 - val_accuracy: 0.7556\n",
      "Epoch 9/20\n",
      "619/619 [==============================] - 41s 67ms/step - loss: 0.2698 - accuracy: 0.9237 - val_loss: 1.4454 - val_accuracy: 0.7259\n",
      "Epoch 10/20\n",
      "619/619 [==============================] - 41s 67ms/step - loss: 0.3047 - accuracy: 0.9177 - val_loss: 1.5642 - val_accuracy: 0.7015\n",
      "Epoch 11/20\n",
      "619/619 [==============================] - 41s 67ms/step - loss: 0.2493 - accuracy: 0.9354 - val_loss: 2.5279 - val_accuracy: 0.4978\n",
      "Epoch 12/20\n",
      "619/619 [==============================] - 41s 67ms/step - loss: 0.2278 - accuracy: 0.9411 - val_loss: 21.6725 - val_accuracy: 0.7704\n",
      "Epoch 13/20\n",
      "619/619 [==============================] - 41s 67ms/step - loss: 0.2104 - accuracy: 0.9467 - val_loss: 3.8591 - val_accuracy: 0.3533\n",
      "Epoch 14/20\n",
      "619/619 [==============================] - 41s 67ms/step - loss: 0.3067 - accuracy: 0.9191 - val_loss: 1.3332 - val_accuracy: 0.7526\n",
      "Epoch 15/20\n",
      "619/619 [==============================] - 41s 67ms/step - loss: 0.2707 - accuracy: 0.9284 - val_loss: 1.7722 - val_accuracy: 0.7052\n",
      "Epoch 16/20\n",
      "619/619 [==============================] - 41s 67ms/step - loss: 0.2277 - accuracy: 0.9403 - val_loss: 1.5315 - val_accuracy: 0.7333\n",
      "Epoch 17/20\n",
      "619/619 [==============================] - 41s 67ms/step - loss: 0.2068 - accuracy: 0.9448 - val_loss: 1.7575 - val_accuracy: 0.7156\n",
      "Epoch 18/20\n",
      "619/619 [==============================] - 41s 67ms/step - loss: 0.2089 - accuracy: 0.9454 - val_loss: 1.3793 - val_accuracy: 0.7748\n",
      "Epoch 19/20\n",
      "619/619 [==============================] - 41s 67ms/step - loss: 0.1599 - accuracy: 0.9581 - val_loss: 1.3037 - val_accuracy: 0.7970\n",
      "Epoch 20/20\n",
      "619/619 [==============================] - 41s 67ms/step - loss: 0.1339 - accuracy: 0.9664 - val_loss: 1.4000 - val_accuracy: 0.8030\n"
     ]
    },
    {
     "name": "stderr",
     "output_type": "stream",
     "text": [
      "WARNING:absl:Found untraced functions such as conv2d_110_layer_call_fn, conv2d_110_layer_call_and_return_conditional_losses, re_lu_51_layer_call_fn, re_lu_51_layer_call_and_return_conditional_losses, dense_9_layer_call_fn while saving (showing 5 of 290). These functions will not be directly callable after loading.\n"
     ]
    },
    {
     "name": "stdout",
     "output_type": "stream",
     "text": [
      "INFO:tensorflow:Assets written to: models1\\model_2.model\\assets\n"
     ]
    },
    {
     "name": "stderr",
     "output_type": "stream",
     "text": [
      "INFO:tensorflow:Assets written to: models1\\model_2.model\\assets\n"
     ]
    }
   ],
   "source": [
    "numberOfModels = 3\n",
    "for i in range(numberOfModels):\n",
    "    print('Net', i, 'is being trained...')\n",
    "    model.compile(optimizer='adam',\n",
    "                  loss=tf.keras.losses.SparseCategoricalCrossentropy(from_logits=True),\n",
    "                  metrics=['accuracy'])\n",
    "    epochs=20\n",
    "    history = model.fit(\n",
    "      train_ds,\n",
    "      validation_data=val_ds,\n",
    "      epochs=epochs,\n",
    "      batch_size=64\n",
    "    )\n",
    "    # save the model\n",
    "    p = ['models1', 'model_{}.model'.format(i)]\n",
    "    model.save(os.path.sep.join(p))"
   ]
  },
  {
   "cell_type": "code",
   "execution_count": 54,
   "metadata": {},
   "outputs": [
    {
     "name": "stdout",
     "output_type": "stream",
     "text": [
      "Loading model 1/3\n",
      "Loading model 2/3\n",
      "Loading model 3/3\n",
      "Evaluating ensemble...\n",
      "              precision    recall  f1-score   support\n",
      "\n",
      "           0       0.94      0.83      0.88        36\n",
      "           1       0.58      0.61      0.60        23\n",
      "           2       0.78      0.86      0.82        29\n",
      "           3       0.79      0.71      0.75        31\n",
      "           4       0.77      0.92      0.84        26\n",
      "           5       0.83      0.83      0.83        30\n",
      "           6       0.90      1.00      0.95        19\n",
      "           7       0.75      0.56      0.64        27\n",
      "           8       0.86      0.89      0.88        28\n",
      "           9       0.94      1.00      0.97        29\n",
      "          10       0.71      0.74      0.72        34\n",
      "          11       0.81      0.91      0.86        33\n",
      "          12       0.97      0.93      0.95        40\n",
      "          13       0.97      0.91      0.94        33\n",
      "          14       0.73      0.73      0.73        33\n",
      "          15       0.75      0.96      0.84        28\n",
      "          16       0.89      0.91      0.90        34\n",
      "          17       0.97      1.00      0.99        33\n",
      "          18       0.70      0.64      0.67        25\n",
      "          19       0.83      0.86      0.84        28\n",
      "          20       1.00      1.00      1.00        34\n",
      "          21       0.89      0.96      0.93        26\n",
      "          22       0.92      0.94      0.93        35\n",
      "          23       0.80      0.75      0.77        32\n",
      "          24       0.89      0.83      0.86        29\n",
      "          25       0.85      0.85      0.85        33\n",
      "          26       0.93      0.78      0.85        32\n",
      "          27       0.78      0.60      0.68        35\n",
      "          28       0.90      0.93      0.91        28\n",
      "          29       0.83      0.74      0.78        27\n",
      "          30       0.65      0.67      0.66        33\n",
      "          31       0.69      0.75      0.72        24\n",
      "          32       0.64      0.67      0.65        27\n",
      "          33       0.88      0.75      0.81        28\n",
      "          34       0.84      0.90      0.87        29\n",
      "          35       0.97      0.97      0.97        34\n",
      "          36       0.76      0.85      0.80        26\n",
      "          37       0.85      0.88      0.86        25\n",
      "          38       0.88      0.95      0.91        22\n",
      "          39       1.00      0.97      0.98        30\n",
      "          40       0.79      0.81      0.80        32\n",
      "          41       0.72      0.72      0.72        29\n",
      "          42       0.91      0.86      0.88        35\n",
      "          43       0.82      0.85      0.84        27\n",
      "          44       0.95      0.92      0.94        39\n",
      "\n",
      "    accuracy                           0.84      1350\n",
      "   macro avg       0.84      0.84      0.83      1350\n",
      "weighted avg       0.84      0.84      0.84      1350\n",
      "\n"
     ]
    },
    {
     "data": {
      "text/plain": [
       "<Figure size 432x288 with 0 Axes>"
      ]
     },
     "execution_count": 54,
     "metadata": {},
     "output_type": "execute_result"
    },
    {
     "data": {
      "image/png": "[encoded data removed]",
      "text/plain": [
       "<Figure size 432x288 with 2 Axes>"
      ]
     },
     "metadata": {
      "needs_background": "light"
     },
     "output_type": "display_data"
    },
    {
     "data": {
      "text/plain": [
       "<Figure size 432x288 with 0 Axes>"
      ]
     },
     "metadata": {},
     "output_type": "display_data"
    }
   ],
   "source": [
    "# construct the path used to collect the models then initialize the\n",
    "# models list\n",
    "modelPaths = os.path.sep.join(['models1', '*.model'])\n",
    "modelPaths = list(glob.glob(modelPaths))\n",
    "models = []\n",
    "\n",
    "# loop over the model paths, loading the model, and adding it to\n",
    "# the list of models\n",
    "for (i, modelPath) in enumerate(modelPaths):\n",
    "    print('Loading model {}/{}'.format(i + 1, len(modelPaths)))\n",
    "    models.append(load_model(modelPath))\n",
    "\n",
    "# initialize the list of predictions\n",
    "print('Evaluating ensemble...')\n",
    "predictions = []\n",
    "\n",
    "predictedY = model.predict(val_ds)\n",
    "predictedY = np.argmax(predictedY, axis=1)\n",
    "testX = np.concatenate([x for x, y in val_ds], axis=0)\n",
    "testY = np.concatenate([y for x, y in val_ds], axis=0)\n",
    "# loop over the models\n",
    "for model in models:\n",
    "    # use the current model to make predictions on the testing data,\n",
    "    # then store these predictions in the aggregate predictions list\n",
    "    predictions.append(model.predict(testX, batch_size=64))\n",
    "\n",
    "# average the probabilities across all model predictions\n",
    "predictions = np.average(predictions, axis=0)\n",
    "\n",
    "#show a classification report\n",
    "print(classification_report(testY,\n",
    "                            predictions.argmax(axis=1)))\n",
    "\n",
    "heatmap(confusion_matrix(testY, predictions.argmax(axis=1)))\n",
    "plt.figure()"
   ]
  },
  {
   "cell_type": "markdown",
   "metadata": {},
   "source": [
    "# Run 12: Ensemble Training with Different Nets (Tried to run Resnet and Alexnet 2times each one 20 epochs and then combine two models)"
   ]
  },
  {
   "cell_type": "markdown",
   "metadata": {},
   "source": [
    "# Alexnet"
   ]
  },
  {
   "cell_type": "code",
   "execution_count": 5,
   "metadata": {},
   "outputs": [
    {
     "name": "stdout",
     "output_type": "stream",
     "text": [
      "Model: \"sequential\"\n",
      "_________________________________________________________________\n",
      "Layer (type)                 Output Shape              Param #   \n",
      "=================================================================\n",
      "conv2d_36 (Conv2D)           (None, 256, 256, 96)      34944     \n",
      "_________________________________________________________________\n",
      "batch_normalization_36 (Batc (None, 256, 256, 96)      384       \n",
      "_________________________________________________________________\n",
      "activation (Activation)      (None, 256, 256, 96)      0         \n",
      "_________________________________________________________________\n",
      "max_pooling2d_1 (MaxPooling2 (None, 128, 128, 96)      0         \n",
      "_________________________________________________________________\n",
      "conv2d_37 (Conv2D)           (None, 128, 128, 256)     614656    \n",
      "_________________________________________________________________\n",
      "batch_normalization_37 (Batc (None, 128, 128, 256)     1024      \n",
      "_________________________________________________________________\n",
      "activation_1 (Activation)    (None, 128, 128, 256)     0         \n",
      "_________________________________________________________________\n",
      "max_pooling2d_2 (MaxPooling2 (None, 64, 64, 256)       0         \n",
      "_________________________________________________________________\n",
      "zero_padding2d (ZeroPadding2 (None, 66, 66, 256)       0         \n",
      "_________________________________________________________________\n",
      "conv2d_38 (Conv2D)           (None, 66, 66, 512)       1180160   \n",
      "_________________________________________________________________\n",
      "batch_normalization_38 (Batc (None, 66, 66, 512)       2048      \n",
      "_________________________________________________________________\n",
      "activation_2 (Activation)    (None, 66, 66, 512)       0         \n",
      "_________________________________________________________________\n",
      "max_pooling2d_3 (MaxPooling2 (None, 33, 33, 512)       0         \n",
      "_________________________________________________________________\n",
      "zero_padding2d_1 (ZeroPaddin (None, 35, 35, 512)       0         \n",
      "_________________________________________________________________\n",
      "conv2d_39 (Conv2D)           (None, 35, 35, 1024)      4719616   \n",
      "_________________________________________________________________\n",
      "batch_normalization_39 (Batc (None, 35, 35, 1024)      4096      \n",
      "_________________________________________________________________\n",
      "activation_3 (Activation)    (None, 35, 35, 1024)      0         \n",
      "_________________________________________________________________\n",
      "zero_padding2d_2 (ZeroPaddin (None, 37, 37, 1024)      0         \n",
      "_________________________________________________________________\n",
      "conv2d_40 (Conv2D)           (None, 37, 37, 1024)      9438208   \n",
      "_________________________________________________________________\n",
      "batch_normalization_40 (Batc (None, 37, 37, 1024)      4096      \n",
      "_________________________________________________________________\n",
      "activation_4 (Activation)    (None, 37, 37, 1024)      0         \n",
      "_________________________________________________________________\n",
      "max_pooling2d_4 (MaxPooling2 (None, 18, 18, 1024)      0         \n",
      "_________________________________________________________________\n",
      "flatten (Flatten)            (None, 331776)            0         \n",
      "_________________________________________________________________\n",
      "dense_3 (Dense)              (None, 3072)              1019218944\n",
      "_________________________________________________________________\n",
      "batch_normalization_41 (Batc (None, 3072)              12288     \n",
      "_________________________________________________________________\n",
      "activation_5 (Activation)    (None, 3072)              0         \n",
      "_________________________________________________________________\n",
      "dropout_2 (Dropout)          (None, 3072)              0         \n",
      "_________________________________________________________________\n",
      "dense_4 (Dense)              (None, 4096)              12587008  \n",
      "_________________________________________________________________\n",
      "batch_normalization_42 (Batc (None, 4096)              16384     \n",
      "_________________________________________________________________\n",
      "leaky_re_lu (LeakyReLU)      (None, 4096)              0         \n",
      "_________________________________________________________________\n",
      "dropout_3 (Dropout)          (None, 4096)              0         \n",
      "_________________________________________________________________\n",
      "dense_5 (Dense)              (None, 45)                184365    \n",
      "_________________________________________________________________\n",
      "batch_normalization_43 (Batc (None, 45)                180       \n",
      "_________________________________________________________________\n",
      "activation_6 (Activation)    (None, 45)                0         \n",
      "=================================================================\n",
      "Total params: 1,048,018,401\n",
      "Trainable params: 1,047,998,151\n",
      "Non-trainable params: 20,250\n",
      "_________________________________________________________________\n"
     ]
    }
   ],
   "source": [
    "\n",
    "def AlexNet(img_shape=(256, 256, 3), n_classes=45, l2_reg=0.,\n",
    "\tweights=None):\n",
    "\n",
    "\t# Initialize model\n",
    "\talexnet = Sequential()\n",
    "\n",
    "\t# Layer 1\n",
    "\talexnet.add(Conv2D(96, (11, 11), input_shape=img_shape,\n",
    "\t\tpadding='same', kernel_regularizer=l2(l2_reg)))\n",
    "\talexnet.add(BatchNormalization())\n",
    "\talexnet.add(Activation('relu'))\n",
    "\talexnet.add(MaxPooling2D(pool_size=(2, 2)))\n",
    "\n",
    "\t# Layer 2\n",
    "\talexnet.add(Conv2D(256, (5, 5), padding='same'))\n",
    "\talexnet.add(BatchNormalization())\n",
    "\talexnet.add(Activation('relu'))\n",
    "\talexnet.add(MaxPooling2D(pool_size=(2, 2)))\n",
    "\n",
    "\t# Layer 3\n",
    "\talexnet.add(ZeroPadding2D((1, 1)))\n",
    "\talexnet.add(Conv2D(512, (3, 3), padding='same'))\n",
    "\talexnet.add(BatchNormalization())\n",
    "\talexnet.add(Activation('relu'))\n",
    "\talexnet.add(MaxPooling2D(pool_size=(2, 2)))\n",
    "\n",
    "\t# Layer 4\n",
    "\talexnet.add(ZeroPadding2D((1, 1)))\n",
    "\talexnet.add(Conv2D(1024, (3, 3), padding='same'))\n",
    "\talexnet.add(BatchNormalization())\n",
    "\talexnet.add(Activation('relu'))\n",
    "\n",
    "\t# Layer 5\n",
    "\talexnet.add(ZeroPadding2D((1, 1)))\n",
    "\talexnet.add(Conv2D(1024, (3, 3), padding='same'))\n",
    "\talexnet.add(BatchNormalization())\n",
    "\talexnet.add(Activation('relu'))\n",
    "\talexnet.add(MaxPooling2D(pool_size=(2, 2)))\n",
    "\n",
    "\t# Layer 6\n",
    "\talexnet.add(Flatten())\n",
    "\talexnet.add(Dense(3072))\n",
    "\talexnet.add(BatchNormalization())\n",
    "\talexnet.add(Activation('relu'))\n",
    "\talexnet.add(Dropout(0.5))\n",
    "\n",
    "\t# Layer 7\n",
    "\talexnet.add(Dense(4096))\n",
    "\talexnet.add(BatchNormalization())\n",
    "\talexnet.add(LeakyReLU(alpha=0.1))\n",
    "\talexnet.add(Dropout(0.5))\n",
    "\n",
    "\t# Layer 8\n",
    "\talexnet.add(Dense(n_classes))\n",
    "\talexnet.add(BatchNormalization())\n",
    "\talexnet.add(Activation('relu'))\n",
    "\n",
    "\tif weights is not None:\n",
    "\t\talexnet.load_weights(weights)\n",
    "\n",
    "\treturn alexnet\n",
    "\n",
    "model = AlexNet()\n",
    "model.build(input_shape=(256, 256, 3))\n",
    "model.summary()"
   ]
  },
  {
   "cell_type": "code",
   "execution_count": 3,
   "metadata": {},
   "outputs": [
    {
     "name": "stdout",
     "output_type": "stream",
     "text": [
      "ResNet 0 is being trained...\n"
     ]
    },
    {
     "ename": "NameError",
     "evalue": "name 'ResNet34' is not defined",
     "output_type": "error",
     "traceback": [
      "\u001b[1;31m---------------------------------------------------------------------------\u001b[0m",
      "\u001b[1;31mNameError\u001b[0m                                 Traceback (most recent call last)",
      "\u001b[1;32m<ipython-input-3-27d1d1a2576d>\u001b[0m in \u001b[0;36m<module>\u001b[1;34m\u001b[0m\n\u001b[0;32m      2\u001b[0m \u001b[1;32mfor\u001b[0m \u001b[0mi\u001b[0m \u001b[1;32min\u001b[0m \u001b[0mrange\u001b[0m\u001b[1;33m(\u001b[0m\u001b[0mnumberOfModels\u001b[0m\u001b[1;33m)\u001b[0m\u001b[1;33m:\u001b[0m\u001b[1;33m\u001b[0m\u001b[1;33m\u001b[0m\u001b[0m\n\u001b[0;32m      3\u001b[0m     \u001b[0mprint\u001b[0m\u001b[1;33m(\u001b[0m\u001b[1;34m'ResNet'\u001b[0m\u001b[1;33m,\u001b[0m \u001b[0mi\u001b[0m\u001b[1;33m,\u001b[0m \u001b[1;34m'is being trained...'\u001b[0m\u001b[1;33m)\u001b[0m\u001b[1;33m\u001b[0m\u001b[1;33m\u001b[0m\u001b[0m\n\u001b[1;32m----> 4\u001b[1;33m     \u001b[0mmodel\u001b[0m \u001b[1;33m=\u001b[0m \u001b[0mResNet34\u001b[0m\u001b[1;33m(\u001b[0m\u001b[1;33m)\u001b[0m\u001b[1;33m\u001b[0m\u001b[1;33m\u001b[0m\u001b[0m\n\u001b[0m\u001b[0;32m      5\u001b[0m     \u001b[0mmodel\u001b[0m\u001b[1;33m.\u001b[0m\u001b[0mbuild\u001b[0m\u001b[1;33m(\u001b[0m\u001b[0minput_shape\u001b[0m\u001b[1;33m=\u001b[0m\u001b[1;33m(\u001b[0m\u001b[1;36m1\u001b[0m\u001b[1;33m,\u001b[0m \u001b[1;36m256\u001b[0m\u001b[1;33m,\u001b[0m \u001b[1;36m256\u001b[0m\u001b[1;33m,\u001b[0m \u001b[1;36m3\u001b[0m\u001b[1;33m)\u001b[0m\u001b[1;33m)\u001b[0m\u001b[1;33m\u001b[0m\u001b[1;33m\u001b[0m\u001b[0m\n\u001b[0;32m      6\u001b[0m     model.compile(optimizer='adam',\n",
      "\u001b[1;31mNameError\u001b[0m: name 'ResNet34' is not defined"
     ]
    }
   ],
   "source": [
    "numberOfModels = 1\n",
    "for i in range(numberOfModels):\n",
    "    print('ResNet', i, 'is being trained...')\n",
    "    model = ResNet34()\n",
    "    model.build(input_shape=(1, 256, 256, 3))\n",
    "    model.compile(optimizer='adam',\n",
    "                  loss=tf.keras.losses.SparseCategoricalCrossentropy(from_logits=True),\n",
    "                  metrics=['accuracy'])\n",
    "    epochs=20\n",
    "    history = model.fit(\n",
    "      train_ds,\n",
    "      validation_data=val_ds,\n",
    "      epochs=epochs,\n",
    "      batch_size=64\n",
    "    )\n",
    "    # save the model\n",
    "    p = ['models2', 'model_{}.model'.format(i)]\n",
    "    model.save(os.path.sep.join(p))\n",
    "\n",
    "    \n",
    "for i in range(numberOfModels, 2*numberOfModels):\n",
    "    print('AlexNet', i - numberOfModels + 1, 'is being trained...')\n",
    "    model = AlexNet()\n",
    "    model.build(input_shape=(256, 256, 3))\n",
    "    model.compile(optimizer='adam',\n",
    "                  loss=tf.keras.losses.SparseCategoricalCrossentropy(from_logits=True),\n",
    "                  metrics=['accuracy'])\n",
    "    epochs=20\n",
    "    history = model.fit(\n",
    "      train_ds,\n",
    "      validation_data=val_ds,\n",
    "      epochs=epochs,\n",
    "      batch_size=64\n",
    "    )\n",
    "    # save the model\n",
    "    p = ['models2', 'model_{}.model'.format(i)]\n",
    "    model.save(os.path.sep.join(p)) \n",
    "    "
   ]
  },
  {
   "cell_type": "code",
   "execution_count": 4,
   "metadata": {},
   "outputs": [
    {
     "name": "stdout",
     "output_type": "stream",
     "text": [
      "Loading model 1/2\n",
      "Loading model 2/2\n",
      "Evaluating ensemble...\n",
      "              precision    recall  f1-score   support\n",
      "\n",
      "           0       0.64      0.58      0.61        36\n",
      "           1       0.35      0.48      0.41        23\n",
      "           2       0.40      0.90      0.55        29\n",
      "           3       0.41      0.52      0.46        31\n",
      "           4       0.38      0.65      0.48        26\n",
      "           5       0.76      0.73      0.75        30\n",
      "           6       0.79      1.00      0.88        19\n",
      "           7       0.50      0.30      0.37        27\n",
      "           8       0.83      0.36      0.50        28\n",
      "           9       0.33      0.86      0.48        29\n",
      "          10       0.68      0.44      0.54        34\n",
      "          11       0.71      0.30      0.43        33\n",
      "          12       0.68      0.95      0.79        40\n",
      "          13       0.84      0.82      0.83        33\n",
      "          14       0.64      0.48      0.55        33\n",
      "          15       0.69      0.89      0.78        28\n",
      "          16       0.86      0.35      0.50        34\n",
      "          17       1.00      0.97      0.98        33\n",
      "          18       0.53      0.40      0.45        25\n",
      "          19       0.56      0.71      0.63        28\n",
      "          20       0.78      0.85      0.82        34\n",
      "          21       0.69      0.96      0.81        26\n",
      "          22       0.52      0.91      0.67        35\n",
      "          23       0.40      0.66      0.50        32\n",
      "          24       0.63      0.76      0.69        29\n",
      "          25       0.75      0.27      0.40        33\n",
      "          26       0.66      0.78      0.71        32\n",
      "          27       1.00      0.17      0.29        35\n",
      "          28       0.92      0.86      0.89        28\n",
      "          29       0.68      0.48      0.57        27\n",
      "          30       0.56      0.15      0.24        33\n",
      "          31       0.23      0.75      0.35        24\n",
      "          32       0.78      0.26      0.39        27\n",
      "          33       0.58      0.39      0.47        28\n",
      "          34       0.50      0.28      0.36        29\n",
      "          35       0.92      0.68      0.78        34\n",
      "          36       0.65      0.50      0.57        26\n",
      "          37       0.61      0.80      0.69        25\n",
      "          38       0.55      0.77      0.64        22\n",
      "          39       0.85      0.73      0.79        30\n",
      "          40       0.59      0.59      0.59        32\n",
      "          41       0.58      0.52      0.55        29\n",
      "          42       0.60      0.17      0.27        35\n",
      "          43       0.64      0.26      0.37        27\n",
      "          44       0.81      0.56      0.67        39\n",
      "\n",
      "    accuracy                           0.59      1350\n",
      "   macro avg       0.65      0.60      0.58      1350\n",
      "weighted avg       0.65      0.59      0.58      1350\n",
      "\n"
     ]
    },
    {
     "data": {
      "text/plain": [
       "<Figure size 432x288 with 0 Axes>"
      ]
     },
     "execution_count": 4,
     "metadata": {},
     "output_type": "execute_result"
    },
    {
     "data": {
      "image/png": "[encoded data removed]",
      "text/plain": [
       "<Figure size 432x288 with 2 Axes>"
      ]
     },
     "metadata": {
      "needs_background": "light"
     },
     "output_type": "display_data"
    },
    {
     "data": {
      "text/plain": [
       "<Figure size 432x288 with 0 Axes>"
      ]
     },
     "metadata": {},
     "output_type": "display_data"
    }
   ],
   "source": [
    "import glob\n",
    "from keras.models import load_model\n",
    "from seaborn import heatmap\n",
    "# construct the path used to collect the models then initialize the\n",
    "# models list\n",
    "modelPaths = os.path.sep.join(['models2', '*.model'])\n",
    "modelPaths = list(glob.glob(modelPaths))\n",
    "models = []\n",
    "\n",
    "# loop over the model paths, loading the model, and adding it to\n",
    "# the list of models\n",
    "for (i, modelPath) in enumerate(modelPaths):\n",
    "    print('Loading model {}/{}'.format(i + 1, len(modelPaths)))\n",
    "    models.append(load_model(modelPath))\n",
    "\n",
    "# initialize the list of predictions\n",
    "print('Evaluating ensemble...')\n",
    "predictions = []\n",
    "\n",
    "\n",
    "testX = np.concatenate([x for x, y in val_ds], axis=0)\n",
    "testY = np.concatenate([y for x, y in val_ds], axis=0)\n",
    "\n",
    "# loop over the models\n",
    "for model in models:\n",
    "    # use the current model to make predictions on the testing data,\n",
    "    # then store these predictions in the aggregate predictions list\n",
    "    predictions.append(model.predict(testX, batch_size=64))\n",
    "\n",
    "# average the probabilities across all model predictions\n",
    "predictions = np.average(predictions, axis=0)\n",
    "\n",
    "#show a classification report\n",
    "print(classification_report(testY,\n",
    "                            predictions.argmax(axis=1)))\n",
    "\n",
    "heatmap(confusion_matrix(testY, predictions.argmax(axis=1)))\n",
    "plt.figure()"
   ]
  }
 ],
 "metadata": {
  "accelerator": "GPU",
  "colab": {
   "collapsed_sections": [],
   "machine_shape": "hm",
   "provenance": []
  },
  "gpuClass": "premium",
  "kernelspec": {
   "display_name": "gpu",
   "language": "python",
   "name": "gpu"
  },
  "language_info": {
   "codemirror_mode": {
    "name": "ipython",
    "version": 3
   },
   "file_extension": ".py",
   "mimetype": "text/x-python",
   "name": "python",
   "nbconvert_exporter": "python",
   "pygments_lexer": "ipython3",
   "version": "3.6.13"
  }
 },
 "nbformat": 4,
 "nbformat_minor": 1
}
