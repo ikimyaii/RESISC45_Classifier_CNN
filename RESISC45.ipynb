{
 "cells": [
  {
   "cell_type": "code",
   "execution_count": null,
   "metadata": {
    "colab": {
     "base_uri": "https://localhost:8080/"
    },
    "id": "Tq5KQGn9nbaF",
    "outputId": "123d5b63-ef1c-44f9-cf33-1eb11ecbfb04"
   },
   "outputs": [
    {
     "name": "stdout",
     "output_type": "stream",
     "text": [
      "Drive already mounted at /content/gdrive; to attempt to forcibly remount, call drive.mount(\"/content/gdrive\", force_remount=True).\n"
     ]
    }
   ],
   "source": [
    "from google.colab import drive\n",
    "drive.mount('/content/gdrive')\n",
    "\n",
    "import matplotlib.pyplot as plt\n",
    "import numpy as np\n",
    "import PIL\n",
    "import tensorflow as tf\n",
    "import seaborn as sn \n",
    "from seaborn import heatmap\n",
    "\n",
    "from tensorflow import keras\n",
    "from tensorflow.keras import layers\n",
    "from tensorflow.keras.models import Sequential\n",
    "from sklearn.metrics import confusion_matrix\n",
    "from sklearn.metrics import classification_report\n",
    "from tensorflow.keras.regularizers import l2\n",
    "from tensorflow.keras.optimizers import SGD\n",
    "from tensorflow.keras.layers import BatchNormalization"
   ]
  },
  {
   "cell_type": "markdown",
   "metadata": {
    "id": "Nys_bv3QKv_O"
   },
   "source": [
    "Loading Data:\n",
    "The dataset has been splited into 20% for validation and 80% for training."
   ]
  },
  {
   "cell_type": "code",
   "execution_count": null,
   "metadata": {
    "colab": {
     "base_uri": "https://localhost:8080/"
    },
    "id": "jNf5aYI3nvt4",
    "outputId": "d7894284-7505-4e24-a621-f71698ffa588"
   },
   "outputs": [
    {
     "name": "stdout",
     "output_type": "stream",
     "text": [
      "Found 24770 files belonging to 45 classes.\n",
      "Using 19816 files for training.\n",
      "Found 6760 files belonging to 45 classes.\n",
      "Using 1352 files for validation.\n",
      "['airplane', 'airport', 'baseball_diamond', 'basketball_court', 'beach', 'bridge', 'chaparral', 'church', 'circular_farmland', 'cloud', 'commercial_area', 'dense_residential', 'desert', 'forest', 'freeway', 'golf_course', 'ground_track_field', 'harbor', 'industrial_area', 'intersection', 'island', 'lake', 'meadow', 'medium_residential', 'mobile_home_park', 'mountain', 'overpass', 'palace', 'parking_lot', 'railway', 'railway_station', 'rectangular_farmland', 'river', 'roundabout', 'runway', 'sea_ice', 'ship', 'snowberg', 'sparse_residential', 'stadium', 'storage_tank', 'tennis_court', 'terrace', 'thermal_power_station', 'wetland']\n",
      "0.12941177 1.0\n"
     ]
    }
   ],
   "source": [
    "batch_size = 32\n",
    "img_height = 256\n",
    "img_width = 256\n",
    "train_data_path = '/content/gdrive/My Drive/Data3/train_ds'\n",
    "test_data_path = '/content/gdrive/My Drive/Data3/test_ds'\n",
    "\n",
    "train_ds = tf.keras.utils.image_dataset_from_directory(\n",
    "  train_data_path,\n",
    "  validation_split=0.2,\n",
    "  subset=\"training\",\n",
    "  seed=123,\n",
    "  image_size=(img_height, img_width),\n",
    "  batch_size=batch_size)\n",
    "\n",
    "val_ds = tf.keras.utils.image_dataset_from_directory(\n",
    "  test_data_path,\n",
    "  validation_split=0.2,\n",
    "  subset=\"validation\",\n",
    "  seed=123,\n",
    "  image_size=(img_height, img_width),\n",
    "  batch_size=batch_size)\n",
    "\n",
    "class_names = train_ds.class_names\n",
    "print(class_names)\n",
    "\n",
    "AUTOTUNE = tf.data.AUTOTUNE\n",
    "\n",
    "train_ds = train_ds.cache().shuffle(1000).prefetch(buffer_size=AUTOTUNE)\n",
    "val_ds = val_ds.cache().prefetch(buffer_size=AUTOTUNE)\n",
    "\n",
    "normalization_layer = layers.Rescaling(1./255)\n",
    "\n",
    "normalized_ds = train_ds.map(lambda x, y: (normalization_layer(x), y))\n",
    "image_batch, labels_batch = next(iter(normalized_ds))\n",
    "first_image = image_batch[0]\n",
    "# Notice the pixel values are now in `[0,1]`.\n",
    "print(np.min(first_image), np.max(first_image))\n",
    "\n",
    "num_classes = len(class_names)"
   ]
  },
  {
   "cell_type": "markdown",
   "metadata": {
    "id": "zjM8DAI1K-_o"
   },
   "source": [
    "**Run 1:**\n",
    "The relu activation function has been used in Con2D layers and MaxPooling layers. \n",
    "The optimizer in this run is Adam."
   ]
  },
  {
   "cell_type": "code",
   "execution_count": null,
   "metadata": {
    "colab": {
     "base_uri": "https://localhost:8080/"
    },
    "id": "MyoaY0SJrWGv",
    "outputId": "b9ee9c43-c6be-4d46-e66b-85552cbf3756"
   },
   "outputs": [
    {
     "name": "stdout",
     "output_type": "stream",
     "text": [
      "Model: \"sequential\"\n",
      "_________________________________________________________________\n",
      " Layer (type)                Output Shape              Param #   \n",
      "=================================================================\n",
      " rescaling_1 (Rescaling)     (None, 256, 256, 3)       0         \n",
      "                                                                 \n",
      " conv2d (Conv2D)             (None, 256, 256, 16)      448       \n",
      "                                                                 \n",
      " max_pooling2d (MaxPooling2D  (None, 128, 128, 16)     0         \n",
      " )                                                               \n",
      "                                                                 \n",
      " dropout (Dropout)           (None, 128, 128, 16)      0         \n",
      "                                                                 \n",
      " conv2d_1 (Conv2D)           (None, 128, 128, 32)      4640      \n",
      "                                                                 \n",
      " max_pooling2d_1 (MaxPooling  (None, 64, 64, 32)       0         \n",
      " 2D)                                                             \n",
      "                                                                 \n",
      " dropout_1 (Dropout)         (None, 64, 64, 32)        0         \n",
      "                                                                 \n",
      " conv2d_2 (Conv2D)           (None, 64, 64, 64)        18496     \n",
      "                                                                 \n",
      " max_pooling2d_2 (MaxPooling  (None, 32, 32, 64)       0         \n",
      " 2D)                                                             \n",
      "                                                                 \n",
      " flatten (Flatten)           (None, 65536)             0         \n",
      "                                                                 \n",
      " dense (Dense)               (None, 128)               8388736   \n",
      "                                                                 \n",
      " dense_1 (Dense)             (None, 45)                5805      \n",
      "                                                                 \n",
      "=================================================================\n",
      "Total params: 8,418,125\n",
      "Trainable params: 8,418,125\n",
      "Non-trainable params: 0\n",
      "_________________________________________________________________\n"
     ]
    }
   ],
   "source": [
    "model = Sequential([\n",
    "  layers.Rescaling(1./255, input_shape=(img_height, img_width, 3)),\n",
    "  layers.Conv2D(16, 3, padding='same', activation='relu'),\n",
    "  layers.MaxPooling2D(),\n",
    "  layers.Dropout(0.2),\n",
    "  layers.Conv2D(32, 3, padding='same', activation='relu'),\n",
    "  layers.MaxPooling2D(),\n",
    "  layers.Dropout(0.2),\n",
    "  layers.Conv2D(64, 3, padding='same', activation='relu'),\n",
    "  layers.MaxPooling2D(),\n",
    "  layers.Flatten(),\n",
    "  layers.Dense(128, activation='relu'),\n",
    "  layers.Dense(num_classes)\n",
    "])\n",
    "\n",
    "model.compile(optimizer='adam', loss=tf.keras.losses.SparseCategoricalCrossentropy(from_logits=True), metrics=['accuracy'])\n",
    "model.summary()"
   ]
  },
  {
   "cell_type": "code",
   "execution_count": null,
   "metadata": {
    "colab": {
     "base_uri": "https://localhost:8080/"
    },
    "id": "IEnYyLgVrged",
    "outputId": "08d7fd15-4f43-448e-804a-17e09a2c7ef1"
   },
   "outputs": [
    {
     "name": "stdout",
     "output_type": "stream",
     "text": [
      "Epoch 1/50\n",
      "620/620 [==============================] - 48s 62ms/step - loss: 3.0838 - accuracy: 0.1764 - val_loss: 2.6104 - val_accuracy: 0.2655\n",
      "Epoch 2/50\n",
      "620/620 [==============================] - 9s 15ms/step - loss: 2.1676 - accuracy: 0.3818 - val_loss: 2.2374 - val_accuracy: 0.3654\n",
      "Epoch 3/50\n",
      "620/620 [==============================] - 9s 15ms/step - loss: 1.4850 - accuracy: 0.5672 - val_loss: 1.9222 - val_accuracy: 0.4556\n",
      "Epoch 4/50\n",
      "620/620 [==============================] - 9s 15ms/step - loss: 0.8688 - accuracy: 0.7438 - val_loss: 2.1221 - val_accuracy: 0.4726\n",
      "Epoch 5/50\n",
      "620/620 [==============================] - 9s 15ms/step - loss: 0.4394 - accuracy: 0.8711 - val_loss: 2.5912 - val_accuracy: 0.4763\n",
      "Epoch 6/50\n",
      "620/620 [==============================] - 9s 15ms/step - loss: 0.2383 - accuracy: 0.9280 - val_loss: 2.9257 - val_accuracy: 0.4712\n",
      "Epoch 7/50\n",
      "620/620 [==============================] - 9s 15ms/step - loss: 0.1620 - accuracy: 0.9534 - val_loss: 3.3848 - val_accuracy: 0.4253\n",
      "Epoch 8/50\n",
      "620/620 [==============================] - 9s 15ms/step - loss: 0.1416 - accuracy: 0.9570 - val_loss: 4.1788 - val_accuracy: 0.4009\n",
      "Epoch 9/50\n",
      "620/620 [==============================] - 9s 15ms/step - loss: 0.1201 - accuracy: 0.9660 - val_loss: 4.0090 - val_accuracy: 0.4571\n",
      "Epoch 10/50\n",
      "620/620 [==============================] - 9s 15ms/step - loss: 0.0961 - accuracy: 0.9706 - val_loss: 4.3283 - val_accuracy: 0.4460\n",
      "Epoch 11/50\n",
      "620/620 [==============================] - 9s 15ms/step - loss: 0.0867 - accuracy: 0.9731 - val_loss: 4.4870 - val_accuracy: 0.4246\n",
      "Epoch 12/50\n",
      "620/620 [==============================] - 9s 15ms/step - loss: 0.0919 - accuracy: 0.9724 - val_loss: 4.7469 - val_accuracy: 0.4157\n",
      "Epoch 13/50\n",
      "620/620 [==============================] - 9s 15ms/step - loss: 0.1099 - accuracy: 0.9673 - val_loss: 4.6647 - val_accuracy: 0.4157\n",
      "Epoch 14/50\n",
      "620/620 [==============================] - 9s 15ms/step - loss: 0.0793 - accuracy: 0.9757 - val_loss: 4.6193 - val_accuracy: 0.4246\n",
      "Epoch 15/50\n",
      "620/620 [==============================] - 9s 15ms/step - loss: 0.0632 - accuracy: 0.9809 - val_loss: 4.9882 - val_accuracy: 0.4253\n",
      "Epoch 16/50\n",
      "620/620 [==============================] - 9s 15ms/step - loss: 0.0701 - accuracy: 0.9781 - val_loss: 5.0490 - val_accuracy: 0.4061\n",
      "Epoch 17/50\n",
      "620/620 [==============================] - 9s 15ms/step - loss: 0.0651 - accuracy: 0.9810 - val_loss: 5.4317 - val_accuracy: 0.4312\n",
      "Epoch 18/50\n",
      "620/620 [==============================] - 9s 15ms/step - loss: 0.0711 - accuracy: 0.9793 - val_loss: 5.5884 - val_accuracy: 0.3891\n",
      "Epoch 19/50\n",
      "620/620 [==============================] - 9s 15ms/step - loss: 0.0565 - accuracy: 0.9838 - val_loss: 5.4287 - val_accuracy: 0.4238\n",
      "Epoch 20/50\n",
      "620/620 [==============================] - 9s 15ms/step - loss: 0.0491 - accuracy: 0.9860 - val_loss: 5.8129 - val_accuracy: 0.4268\n",
      "Epoch 21/50\n",
      "620/620 [==============================] - 9s 15ms/step - loss: 0.0805 - accuracy: 0.9779 - val_loss: 5.6509 - val_accuracy: 0.4105\n",
      "Epoch 22/50\n",
      "620/620 [==============================] - 9s 15ms/step - loss: 0.0604 - accuracy: 0.9824 - val_loss: 5.8099 - val_accuracy: 0.4201\n",
      "Epoch 23/50\n",
      "620/620 [==============================] - 9s 15ms/step - loss: 0.0484 - accuracy: 0.9863 - val_loss: 5.9148 - val_accuracy: 0.4194\n",
      "Epoch 24/50\n",
      "620/620 [==============================] - 9s 15ms/step - loss: 0.0488 - accuracy: 0.9853 - val_loss: 5.8758 - val_accuracy: 0.4038\n",
      "Epoch 25/50\n",
      "620/620 [==============================] - 9s 15ms/step - loss: 0.0562 - accuracy: 0.9856 - val_loss: 6.2371 - val_accuracy: 0.4120\n",
      "Epoch 26/50\n",
      "620/620 [==============================] - 9s 15ms/step - loss: 0.0677 - accuracy: 0.9805 - val_loss: 6.4117 - val_accuracy: 0.4112\n",
      "Epoch 27/50\n",
      "620/620 [==============================] - 9s 15ms/step - loss: 0.0420 - accuracy: 0.9880 - val_loss: 6.0176 - val_accuracy: 0.4260\n",
      "Epoch 28/50\n",
      "620/620 [==============================] - 9s 15ms/step - loss: 0.0350 - accuracy: 0.9904 - val_loss: 6.3823 - val_accuracy: 0.4112\n",
      "Epoch 29/50\n",
      "620/620 [==============================] - 9s 15ms/step - loss: 0.0568 - accuracy: 0.9833 - val_loss: 6.2011 - val_accuracy: 0.4283\n",
      "Epoch 30/50\n",
      "620/620 [==============================] - 9s 15ms/step - loss: 0.0286 - accuracy: 0.9913 - val_loss: 6.6349 - val_accuracy: 0.4216\n",
      "Epoch 31/50\n",
      "620/620 [==============================] - 9s 15ms/step - loss: 0.0524 - accuracy: 0.9858 - val_loss: 6.3152 - val_accuracy: 0.4142\n",
      "Epoch 32/50\n",
      "620/620 [==============================] - 9s 15ms/step - loss: 0.0470 - accuracy: 0.9863 - val_loss: 7.0900 - val_accuracy: 0.4105\n",
      "Epoch 33/50\n",
      "620/620 [==============================] - 9s 15ms/step - loss: 0.0553 - accuracy: 0.9845 - val_loss: 6.4743 - val_accuracy: 0.4068\n",
      "Epoch 34/50\n",
      "620/620 [==============================] - 9s 15ms/step - loss: 0.0366 - accuracy: 0.9900 - val_loss: 6.9451 - val_accuracy: 0.4157\n",
      "Epoch 35/50\n",
      "620/620 [==============================] - 9s 15ms/step - loss: 0.0502 - accuracy: 0.9866 - val_loss: 7.1811 - val_accuracy: 0.4083\n",
      "Epoch 36/50\n",
      "620/620 [==============================] - 9s 15ms/step - loss: 0.0411 - accuracy: 0.9884 - val_loss: 7.3907 - val_accuracy: 0.4075\n",
      "Epoch 37/50\n",
      "620/620 [==============================] - 9s 15ms/step - loss: 0.0459 - accuracy: 0.9868 - val_loss: 7.3784 - val_accuracy: 0.3994\n",
      "Epoch 38/50\n",
      "620/620 [==============================] - 9s 15ms/step - loss: 0.0358 - accuracy: 0.9898 - val_loss: 7.1533 - val_accuracy: 0.4038\n",
      "Epoch 39/50\n",
      "620/620 [==============================] - 9s 15ms/step - loss: 0.0383 - accuracy: 0.9889 - val_loss: 7.6919 - val_accuracy: 0.4090\n",
      "Epoch 40/50\n",
      "620/620 [==============================] - 9s 15ms/step - loss: 0.0403 - accuracy: 0.9895 - val_loss: 7.5254 - val_accuracy: 0.4031\n",
      "Epoch 41/50\n",
      "620/620 [==============================] - 9s 15ms/step - loss: 0.0386 - accuracy: 0.9890 - val_loss: 7.3703 - val_accuracy: 0.4186\n",
      "Epoch 42/50\n",
      "620/620 [==============================] - 9s 15ms/step - loss: 0.0488 - accuracy: 0.9865 - val_loss: 7.5965 - val_accuracy: 0.3942\n",
      "Epoch 43/50\n",
      "620/620 [==============================] - 9s 15ms/step - loss: 0.0418 - accuracy: 0.9883 - val_loss: 7.2247 - val_accuracy: 0.4009\n",
      "Epoch 44/50\n",
      "620/620 [==============================] - 9s 15ms/step - loss: 0.0367 - accuracy: 0.9897 - val_loss: 7.9631 - val_accuracy: 0.3913\n",
      "Epoch 45/50\n",
      "620/620 [==============================] - 9s 15ms/step - loss: 0.0392 - accuracy: 0.9901 - val_loss: 7.8063 - val_accuracy: 0.4120\n",
      "Epoch 46/50\n",
      "620/620 [==============================] - 9s 15ms/step - loss: 0.0232 - accuracy: 0.9938 - val_loss: 8.9233 - val_accuracy: 0.3817\n",
      "Epoch 47/50\n",
      "620/620 [==============================] - 9s 15ms/step - loss: 0.0321 - accuracy: 0.9914 - val_loss: 8.7561 - val_accuracy: 0.4009\n",
      "Epoch 48/50\n",
      "620/620 [==============================] - 9s 15ms/step - loss: 0.0654 - accuracy: 0.9852 - val_loss: 8.3595 - val_accuracy: 0.4031\n",
      "Epoch 49/50\n",
      "620/620 [==============================] - 9s 15ms/step - loss: 0.0397 - accuracy: 0.9905 - val_loss: 8.1267 - val_accuracy: 0.4201\n",
      "Epoch 50/50\n",
      "620/620 [==============================] - 9s 15ms/step - loss: 0.0464 - accuracy: 0.9881 - val_loss: 8.3206 - val_accuracy: 0.4038\n"
     ]
    }
   ],
   "source": [
    "epochs=50\n",
    "history = model.fit(\n",
    "  train_ds,\n",
    "  validation_data=val_ds,\n",
    "  epochs=epochs\n",
    ")"
   ]
  },
  {
   "cell_type": "markdown",
   "metadata": {
    "id": "jh2PNmtMLUL-"
   },
   "source": [
    "**The accuracy for Run 1:**"
   ]
  },
  {
   "cell_type": "code",
   "execution_count": null,
   "metadata": {
    "colab": {
     "base_uri": "https://localhost:8080/",
     "height": 499
    },
    "id": "JGj87z_6r9Wq",
    "outputId": "336b02a1-1d91-4815-8d28-88176a747e3b"
   },
   "outputs": [
    {
     "data": {
      "image/png": "[encoded data removed]",
      "text/plain": [
       "<Figure size 576x576 with 2 Axes>"
      ]
     },
     "metadata": {
      "needs_background": "light"
     },
     "output_type": "display_data"
    }
   ],
   "source": [
    "acc = history.history['accuracy']\n",
    "val_acc = history.history['val_accuracy']\n",
    "\n",
    "loss = history.history['loss']\n",
    "val_loss = history.history['val_loss']\n",
    "\n",
    "epochs_range = range(epochs)\n",
    "\n",
    "plt.figure(figsize=(8, 8))\n",
    "plt.subplot(1, 2, 1)\n",
    "plt.plot(epochs_range, acc, label='Training Accuracy')\n",
    "plt.plot(epochs_range, val_acc, label='Validation Accuracy')\n",
    "plt.legend(loc='lower right')\n",
    "plt.title('Training and Validation Accuracy')\n",
    "\n",
    "plt.subplot(1, 2, 2)\n",
    "plt.plot(epochs_range, loss, label='Training Loss')\n",
    "plt.plot(epochs_range, val_loss, label='Validation Loss')\n",
    "plt.legend(loc='upper right')\n",
    "plt.title('Training and Validation Loss')\n",
    "plt.show()"
   ]
  },
  {
   "cell_type": "code",
   "execution_count": null,
   "metadata": {
    "colab": {
     "base_uri": "https://localhost:8080/",
     "height": 1000
    },
    "id": "n092WJnur-U0",
    "outputId": "034b3ce1-40f9-466b-ede5-32a5935cb760"
   },
   "outputs": [
    {
     "name": "stdout",
     "output_type": "stream",
     "text": [
      "43/43 [==============================] - 0s 8ms/step\n",
      "\n",
      "Testing Classification Report:\n",
      "\n",
      "               precision    recall  f1-score   support\n",
      "\n",
      "           0       0.69      0.25      0.37        36\n",
      "           1       0.17      0.14      0.15        22\n",
      "           2       0.37      0.48      0.42        29\n",
      "           3       0.22      0.19      0.21        31\n",
      "           4       0.38      0.69      0.49        26\n",
      "           5       0.73      0.53      0.62        30\n",
      "           6       0.76      0.68      0.72        19\n",
      "           7       0.25      0.19      0.21        27\n",
      "           8       0.64      0.25      0.36        28\n",
      "           9       0.80      0.69      0.74        29\n",
      "          10       0.23      0.29      0.26        34\n",
      "          11       0.18      0.45      0.26        33\n",
      "          12       0.94      0.75      0.83        40\n",
      "          13       0.52      0.79      0.63        33\n",
      "          14       0.17      0.24      0.20        33\n",
      "          15       0.29      0.36      0.32        28\n",
      "          16       0.43      0.35      0.39        34\n",
      "          17       0.55      0.88      0.67        33\n",
      "          18       0.50      0.20      0.29        25\n",
      "          19       0.38      0.68      0.49        28\n",
      "          20       0.86      0.74      0.79        34\n",
      "          21       0.83      0.58      0.68        26\n",
      "          22       0.57      0.86      0.68        35\n",
      "          23       0.31      0.12      0.18        32\n",
      "          24       0.38      0.21      0.27        29\n",
      "          25       0.26      0.21      0.23        33\n",
      "          26       0.31      0.31      0.31        32\n",
      "          27       0.28      0.14      0.19        35\n",
      "          28       0.50      0.57      0.53        28\n",
      "          29       0.14      0.04      0.06        27\n",
      "          30       0.21      0.21      0.21        33\n",
      "          31       0.25      0.25      0.25        24\n",
      "          32       0.15      0.19      0.16        27\n",
      "          33       0.31      0.43      0.36        28\n",
      "          34       0.55      0.59      0.57        29\n",
      "          35       0.74      0.76      0.75        34\n",
      "          36       0.35      0.30      0.32        27\n",
      "          37       0.76      0.57      0.65        23\n",
      "          38       0.38      0.36      0.37        22\n",
      "          39       0.23      0.21      0.22        29\n",
      "          40       0.24      0.26      0.25        31\n",
      "          41       0.22      0.25      0.23        28\n",
      "          42       0.28      0.35      0.31        37\n",
      "          43       0.25      0.17      0.20        29\n",
      "          44       0.52      0.26      0.35        42\n",
      "\n",
      "    accuracy                           0.40      1352\n",
      "   macro avg       0.42      0.40      0.39      1352\n",
      "weighted avg       0.43      0.40      0.40      1352\n",
      "\n",
      "\n",
      "Testing Confusion Matrix:\n",
      "\n"
     ]
    },
    {
     "data": {
      "text/plain": [
       "<Figure size 432x288 with 0 Axes>"
      ]
     },
     "execution_count": 13,
     "metadata": {},
     "output_type": "execute_result"
    },
    {
     "data": {
      "image/png": "[encoded data removed]",
      "text/plain": [
       "<Figure size 432x288 with 2 Axes>"
      ]
     },
     "metadata": {
      "needs_background": "light"
     },
     "output_type": "display_data"
    },
    {
     "data": {
      "text/plain": [
       "<Figure size 432x288 with 0 Axes>"
      ]
     },
     "metadata": {},
     "output_type": "display_data"
    }
   ],
   "source": [
    "# predict the labels of the test set\n",
    "predictedY = model.predict(val_ds)\n",
    "predictedY = np.argmax(predictedY, axis=1)\n",
    "testY = np.concatenate([y for x, y in val_ds], axis=0)\n",
    "\n",
    "# print quality metricsl\n",
    "print('\\nTesting Classification Report:\\n\\n', classification_report(testY, predictedY))\n",
    "\n",
    "print('\\nTesting Confusion Matrix:\\n')\n",
    "\n",
    "heatmap(confusion_matrix(testY, predictedY))\n",
    "plt.figure()"
   ]
  },
  {
   "cell_type": "markdown",
   "metadata": {
    "id": "5M8EGxvRLf6e"
   },
   "source": [
    "**Run 2:**\n",
    "based on the previous run, The accuracy for training has improved but the accuracy in validation has not shown much enhancement.\n",
    "Hence, Dropout and Kernal Regularizer in this run has been used to improve the validation accuracy.\n",
    "In each layer, 20% Dropout has been used. "
   ]
  },
  {
   "cell_type": "code",
   "execution_count": null,
   "metadata": {
    "colab": {
     "base_uri": "https://localhost:8080/"
    },
    "id": "bJ9nXPAOsF6G",
    "outputId": "477e3a37-d2ea-4271-dde6-f85ee4e2a91c"
   },
   "outputs": [
    {
     "name": "stdout",
     "output_type": "stream",
     "text": [
      "Model: \"sequential_1\"\n",
      "_________________________________________________________________\n",
      " Layer (type)                Output Shape              Param #   \n",
      "=================================================================\n",
      " rescaling_3 (Rescaling)     (None, 256, 256, 3)       0         \n",
      "                                                                 \n",
      " conv2d_3 (Conv2D)           (None, 256, 256, 16)      448       \n",
      "                                                                 \n",
      " max_pooling2d_3 (MaxPooling  (None, 128, 128, 16)     0         \n",
      " 2D)                                                             \n",
      "                                                                 \n",
      " dropout_2 (Dropout)         (None, 128, 128, 16)      0         \n",
      "                                                                 \n",
      " conv2d_4 (Conv2D)           (None, 128, 128, 32)      4640      \n",
      "                                                                 \n",
      " max_pooling2d_4 (MaxPooling  (None, 64, 64, 32)       0         \n",
      " 2D)                                                             \n",
      "                                                                 \n",
      " dropout_3 (Dropout)         (None, 64, 64, 32)        0         \n",
      "                                                                 \n",
      " conv2d_5 (Conv2D)           (None, 64, 64, 64)        18496     \n",
      "                                                                 \n",
      " max_pooling2d_5 (MaxPooling  (None, 32, 32, 64)       0         \n",
      " 2D)                                                             \n",
      "                                                                 \n",
      " dropout_4 (Dropout)         (None, 32, 32, 64)        0         \n",
      "                                                                 \n",
      " conv2d_6 (Conv2D)           (None, 32, 32, 128)       73856     \n",
      "                                                                 \n",
      " max_pooling2d_6 (MaxPooling  (None, 16, 16, 128)      0         \n",
      " 2D)                                                             \n",
      "                                                                 \n",
      " flatten_1 (Flatten)         (None, 32768)             0         \n",
      "                                                                 \n",
      " dense_2 (Dense)             (None, 256)               8388864   \n",
      "                                                                 \n",
      " dense_3 (Dense)             (None, 45)                11565     \n",
      "                                                                 \n",
      "=================================================================\n",
      "Total params: 8,497,869\n",
      "Trainable params: 8,497,869\n",
      "Non-trainable params: 0\n",
      "_________________________________________________________________\n"
     ]
    }
   ],
   "source": [
    "lambda2 = 0.0002\n",
    "\n",
    "model = Sequential([\n",
    "  layers.Rescaling(1./255, input_shape=(img_height, img_width, 3)),\n",
    "  layers.Conv2D(16, 3, padding='same', activation='relu', kernel_regularizer = l2(lambda2)),\n",
    "  layers.MaxPooling2D(),\n",
    "  layers.Dropout(0.2),\n",
    "  layers.Conv2D(32, 3, padding='same', activation='relu', kernel_regularizer = l2(lambda2)),\n",
    "  layers.MaxPooling2D(),\n",
    "  layers.Dropout(0.2),\n",
    "  layers.Conv2D(64, 3, padding='same', activation='relu', kernel_regularizer = l2(lambda2)),\n",
    "  layers.MaxPooling2D(),\n",
    "  layers.Dropout(0.2),\n",
    "  layers.Conv2D(128, 3, padding='same', activation='relu', kernel_regularizer = l2(lambda2)),\n",
    "  layers.MaxPooling2D(),\n",
    "  layers.Flatten(),\n",
    "  layers.Dense(256, activation='relu'),\n",
    "  layers.Dense(num_classes)\n",
    "])\n",
    "\n",
    "model.compile(optimizer='adam', loss=tf.keras.losses.SparseCategoricalCrossentropy(from_logits=True), metrics=['accuracy'])\n",
    "model.summary()"
   ]
  },
  {
   "cell_type": "code",
   "execution_count": null,
   "metadata": {
    "colab": {
     "base_uri": "https://localhost:8080/"
    },
    "id": "_J5yrcYTsWIe",
    "outputId": "cee8d6e7-ecfe-439e-f4e0-c6ceb8f82ba3"
   },
   "outputs": [
    {
     "name": "stdout",
     "output_type": "stream",
     "text": [
      "Epoch 1/50\n",
      "620/620 [==============================] - 11s 16ms/step - loss: 3.1249 - accuracy: 0.1579 - val_loss: 2.5535 - val_accuracy: 0.2996\n",
      "Epoch 2/50\n",
      "620/620 [==============================] - 10s 15ms/step - loss: 2.2199 - accuracy: 0.3808 - val_loss: 2.2401 - val_accuracy: 0.3809\n",
      "Epoch 3/50\n",
      "620/620 [==============================] - 10s 16ms/step - loss: 1.7918 - accuracy: 0.4853 - val_loss: 1.9565 - val_accuracy: 0.4379\n",
      "Epoch 4/50\n",
      "620/620 [==============================] - 10s 15ms/step - loss: 1.4548 - accuracy: 0.5780 - val_loss: 1.8198 - val_accuracy: 0.4837\n",
      "Epoch 5/50\n",
      "620/620 [==============================] - 10s 15ms/step - loss: 1.1942 - accuracy: 0.6505 - val_loss: 1.7549 - val_accuracy: 0.5155\n",
      "Epoch 6/50\n",
      "620/620 [==============================] - 10s 15ms/step - loss: 0.9928 - accuracy: 0.7130 - val_loss: 1.7276 - val_accuracy: 0.5444\n",
      "Epoch 7/50\n",
      "620/620 [==============================] - 10s 15ms/step - loss: 0.8068 - accuracy: 0.7665 - val_loss: 1.9106 - val_accuracy: 0.5251\n",
      "Epoch 8/50\n",
      "620/620 [==============================] - 10s 15ms/step - loss: 0.6625 - accuracy: 0.8111 - val_loss: 1.9290 - val_accuracy: 0.5303\n",
      "Epoch 9/50\n",
      "620/620 [==============================] - 10s 15ms/step - loss: 0.5703 - accuracy: 0.8369 - val_loss: 2.1307 - val_accuracy: 0.5266\n",
      "Epoch 10/50\n",
      "620/620 [==============================] - 10s 16ms/step - loss: 0.4747 - accuracy: 0.8686 - val_loss: 2.4079 - val_accuracy: 0.5178\n",
      "Epoch 11/50\n",
      "620/620 [==============================] - 10s 15ms/step - loss: 0.4115 - accuracy: 0.8878 - val_loss: 2.5403 - val_accuracy: 0.5015\n",
      "Epoch 12/50\n",
      "620/620 [==============================] - 10s 15ms/step - loss: 0.3899 - accuracy: 0.8916 - val_loss: 2.5394 - val_accuracy: 0.5074\n",
      "Epoch 13/50\n",
      "620/620 [==============================] - 10s 16ms/step - loss: 0.3399 - accuracy: 0.9080 - val_loss: 2.7465 - val_accuracy: 0.5163\n",
      "Epoch 14/50\n",
      "620/620 [==============================] - 10s 16ms/step - loss: 0.2908 - accuracy: 0.9225 - val_loss: 3.0246 - val_accuracy: 0.5096\n",
      "Epoch 15/50\n",
      "620/620 [==============================] - 10s 15ms/step - loss: 0.2994 - accuracy: 0.9226 - val_loss: 3.2591 - val_accuracy: 0.5155\n",
      "Epoch 16/50\n",
      "620/620 [==============================] - 10s 15ms/step - loss: 0.2765 - accuracy: 0.9306 - val_loss: 3.1571 - val_accuracy: 0.5118\n",
      "Epoch 17/50\n",
      "620/620 [==============================] - 10s 15ms/step - loss: 0.2630 - accuracy: 0.9340 - val_loss: 3.3550 - val_accuracy: 0.5118\n",
      "Epoch 18/50\n",
      "620/620 [==============================] - 10s 15ms/step - loss: 0.2553 - accuracy: 0.9372 - val_loss: 3.4385 - val_accuracy: 0.4926\n",
      "Epoch 19/50\n",
      "620/620 [==============================] - 10s 15ms/step - loss: 0.2358 - accuracy: 0.9451 - val_loss: 3.5283 - val_accuracy: 0.4926\n",
      "Epoch 20/50\n",
      "620/620 [==============================] - 10s 15ms/step - loss: 0.2353 - accuracy: 0.9451 - val_loss: 3.5350 - val_accuracy: 0.4956\n",
      "Epoch 21/50\n",
      "620/620 [==============================] - 10s 15ms/step - loss: 0.2290 - accuracy: 0.9487 - val_loss: 3.5106 - val_accuracy: 0.5059\n",
      "Epoch 22/50\n",
      "620/620 [==============================] - 10s 15ms/step - loss: 0.2110 - accuracy: 0.9529 - val_loss: 3.8532 - val_accuracy: 0.4963\n",
      "Epoch 23/50\n",
      "620/620 [==============================] - 10s 15ms/step - loss: 0.2112 - accuracy: 0.9517 - val_loss: 3.7607 - val_accuracy: 0.4822\n",
      "Epoch 24/50\n",
      "620/620 [==============================] - 10s 15ms/step - loss: 0.2303 - accuracy: 0.9474 - val_loss: 3.6236 - val_accuracy: 0.4970\n",
      "Epoch 25/50\n",
      "620/620 [==============================] - 10s 16ms/step - loss: 0.1833 - accuracy: 0.9618 - val_loss: 3.8375 - val_accuracy: 0.5052\n",
      "Epoch 26/50\n",
      "620/620 [==============================] - 10s 15ms/step - loss: 0.2050 - accuracy: 0.9562 - val_loss: 3.8275 - val_accuracy: 0.4904\n",
      "Epoch 27/50\n",
      "620/620 [==============================] - 10s 16ms/step - loss: 0.2006 - accuracy: 0.9564 - val_loss: 3.8728 - val_accuracy: 0.4845\n",
      "Epoch 28/50\n",
      "620/620 [==============================] - 10s 16ms/step - loss: 0.1939 - accuracy: 0.9586 - val_loss: 4.1743 - val_accuracy: 0.4549\n",
      "Epoch 29/50\n",
      "620/620 [==============================] - 10s 15ms/step - loss: 0.1944 - accuracy: 0.9587 - val_loss: 3.8924 - val_accuracy: 0.4889\n",
      "Epoch 30/50\n",
      "620/620 [==============================] - 10s 15ms/step - loss: 0.1727 - accuracy: 0.9649 - val_loss: 4.1232 - val_accuracy: 0.4874\n",
      "Epoch 31/50\n",
      "620/620 [==============================] - 10s 15ms/step - loss: 0.1825 - accuracy: 0.9632 - val_loss: 3.9717 - val_accuracy: 0.4867\n",
      "Epoch 32/50\n",
      "620/620 [==============================] - 10s 15ms/step - loss: 0.1747 - accuracy: 0.9648 - val_loss: 4.3898 - val_accuracy: 0.4904\n",
      "Epoch 33/50\n",
      "620/620 [==============================] - 10s 15ms/step - loss: 0.1771 - accuracy: 0.9649 - val_loss: 4.3735 - val_accuracy: 0.4793\n",
      "Epoch 34/50\n",
      "620/620 [==============================] - 10s 15ms/step - loss: 0.1683 - accuracy: 0.9656 - val_loss: 4.1284 - val_accuracy: 0.4904\n",
      "Epoch 35/50\n",
      "620/620 [==============================] - 10s 15ms/step - loss: 0.1776 - accuracy: 0.9646 - val_loss: 3.9942 - val_accuracy: 0.4852\n",
      "Epoch 36/50\n",
      "620/620 [==============================] - 10s 15ms/step - loss: 0.1712 - accuracy: 0.9650 - val_loss: 4.1744 - val_accuracy: 0.4741\n",
      "Epoch 37/50\n",
      "620/620 [==============================] - 10s 15ms/step - loss: 0.1661 - accuracy: 0.9657 - val_loss: 3.9699 - val_accuracy: 0.4904\n",
      "Epoch 38/50\n",
      "620/620 [==============================] - 10s 15ms/step - loss: 0.1510 - accuracy: 0.9715 - val_loss: 4.3255 - val_accuracy: 0.4800\n",
      "Epoch 39/50\n",
      "620/620 [==============================] - 10s 15ms/step - loss: 0.1621 - accuracy: 0.9679 - val_loss: 4.3084 - val_accuracy: 0.4704\n",
      "Epoch 40/50\n",
      "620/620 [==============================] - 10s 15ms/step - loss: 0.1482 - accuracy: 0.9740 - val_loss: 4.5232 - val_accuracy: 0.4830\n",
      "Epoch 41/50\n",
      "620/620 [==============================] - 10s 15ms/step - loss: 0.1748 - accuracy: 0.9641 - val_loss: 4.1251 - val_accuracy: 0.4859\n",
      "Epoch 42/50\n",
      "620/620 [==============================] - 10s 15ms/step - loss: 0.1730 - accuracy: 0.9658 - val_loss: 4.2823 - val_accuracy: 0.4771\n",
      "Epoch 43/50\n",
      "620/620 [==============================] - 10s 15ms/step - loss: 0.1573 - accuracy: 0.9714 - val_loss: 4.4793 - val_accuracy: 0.4638\n",
      "Epoch 44/50\n",
      "620/620 [==============================] - 10s 15ms/step - loss: 0.1618 - accuracy: 0.9676 - val_loss: 4.4623 - val_accuracy: 0.4793\n",
      "Epoch 45/50\n",
      "620/620 [==============================] - 10s 15ms/step - loss: 0.1417 - accuracy: 0.9757 - val_loss: 4.3988 - val_accuracy: 0.4689\n",
      "Epoch 46/50\n",
      "620/620 [==============================] - 10s 15ms/step - loss: 0.1469 - accuracy: 0.9717 - val_loss: 4.5489 - val_accuracy: 0.4704\n",
      "Epoch 47/50\n",
      "620/620 [==============================] - 10s 15ms/step - loss: 0.1524 - accuracy: 0.9731 - val_loss: 4.4885 - val_accuracy: 0.4741\n",
      "Epoch 48/50\n",
      "620/620 [==============================] - 10s 15ms/step - loss: 0.1508 - accuracy: 0.9715 - val_loss: 4.5405 - val_accuracy: 0.4889\n",
      "Epoch 49/50\n",
      "620/620 [==============================] - 10s 15ms/step - loss: 0.1411 - accuracy: 0.9746 - val_loss: 4.7990 - val_accuracy: 0.4638\n",
      "Epoch 50/50\n",
      "620/620 [==============================] - 10s 15ms/step - loss: 0.1541 - accuracy: 0.9710 - val_loss: 4.4605 - val_accuracy: 0.4704\n"
     ]
    }
   ],
   "source": [
    "epochs=50\n",
    "history = model.fit(\n",
    "  train_ds,\n",
    "  validation_data=val_ds,\n",
    "  epochs=epochs\n",
    ")"
   ]
  },
  {
   "cell_type": "markdown",
   "metadata": {
    "id": "w7bJQ47KMRWC"
   },
   "source": [
    "**The accuracy for Run 2:**"
   ]
  },
  {
   "cell_type": "code",
   "execution_count": null,
   "metadata": {
    "colab": {
     "base_uri": "https://localhost:8080/",
     "height": 499
    },
    "id": "tIFD_mGzsYhg",
    "outputId": "d0fd4d0e-a2ca-4a7c-c32b-298d20952282"
   },
   "outputs": [
    {
     "data": {
      "image/png": "[encoded data removed]",
      "text/plain": [
       "<Figure size 576x576 with 2 Axes>"
      ]
     },
     "metadata": {
      "needs_background": "light"
     },
     "output_type": "display_data"
    }
   ],
   "source": [
    "acc = history.history['accuracy']\n",
    "val_acc = history.history['val_accuracy']\n",
    "\n",
    "loss = history.history['loss']\n",
    "val_loss = history.history['val_loss']\n",
    "\n",
    "epochs_range = range(epochs)\n",
    "\n",
    "plt.figure(figsize=(8, 8))\n",
    "plt.subplot(1, 2, 1)\n",
    "plt.plot(epochs_range, acc, label='Training Accuracy')\n",
    "plt.plot(epochs_range, val_acc, label='Validation Accuracy')\n",
    "plt.legend(loc='lower right')\n",
    "plt.title('Training and Validation Accuracy')\n",
    "\n",
    "plt.subplot(1, 2, 2)\n",
    "plt.plot(epochs_range, loss, label='Training Loss')\n",
    "plt.plot(epochs_range, val_loss, label='Validation Loss')\n",
    "plt.legend(loc='upper right')\n",
    "plt.title('Training and Validation Loss')\n",
    "plt.show()"
   ]
  },
  {
   "cell_type": "code",
   "execution_count": null,
   "metadata": {
    "colab": {
     "base_uri": "https://localhost:8080/",
     "height": 1000
    },
    "id": "SBdq7O2QsbVm",
    "outputId": "d1cf734d-b179-417a-f842-2c6fcdcaf4a8"
   },
   "outputs": [
    {
     "name": "stdout",
     "output_type": "stream",
     "text": [
      "43/43 [==============================] - 0s 9ms/step\n",
      "\n",
      "Testing Classification Report:\n",
      "\n",
      "               precision    recall  f1-score   support\n",
      "\n",
      "           0       0.61      0.47      0.53        36\n",
      "           1       0.20      0.45      0.28        22\n",
      "           2       0.60      0.41      0.49        29\n",
      "           3       0.21      0.19      0.20        31\n",
      "           4       0.48      0.46      0.47        26\n",
      "           5       0.63      0.73      0.68        30\n",
      "           6       0.77      0.89      0.83        19\n",
      "           7       0.53      0.30      0.38        27\n",
      "           8       0.69      0.32      0.44        28\n",
      "           9       0.65      0.69      0.67        29\n",
      "          10       0.32      0.47      0.38        34\n",
      "          11       0.46      0.48      0.47        33\n",
      "          12       0.89      0.78      0.83        40\n",
      "          13       0.71      0.76      0.74        33\n",
      "          14       0.28      0.27      0.28        33\n",
      "          15       0.35      0.29      0.31        28\n",
      "          16       0.50      0.53      0.51        34\n",
      "          17       0.87      0.82      0.84        33\n",
      "          18       0.26      0.36      0.31        25\n",
      "          19       0.52      0.46      0.49        28\n",
      "          20       0.93      0.76      0.84        34\n",
      "          21       0.79      0.73      0.76        26\n",
      "          22       0.80      0.80      0.80        35\n",
      "          23       0.44      0.34      0.39        32\n",
      "          24       0.57      0.41      0.48        29\n",
      "          25       0.36      0.45      0.40        33\n",
      "          26       0.48      0.44      0.46        32\n",
      "          27       0.21      0.14      0.17        35\n",
      "          28       0.72      0.64      0.68        28\n",
      "          29       0.27      0.59      0.37        27\n",
      "          30       0.19      0.33      0.24        33\n",
      "          31       0.29      0.25      0.27        24\n",
      "          32       0.27      0.22      0.24        27\n",
      "          33       0.30      0.29      0.29        28\n",
      "          34       0.41      0.52      0.45        29\n",
      "          35       0.70      0.82      0.76        34\n",
      "          36       0.30      0.26      0.28        27\n",
      "          37       0.73      0.35      0.47        23\n",
      "          38       0.60      0.27      0.37        22\n",
      "          39       0.37      0.34      0.36        29\n",
      "          40       0.38      0.26      0.31        31\n",
      "          41       0.21      0.21      0.21        28\n",
      "          42       0.57      0.43      0.49        37\n",
      "          43       0.19      0.17      0.18        29\n",
      "          44       0.47      0.64      0.55        42\n",
      "\n",
      "    accuracy                           0.47      1352\n",
      "   macro avg       0.49      0.46      0.47      1352\n",
      "weighted avg       0.50      0.47      0.47      1352\n",
      "\n",
      "\n",
      "Testing Confusion Matrix:\n",
      "\n"
     ]
    },
    {
     "data": {
      "text/plain": [
       "<Figure size 432x288 with 0 Axes>"
      ]
     },
     "execution_count": 18,
     "metadata": {},
     "output_type": "execute_result"
    },
    {
     "data": {
      "image/png": "[encoded data removed]",
      "text/plain": [
       "<Figure size 432x288 with 2 Axes>"
      ]
     },
     "metadata": {
      "needs_background": "light"
     },
     "output_type": "display_data"
    },
    {
     "data": {
      "text/plain": [
       "<Figure size 432x288 with 0 Axes>"
      ]
     },
     "metadata": {},
     "output_type": "display_data"
    }
   ],
   "source": [
    "# predict the labels of the test set\n",
    "predictedY = model.predict(val_ds)\n",
    "predictedY = np.argmax(predictedY, axis=1)\n",
    "testY = np.concatenate([y for x, y in val_ds], axis=0)\n",
    "\n",
    "# print quality metricsl\n",
    "print('\\nTesting Classification Report:\\n\\n', classification_report(testY, predictedY))\n",
    "\n",
    "print('\\nTesting Confusion Matrix:\\n')\n",
    "\n",
    "heatmap(confusion_matrix(testY, predictedY))\n",
    "plt.figure()"
   ]
  },
  {
   "cell_type": "markdown",
   "metadata": {
    "id": "9p1k33DHMXim"
   },
   "source": [
    "**Run 3:**\n",
    "in this run more layers have been added to check the improvement.\n",
    "Also, the optimizer in this run is SGD with learning rate= 0.01.\n",
    "In addition, the L2 regularizer is much more than the previous models, to test the result."
   ]
  },
  {
   "cell_type": "code",
   "execution_count": null,
   "metadata": {
    "colab": {
     "base_uri": "https://localhost:8080/"
    },
    "id": "gg6-iyZivx1K",
    "outputId": "41e86e97-1192-4d51-cc03-11e721c67c66"
   },
   "outputs": [
    {
     "name": "stdout",
     "output_type": "stream",
     "text": [
      "Model: \"sequential_2\"\n",
      "_________________________________________________________________\n",
      " Layer (type)                Output Shape              Param #   \n",
      "=================================================================\n",
      " rescaling_4 (Rescaling)     (None, 256, 256, 3)       0         \n",
      "                                                                 \n",
      " conv2d_7 (Conv2D)           (None, 256, 256, 32)      896       \n",
      "                                                                 \n",
      " max_pooling2d_7 (MaxPooling  (None, 128, 128, 32)     0         \n",
      " 2D)                                                             \n",
      "                                                                 \n",
      " dropout_5 (Dropout)         (None, 128, 128, 32)      0         \n",
      "                                                                 \n",
      " conv2d_8 (Conv2D)           (None, 128, 128, 64)      18496     \n",
      "                                                                 \n",
      " max_pooling2d_8 (MaxPooling  (None, 64, 64, 64)       0         \n",
      " 2D)                                                             \n",
      "                                                                 \n",
      " dropout_6 (Dropout)         (None, 64, 64, 64)        0         \n",
      "                                                                 \n",
      " conv2d_9 (Conv2D)           (None, 64, 64, 128)       73856     \n",
      "                                                                 \n",
      " max_pooling2d_9 (MaxPooling  (None, 32, 32, 128)      0         \n",
      " 2D)                                                             \n",
      "                                                                 \n",
      " dropout_7 (Dropout)         (None, 32, 32, 128)       0         \n",
      "                                                                 \n",
      " conv2d_10 (Conv2D)          (None, 32, 32, 256)       295168    \n",
      "                                                                 \n",
      " max_pooling2d_10 (MaxPoolin  (None, 16, 16, 256)      0         \n",
      " g2D)                                                            \n",
      "                                                                 \n",
      " flatten_2 (Flatten)         (None, 65536)             0         \n",
      "                                                                 \n",
      " dense_4 (Dense)             (None, 256)               16777472  \n",
      "                                                                 \n",
      " dense_5 (Dense)             (None, 45)                11565     \n",
      "                                                                 \n",
      "=================================================================\n",
      "Total params: 17,177,453\n",
      "Trainable params: 17,177,453\n",
      "Non-trainable params: 0\n",
      "_________________________________________________________________\n"
     ]
    }
   ],
   "source": [
    "lambda2 = 0.02\n",
    "\n",
    "model = Sequential([\n",
    "  layers.Rescaling(1./255, input_shape=(img_height, img_width, 3)),\n",
    "  layers.Conv2D(32, 3, padding='same', activation='relu', kernel_regularizer = l2(lambda2)),\n",
    "  layers.MaxPooling2D(),\n",
    "  layers.Dropout(0.25),\n",
    "  layers.Conv2D(64, 3, padding='same', activation='relu', kernel_regularizer = l2(lambda2)),\n",
    "  layers.MaxPooling2D(),\n",
    "  layers.Dropout(0.25),\n",
    "  layers.Conv2D(128, 3, padding='same', activation='relu', kernel_regularizer = l2(lambda2)),\n",
    "  layers.MaxPooling2D(),\n",
    "  layers.Dropout(0.25),\n",
    "  layers.Conv2D(256, 3, padding='same', activation='relu', kernel_regularizer = l2(lambda2)),\n",
    "  layers.MaxPooling2D(),\n",
    "  layers.Flatten(),\n",
    "  layers.Dense(256, activation='relu'),\n",
    "  layers.Dense(num_classes)\n",
    "])\n",
    "model.compile(optimizer=SGD(0.01), loss=tf.keras.losses.SparseCategoricalCrossentropy(from_logits=True),\n",
    "              metrics=['accuracy'])\n",
    "model.summary()"
   ]
  },
  {
   "cell_type": "code",
   "execution_count": null,
   "metadata": {
    "colab": {
     "base_uri": "https://localhost:8080/"
    },
    "id": "jKxcY0APv73p",
    "outputId": "68b5d9e9-5c10-470f-ae1c-ccb86fcf3b28"
   },
   "outputs": [
    {
     "name": "stdout",
     "output_type": "stream",
     "text": [
      "Epoch 1/50\n",
      "620/620 [==============================] - 15s 22ms/step - loss: 8.5056 - accuracy: 0.0399 - val_loss: 7.2921 - val_accuracy: 0.0555\n",
      "Epoch 2/50\n",
      "620/620 [==============================] - 13s 21ms/step - loss: 6.3767 - accuracy: 0.0839 - val_loss: 5.7749 - val_accuracy: 0.0769\n",
      "Epoch 3/50\n",
      "620/620 [==============================] - 13s 21ms/step - loss: 5.1305 - accuracy: 0.1116 - val_loss: 4.6611 - val_accuracy: 0.1598\n",
      "Epoch 4/50\n",
      "620/620 [==============================] - 13s 21ms/step - loss: 4.2795 - accuracy: 0.1627 - val_loss: 3.8823 - val_accuracy: 0.1967\n",
      "Epoch 5/50\n",
      "620/620 [==============================] - 13s 21ms/step - loss: 3.6448 - accuracy: 0.2195 - val_loss: 3.3990 - val_accuracy: 0.2648\n",
      "Epoch 6/50\n",
      "620/620 [==============================] - 13s 21ms/step - loss: 3.2077 - accuracy: 0.2683 - val_loss: 3.1430 - val_accuracy: 0.2433\n",
      "Epoch 7/50\n",
      "620/620 [==============================] - 13s 21ms/step - loss: 2.9042 - accuracy: 0.3115 - val_loss: 2.9893 - val_accuracy: 0.2899\n",
      "Epoch 8/50\n",
      "620/620 [==============================] - 13s 21ms/step - loss: 2.6865 - accuracy: 0.3520 - val_loss: 2.7027 - val_accuracy: 0.3395\n",
      "Epoch 9/50\n",
      "620/620 [==============================] - 13s 21ms/step - loss: 2.4939 - accuracy: 0.3892 - val_loss: 2.7326 - val_accuracy: 0.3143\n",
      "Epoch 10/50\n",
      "620/620 [==============================] - 13s 21ms/step - loss: 2.3440 - accuracy: 0.4234 - val_loss: 2.6413 - val_accuracy: 0.3543\n",
      "Epoch 11/50\n",
      "620/620 [==============================] - 13s 21ms/step - loss: 2.1940 - accuracy: 0.4612 - val_loss: 3.0121 - val_accuracy: 0.2774\n",
      "Epoch 12/50\n",
      "620/620 [==============================] - 13s 21ms/step - loss: 2.0536 - accuracy: 0.4973 - val_loss: 2.6655 - val_accuracy: 0.3706\n",
      "Epoch 13/50\n",
      "620/620 [==============================] - 13s 21ms/step - loss: 1.9130 - accuracy: 0.5412 - val_loss: 2.6225 - val_accuracy: 0.3691\n",
      "Epoch 14/50\n",
      "620/620 [==============================] - 13s 21ms/step - loss: 1.8097 - accuracy: 0.5758 - val_loss: 2.7494 - val_accuracy: 0.3646\n",
      "Epoch 15/50\n",
      "620/620 [==============================] - 13s 21ms/step - loss: 1.6595 - accuracy: 0.6252 - val_loss: 2.9298 - val_accuracy: 0.3425\n",
      "Epoch 16/50\n",
      "620/620 [==============================] - 13s 21ms/step - loss: 1.5208 - accuracy: 0.6665 - val_loss: 2.8017 - val_accuracy: 0.3750\n",
      "Epoch 17/50\n",
      "620/620 [==============================] - 13s 21ms/step - loss: 1.3646 - accuracy: 0.7162 - val_loss: 3.1944 - val_accuracy: 0.3543\n",
      "Epoch 18/50\n",
      "620/620 [==============================] - 13s 21ms/step - loss: 1.2690 - accuracy: 0.7508 - val_loss: 3.2047 - val_accuracy: 0.3609\n",
      "Epoch 19/50\n",
      "620/620 [==============================] - 13s 21ms/step - loss: 1.1739 - accuracy: 0.7842 - val_loss: 3.1836 - val_accuracy: 0.3735\n",
      "Epoch 20/50\n",
      "620/620 [==============================] - 13s 21ms/step - loss: 1.0528 - accuracy: 0.8214 - val_loss: 3.6155 - val_accuracy: 0.2981\n",
      "Epoch 21/50\n",
      "620/620 [==============================] - 13s 21ms/step - loss: 0.9732 - accuracy: 0.8517 - val_loss: 3.2096 - val_accuracy: 0.4009\n",
      "Epoch 22/50\n",
      "620/620 [==============================] - 13s 21ms/step - loss: 0.9324 - accuracy: 0.8682 - val_loss: 3.2226 - val_accuracy: 0.3499\n",
      "Epoch 23/50\n",
      "620/620 [==============================] - 13s 21ms/step - loss: 0.8301 - accuracy: 0.8918 - val_loss: 3.7524 - val_accuracy: 0.3513\n",
      "Epoch 24/50\n",
      "620/620 [==============================] - 13s 21ms/step - loss: 0.7519 - accuracy: 0.9115 - val_loss: 3.9513 - val_accuracy: 0.3402\n",
      "Epoch 25/50\n",
      "620/620 [==============================] - 13s 21ms/step - loss: 0.7196 - accuracy: 0.9193 - val_loss: 3.5915 - val_accuracy: 0.3920\n",
      "Epoch 26/50\n",
      "620/620 [==============================] - 13s 21ms/step - loss: 0.6832 - accuracy: 0.9289 - val_loss: 3.5521 - val_accuracy: 0.3824\n",
      "Epoch 27/50\n",
      "620/620 [==============================] - 13s 21ms/step - loss: 0.7318 - accuracy: 0.9199 - val_loss: 3.9969 - val_accuracy: 0.3417\n",
      "Epoch 28/50\n",
      "620/620 [==============================] - 13s 21ms/step - loss: 0.6202 - accuracy: 0.9446 - val_loss: 3.9526 - val_accuracy: 0.3802\n",
      "Epoch 29/50\n",
      "620/620 [==============================] - 13s 21ms/step - loss: 0.6074 - accuracy: 0.9461 - val_loss: 6.3534 - val_accuracy: 0.1442\n",
      "Epoch 30/50\n",
      "620/620 [==============================] - 13s 21ms/step - loss: 0.6988 - accuracy: 0.9303 - val_loss: 3.5625 - val_accuracy: 0.3484\n",
      "Epoch 31/50\n",
      "620/620 [==============================] - 13s 21ms/step - loss: 0.6375 - accuracy: 0.9385 - val_loss: 3.8959 - val_accuracy: 0.3617\n",
      "Epoch 32/50\n",
      "620/620 [==============================] - 13s 22ms/step - loss: 0.6019 - accuracy: 0.9480 - val_loss: 4.0068 - val_accuracy: 0.3314\n",
      "Epoch 33/50\n",
      "620/620 [==============================] - 13s 22ms/step - loss: 0.5329 - accuracy: 0.9607 - val_loss: 3.9779 - val_accuracy: 0.3698\n",
      "Epoch 34/50\n",
      "620/620 [==============================] - 14s 22ms/step - loss: 0.5660 - accuracy: 0.9526 - val_loss: 3.6530 - val_accuracy: 0.3587\n",
      "Epoch 35/50\n",
      "620/620 [==============================] - 14s 22ms/step - loss: 0.6366 - accuracy: 0.9382 - val_loss: 3.9862 - val_accuracy: 0.3528\n",
      "Epoch 36/50\n",
      "620/620 [==============================] - 13s 22ms/step - loss: 0.5125 - accuracy: 0.9619 - val_loss: 3.8981 - val_accuracy: 0.3587\n",
      "Epoch 37/50\n",
      "620/620 [==============================] - 13s 22ms/step - loss: 0.5016 - accuracy: 0.9651 - val_loss: 4.0051 - val_accuracy: 0.3706\n",
      "Epoch 38/50\n",
      "620/620 [==============================] - 13s 21ms/step - loss: 0.4837 - accuracy: 0.9651 - val_loss: 3.9608 - val_accuracy: 0.3587\n",
      "Epoch 39/50\n",
      "620/620 [==============================] - 13s 22ms/step - loss: 0.4580 - accuracy: 0.9680 - val_loss: 4.0234 - val_accuracy: 0.3528\n",
      "Epoch 40/50\n",
      "620/620 [==============================] - 13s 22ms/step - loss: 0.4756 - accuracy: 0.9644 - val_loss: 3.9235 - val_accuracy: 0.3166\n",
      "Epoch 41/50\n",
      "620/620 [==============================] - 13s 22ms/step - loss: 0.4697 - accuracy: 0.9681 - val_loss: 4.1079 - val_accuracy: 0.3432\n",
      "Epoch 42/50\n",
      "620/620 [==============================] - 13s 21ms/step - loss: 0.4657 - accuracy: 0.9670 - val_loss: 3.9351 - val_accuracy: 0.3373\n",
      "Epoch 43/50\n",
      "620/620 [==============================] - 13s 21ms/step - loss: 0.4622 - accuracy: 0.9675 - val_loss: 4.0556 - val_accuracy: 0.2877\n",
      "Epoch 44/50\n",
      "620/620 [==============================] - 13s 21ms/step - loss: 0.4133 - accuracy: 0.9786 - val_loss: 4.6102 - val_accuracy: 0.2751\n",
      "Epoch 45/50\n",
      "620/620 [==============================] - 13s 21ms/step - loss: 0.4400 - accuracy: 0.9696 - val_loss: 4.0474 - val_accuracy: 0.3499\n",
      "Epoch 46/50\n",
      "620/620 [==============================] - 13s 22ms/step - loss: 0.3929 - accuracy: 0.9795 - val_loss: 4.1581 - val_accuracy: 0.3417\n",
      "Epoch 47/50\n",
      "620/620 [==============================] - 13s 22ms/step - loss: 0.4185 - accuracy: 0.9719 - val_loss: 4.0141 - val_accuracy: 0.3402\n",
      "Epoch 48/50\n",
      "620/620 [==============================] - 13s 22ms/step - loss: 0.4251 - accuracy: 0.9703 - val_loss: 3.7976 - val_accuracy: 0.3432\n",
      "Epoch 49/50\n",
      "620/620 [==============================] - 13s 21ms/step - loss: 0.3855 - accuracy: 0.9804 - val_loss: 4.0668 - val_accuracy: 0.3336\n",
      "Epoch 50/50\n",
      "620/620 [==============================] - 13s 21ms/step - loss: 0.4051 - accuracy: 0.9743 - val_loss: 3.9234 - val_accuracy: 0.3225\n"
     ]
    }
   ],
   "source": [
    "epochs=50\n",
    "history = model.fit(\n",
    "  train_ds,\n",
    "  validation_data=val_ds,\n",
    "  epochs=epochs\n",
    ")"
   ]
  },
  {
   "cell_type": "markdown",
   "metadata": {
    "id": "cW2hwhvLM-Rx"
   },
   "source": [
    "**The accuracy for Run 3:**"
   ]
  },
  {
   "cell_type": "code",
   "execution_count": null,
   "metadata": {
    "colab": {
     "base_uri": "https://localhost:8080/",
     "height": 499
    },
    "id": "QqluhZKHyLqa",
    "outputId": "9bbd4eab-561a-4eca-88ec-cf118247b741"
   },
   "outputs": [
    {
     "data": {
      "image/png": "[encoded data removed]",
      "text/plain": [
       "<Figure size 576x576 with 2 Axes>"
      ]
     },
     "metadata": {
      "needs_background": "light"
     },
     "output_type": "display_data"
    }
   ],
   "source": [
    "acc = history.history['accuracy']\n",
    "val_acc = history.history['val_accuracy']\n",
    "\n",
    "loss = history.history['loss']\n",
    "val_loss = history.history['val_loss']\n",
    "\n",
    "epochs_range = range(epochs)\n",
    "\n",
    "plt.figure(figsize=(8, 8))\n",
    "plt.subplot(1, 2, 1)\n",
    "plt.plot(epochs_range, acc, label='Training Accuracy')\n",
    "plt.plot(epochs_range, val_acc, label='Validation Accuracy')\n",
    "plt.legend(loc='lower right')\n",
    "plt.title('Training and Validation Accuracy')\n",
    "\n",
    "plt.subplot(1, 2, 2)\n",
    "plt.plot(epochs_range, loss, label='Training Loss')\n",
    "plt.plot(epochs_range, val_loss, label='Validation Loss')\n",
    "plt.legend(loc='upper right')\n",
    "plt.title('Training and Validation Loss')\n",
    "plt.show()"
   ]
  },
  {
   "cell_type": "code",
   "execution_count": null,
   "metadata": {
    "colab": {
     "base_uri": "https://localhost:8080/",
     "height": 1000
    },
    "id": "SujenlEuyPbf",
    "outputId": "90648626-bc53-47df-a741-58082e09933d"
   },
   "outputs": [
    {
     "name": "stdout",
     "output_type": "stream",
     "text": [
      "43/43 [==============================] - 1s 10ms/step\n",
      "\n",
      "Testing Classification Report:\n",
      "\n",
      "               precision    recall  f1-score   support\n",
      "\n",
      "           0       0.39      0.39      0.39        36\n",
      "           1       0.14      0.18      0.16        22\n",
      "           2       0.37      0.45      0.41        29\n",
      "           3       0.10      0.06      0.08        31\n",
      "           4       0.41      0.58      0.48        26\n",
      "           5       0.44      0.53      0.48        30\n",
      "           6       0.55      0.32      0.40        19\n",
      "           7       0.27      0.26      0.26        27\n",
      "           8       0.27      0.21      0.24        28\n",
      "           9       0.29      0.52      0.38        29\n",
      "          10       0.13      0.24      0.17        34\n",
      "          11       0.19      0.15      0.17        33\n",
      "          12       0.71      0.90      0.79        40\n",
      "          13       0.43      0.55      0.48        33\n",
      "          14       0.26      0.27      0.26        33\n",
      "          15       0.25      0.25      0.25        28\n",
      "          16       0.27      0.21      0.23        34\n",
      "          17       0.50      0.39      0.44        33\n",
      "          18       0.17      0.20      0.19        25\n",
      "          19       0.35      0.32      0.33        28\n",
      "          20       0.79      0.79      0.79        34\n",
      "          21       0.46      0.69      0.55        26\n",
      "          22       0.63      0.77      0.69        35\n",
      "          23       0.17      0.19      0.18        32\n",
      "          24       0.16      0.10      0.12        29\n",
      "          25       0.20      0.09      0.13        33\n",
      "          26       0.35      0.28      0.31        32\n",
      "          27       0.15      0.11      0.13        35\n",
      "          28       0.29      0.29      0.29        28\n",
      "          29       0.33      0.22      0.27        27\n",
      "          30       0.27      0.30      0.29        33\n",
      "          31       0.09      0.17      0.12        24\n",
      "          32       0.11      0.11      0.11        27\n",
      "          33       0.39      0.25      0.30        28\n",
      "          34       0.45      0.31      0.37        29\n",
      "          35       0.55      0.35      0.43        34\n",
      "          36       0.18      0.15      0.16        27\n",
      "          37       0.55      0.52      0.53        23\n",
      "          38       0.21      0.36      0.26        22\n",
      "          39       0.31      0.38      0.34        29\n",
      "          40       0.30      0.19      0.24        31\n",
      "          41       0.14      0.07      0.10        28\n",
      "          42       0.24      0.19      0.21        37\n",
      "          43       0.11      0.07      0.08        29\n",
      "          44       0.28      0.31      0.29        42\n",
      "\n",
      "    accuracy                           0.32      1352\n",
      "   macro avg       0.32      0.32      0.31      1352\n",
      "weighted avg       0.32      0.32      0.31      1352\n",
      "\n",
      "\n",
      "Testing Confusion Matrix:\n",
      "\n"
     ]
    },
    {
     "data": {
      "text/plain": [
       "<Figure size 432x288 with 0 Axes>"
      ]
     },
     "execution_count": 22,
     "metadata": {},
     "output_type": "execute_result"
    },
    {
     "data": {
      "image/png": "[encoded data removed]",
      "text/plain": [
       "<Figure size 432x288 with 2 Axes>"
      ]
     },
     "metadata": {
      "needs_background": "light"
     },
     "output_type": "display_data"
    },
    {
     "data": {
      "text/plain": [
       "<Figure size 432x288 with 0 Axes>"
      ]
     },
     "metadata": {},
     "output_type": "display_data"
    }
   ],
   "source": [
    "# predict the labels of the test set\n",
    "predictedY = model.predict(val_ds)\n",
    "predictedY = np.argmax(predictedY, axis=1)\n",
    "testY = np.concatenate([y for x, y in val_ds], axis=0)\n",
    "\n",
    "# print quality metricsl\n",
    "print('\\nTesting Classification Report:\\n\\n', classification_report(testY, predictedY))\n",
    "\n",
    "print('\\nTesting Confusion Matrix:\\n')\n",
    "\n",
    "heatmap(confusion_matrix(testY, predictedY))\n",
    "plt.figure()"
   ]
  },
  {
   "cell_type": "markdown",
   "metadata": {
    "id": "k2bv_e1TNCP8"
   },
   "source": [
    "**Run 4:**\n",
    "The activation function in some layers are changed to softmax."
   ]
  },
  {
   "cell_type": "code",
   "execution_count": null,
   "metadata": {
    "colab": {
     "base_uri": "https://localhost:8080/"
    },
    "id": "KnK_n5ZkykD1",
    "outputId": "0db5cb68-6010-430d-8d0e-734374f23047"
   },
   "outputs": [
    {
     "name": "stdout",
     "output_type": "stream",
     "text": [
      "Model: \"sequential_3\"\n",
      "_________________________________________________________________\n",
      " Layer (type)                Output Shape              Param #   \n",
      "=================================================================\n",
      " rescaling_5 (Rescaling)     (None, 256, 256, 3)       0         \n",
      "                                                                 \n",
      " conv2d_11 (Conv2D)          (None, 256, 256, 32)      896       \n",
      "                                                                 \n",
      " max_pooling2d_11 (MaxPoolin  (None, 128, 128, 32)     0         \n",
      " g2D)                                                            \n",
      "                                                                 \n",
      " dropout_8 (Dropout)         (None, 128, 128, 32)      0         \n",
      "                                                                 \n",
      " conv2d_12 (Conv2D)          (None, 128, 128, 64)      18496     \n",
      "                                                                 \n",
      " max_pooling2d_12 (MaxPoolin  (None, 64, 64, 64)       0         \n",
      " g2D)                                                            \n",
      "                                                                 \n",
      " dropout_9 (Dropout)         (None, 64, 64, 64)        0         \n",
      "                                                                 \n",
      " conv2d_13 (Conv2D)          (None, 64, 64, 128)       73856     \n",
      "                                                                 \n",
      " max_pooling2d_13 (MaxPoolin  (None, 32, 32, 128)      0         \n",
      " g2D)                                                            \n",
      "                                                                 \n",
      " dropout_10 (Dropout)        (None, 32, 32, 128)       0         \n",
      "                                                                 \n",
      " conv2d_14 (Conv2D)          (None, 32, 32, 256)       295168    \n",
      "                                                                 \n",
      " max_pooling2d_14 (MaxPoolin  (None, 16, 16, 256)      0         \n",
      " g2D)                                                            \n",
      "                                                                 \n",
      " flatten_3 (Flatten)         (None, 65536)             0         \n",
      "                                                                 \n",
      " dense_6 (Dense)             (None, 128)               8388736   \n",
      "                                                                 \n",
      " dense_7 (Dense)             (None, 45)                5805      \n",
      "                                                                 \n",
      "=================================================================\n",
      "Total params: 8,782,957\n",
      "Trainable params: 8,782,957\n",
      "Non-trainable params: 0\n",
      "_________________________________________________________________\n"
     ]
    }
   ],
   "source": [
    "lambda2 = 0.002\n",
    "\n",
    "model = Sequential([\n",
    "  layers.Rescaling(1./255, input_shape=(img_height, img_width, 3)),\n",
    "  layers.Conv2D(32, 3, padding='same', activation='relu', kernel_regularizer = l2(lambda2)),\n",
    "  layers.MaxPooling2D(),\n",
    "  layers.Dropout(0.25),\n",
    "  layers.Conv2D(64, 3, padding='same', activation='relu', kernel_regularizer = l2(lambda2)),\n",
    "  layers.MaxPooling2D(),\n",
    "  layers.Dropout(0.25),\n",
    "  layers.Conv2D(128, 3, padding='same', activation='relu', kernel_regularizer = l2(lambda2)),\n",
    "  layers.MaxPooling2D(),\n",
    "  layers.Dropout(0.25),\n",
    "  layers.Conv2D(256, 3, padding='same', activation='relu', kernel_regularizer = l2(lambda2)),\n",
    "  layers.MaxPooling2D(),\n",
    "  layers.Flatten(),\n",
    "  layers.Dense(128, activation='softmax'),\n",
    "  layers.Dense(num_classes)\n",
    "])\n",
    "model.compile(optimizer=SGD(0.01), loss=tf.keras.losses.SparseCategoricalCrossentropy(from_logits=True), metrics=['accuracy'])\n",
    "model.summary()"
   ]
  },
  {
   "cell_type": "code",
   "execution_count": null,
   "metadata": {
    "colab": {
     "base_uri": "https://localhost:8080/"
    },
    "id": "JlgwSbgfyy3D",
    "outputId": "5ff440d7-44ef-4790-b44d-2f0d2b752e0e"
   },
   "outputs": [
    {
     "name": "stdout",
     "output_type": "stream",
     "text": [
      "Epoch 1/50\n",
      "620/620 [==============================] - 14s 21ms/step - loss: 4.3997 - accuracy: 0.0223 - val_loss: 4.3849 - val_accuracy: 0.0229\n",
      "Epoch 2/50\n",
      "620/620 [==============================] - 13s 21ms/step - loss: 4.3707 - accuracy: 0.0232 - val_loss: 4.3569 - val_accuracy: 0.0163\n",
      "Epoch 3/50\n",
      "620/620 [==============================] - 13s 21ms/step - loss: 4.3431 - accuracy: 0.0233 - val_loss: 4.3303 - val_accuracy: 0.0163\n",
      "Epoch 4/50\n",
      "620/620 [==============================] - 13s 21ms/step - loss: 4.3161 - accuracy: 0.0260 - val_loss: 4.3049 - val_accuracy: 0.0163\n",
      "Epoch 5/50\n",
      "620/620 [==============================] - 13s 21ms/step - loss: 4.2872 - accuracy: 0.0236 - val_loss: 4.2802 - val_accuracy: 0.0163\n",
      "Epoch 6/50\n",
      "620/620 [==============================] - 13s 21ms/step - loss: 4.2591 - accuracy: 0.0233 - val_loss: 4.2568 - val_accuracy: 0.0274\n",
      "Epoch 7/50\n",
      "620/620 [==============================] - 13s 21ms/step - loss: 4.2308 - accuracy: 0.0346 - val_loss: 4.2341 - val_accuracy: 0.0207\n",
      "Epoch 8/50\n",
      "620/620 [==============================] - 13s 21ms/step - loss: 4.2026 - accuracy: 0.0381 - val_loss: 4.2106 - val_accuracy: 0.0251\n",
      "Epoch 9/50\n",
      "620/620 [==============================] - 13s 21ms/step - loss: 4.1751 - accuracy: 0.0446 - val_loss: 4.1860 - val_accuracy: 0.0392\n",
      "Epoch 10/50\n",
      "620/620 [==============================] - 13s 21ms/step - loss: 4.1489 - accuracy: 0.0452 - val_loss: 4.1634 - val_accuracy: 0.0392\n",
      "Epoch 11/50\n",
      "620/620 [==============================] - 13s 21ms/step - loss: 4.1239 - accuracy: 0.0454 - val_loss: 4.1398 - val_accuracy: 0.0429\n",
      "Epoch 12/50\n",
      "620/620 [==============================] - 13s 21ms/step - loss: 4.1001 - accuracy: 0.0458 - val_loss: 4.1124 - val_accuracy: 0.0392\n",
      "Epoch 13/50\n",
      "620/620 [==============================] - 13s 21ms/step - loss: 4.0773 - accuracy: 0.0463 - val_loss: 4.0886 - val_accuracy: 0.0414\n",
      "Epoch 14/50\n",
      "620/620 [==============================] - 13s 21ms/step - loss: 4.0556 - accuracy: 0.0482 - val_loss: 4.0711 - val_accuracy: 0.0407\n",
      "Epoch 15/50\n",
      "620/620 [==============================] - 13s 21ms/step - loss: 4.0350 - accuracy: 0.0485 - val_loss: 4.0571 - val_accuracy: 0.0577\n",
      "Epoch 16/50\n",
      "620/620 [==============================] - 13s 21ms/step - loss: 4.0151 - accuracy: 0.0487 - val_loss: 4.0280 - val_accuracy: 0.0525\n",
      "Epoch 17/50\n",
      "620/620 [==============================] - 13s 21ms/step - loss: 3.9962 - accuracy: 0.0482 - val_loss: 4.0076 - val_accuracy: 0.0503\n",
      "Epoch 18/50\n",
      "620/620 [==============================] - 13s 21ms/step - loss: 3.9782 - accuracy: 0.0494 - val_loss: 3.9926 - val_accuracy: 0.0488\n",
      "Epoch 19/50\n",
      "620/620 [==============================] - 13s 21ms/step - loss: 3.9608 - accuracy: 0.0491 - val_loss: 3.9745 - val_accuracy: 0.0481\n",
      "Epoch 20/50\n",
      "620/620 [==============================] - 13s 21ms/step - loss: 3.9444 - accuracy: 0.0491 - val_loss: 3.9490 - val_accuracy: 0.0481\n",
      "Epoch 21/50\n",
      "620/620 [==============================] - 13s 21ms/step - loss: 3.9285 - accuracy: 0.0489 - val_loss: 3.9369 - val_accuracy: 0.0496\n",
      "Epoch 22/50\n",
      "620/620 [==============================] - 13s 21ms/step - loss: 3.9136 - accuracy: 0.0516 - val_loss: 3.9311 - val_accuracy: 0.0466\n",
      "Epoch 23/50\n",
      "620/620 [==============================] - 13s 21ms/step - loss: 3.8991 - accuracy: 0.0474 - val_loss: 3.9145 - val_accuracy: 0.0496\n",
      "Epoch 24/50\n",
      "620/620 [==============================] - 13s 21ms/step - loss: 3.8851 - accuracy: 0.0497 - val_loss: 3.9019 - val_accuracy: 0.0488\n",
      "Epoch 25/50\n",
      "620/620 [==============================] - 13s 21ms/step - loss: 3.8721 - accuracy: 0.0486 - val_loss: 3.8785 - val_accuracy: 0.0488\n",
      "Epoch 26/50\n",
      "620/620 [==============================] - 13s 21ms/step - loss: 3.8594 - accuracy: 0.0495 - val_loss: 3.8652 - val_accuracy: 0.0481\n",
      "Epoch 27/50\n",
      "620/620 [==============================] - 13s 21ms/step - loss: 3.8474 - accuracy: 0.0496 - val_loss: 3.8514 - val_accuracy: 0.0481\n",
      "Epoch 28/50\n",
      "620/620 [==============================] - 13s 21ms/step - loss: 3.8359 - accuracy: 0.0484 - val_loss: 3.8393 - val_accuracy: 0.0473\n",
      "Epoch 29/50\n",
      "620/620 [==============================] - 13s 21ms/step - loss: 3.8247 - accuracy: 0.0512 - val_loss: 3.8223 - val_accuracy: 0.0488\n",
      "Epoch 30/50\n",
      "620/620 [==============================] - 13s 21ms/step - loss: 3.8143 - accuracy: 0.0494 - val_loss: 3.8162 - val_accuracy: 0.0451\n",
      "Epoch 31/50\n",
      "620/620 [==============================] - 13s 21ms/step - loss: 3.8043 - accuracy: 0.0492 - val_loss: 3.8123 - val_accuracy: 0.0488\n",
      "Epoch 32/50\n",
      "620/620 [==============================] - 13s 21ms/step - loss: 3.7944 - accuracy: 0.0485 - val_loss: 3.8004 - val_accuracy: 0.0510\n",
      "Epoch 33/50\n",
      "620/620 [==============================] - 13s 21ms/step - loss: 3.7851 - accuracy: 0.0517 - val_loss: 3.7918 - val_accuracy: 0.0503\n",
      "Epoch 34/50\n",
      "620/620 [==============================] - 13s 21ms/step - loss: 3.7762 - accuracy: 0.0537 - val_loss: 3.7807 - val_accuracy: 0.0496\n",
      "Epoch 35/50\n",
      "620/620 [==============================] - 13s 21ms/step - loss: 3.7679 - accuracy: 0.0520 - val_loss: 3.7661 - val_accuracy: 0.0510\n",
      "Epoch 36/50\n",
      "620/620 [==============================] - 13s 21ms/step - loss: 3.7594 - accuracy: 0.0501 - val_loss: 3.7691 - val_accuracy: 0.0510\n",
      "Epoch 37/50\n",
      "620/620 [==============================] - 13s 21ms/step - loss: 3.7511 - accuracy: 0.0535 - val_loss: 3.7696 - val_accuracy: 0.0503\n",
      "Epoch 38/50\n",
      "620/620 [==============================] - 13s 21ms/step - loss: 3.7440 - accuracy: 0.0510 - val_loss: 3.7443 - val_accuracy: 0.0510\n",
      "Epoch 39/50\n",
      "620/620 [==============================] - 13s 21ms/step - loss: 3.7366 - accuracy: 0.0525 - val_loss: 3.7398 - val_accuracy: 0.0533\n",
      "Epoch 40/50\n",
      "620/620 [==============================] - 13s 21ms/step - loss: 3.7289 - accuracy: 0.0541 - val_loss: 3.7359 - val_accuracy: 0.0525\n",
      "Epoch 41/50\n",
      "620/620 [==============================] - 13s 21ms/step - loss: 3.7214 - accuracy: 0.0569 - val_loss: 3.7270 - val_accuracy: 0.0540\n",
      "Epoch 42/50\n",
      "620/620 [==============================] - 13s 21ms/step - loss: 3.7137 - accuracy: 0.0571 - val_loss: 3.7099 - val_accuracy: 0.0592\n",
      "Epoch 43/50\n",
      "620/620 [==============================] - 13s 21ms/step - loss: 3.7052 - accuracy: 0.0595 - val_loss: 3.7001 - val_accuracy: 0.0562\n",
      "Epoch 44/50\n",
      "620/620 [==============================] - 13s 21ms/step - loss: 3.6970 - accuracy: 0.0606 - val_loss: 3.6924 - val_accuracy: 0.0577\n",
      "Epoch 45/50\n",
      "620/620 [==============================] - 13s 21ms/step - loss: 3.6890 - accuracy: 0.0626 - val_loss: 3.6843 - val_accuracy: 0.0607\n",
      "Epoch 46/50\n",
      "620/620 [==============================] - 13s 21ms/step - loss: 3.6817 - accuracy: 0.0614 - val_loss: 3.6816 - val_accuracy: 0.0570\n",
      "Epoch 47/50\n",
      "620/620 [==============================] - 13s 21ms/step - loss: 3.6749 - accuracy: 0.0617 - val_loss: 3.6873 - val_accuracy: 0.0643\n",
      "Epoch 48/50\n",
      "620/620 [==============================] - 13s 21ms/step - loss: 3.6679 - accuracy: 0.0595 - val_loss: 3.6622 - val_accuracy: 0.0636\n",
      "Epoch 49/50\n",
      "620/620 [==============================] - 13s 21ms/step - loss: 3.6604 - accuracy: 0.0615 - val_loss: 3.6554 - val_accuracy: 0.0636\n",
      "Epoch 50/50\n",
      "620/620 [==============================] - 13s 21ms/step - loss: 3.6540 - accuracy: 0.0611 - val_loss: 3.6496 - val_accuracy: 0.0643\n"
     ]
    }
   ],
   "source": [
    "epochs=50\n",
    "history = model.fit(\n",
    "  train_ds,\n",
    "  validation_data=val_ds,\n",
    "  epochs=epochs\n",
    ")"
   ]
  },
  {
   "cell_type": "markdown",
   "metadata": {
    "id": "fHKCG4WyNpLa"
   },
   "source": [
    "**The accuracy for Run 4:**"
   ]
  },
  {
   "cell_type": "code",
   "execution_count": null,
   "metadata": {
    "colab": {
     "base_uri": "https://localhost:8080/",
     "height": 499
    },
    "id": "_gWweAia3_Hc",
    "outputId": "6463e5ca-835e-4fc7-9050-f22c24f67624"
   },
   "outputs": [
    {
     "data": {
      "image/png": "[encoded data removed]",
      "text/plain": [
       "<Figure size 576x576 with 2 Axes>"
      ]
     },
     "metadata": {
      "needs_background": "light"
     },
     "output_type": "display_data"
    }
   ],
   "source": [
    "acc = history.history['accuracy']\n",
    "val_acc = history.history['val_accuracy']\n",
    "\n",
    "loss = history.history['loss']\n",
    "val_loss = history.history['val_loss']\n",
    "\n",
    "epochs_range = range(epochs)\n",
    "\n",
    "plt.figure(figsize=(8, 8))\n",
    "plt.subplot(1, 2, 1)\n",
    "plt.plot(epochs_range, acc, label='Training Accuracy')\n",
    "plt.plot(epochs_range, val_acc, label='Validation Accuracy')\n",
    "plt.legend(loc='lower right')\n",
    "plt.title('Training and Validation Accuracy')\n",
    "\n",
    "plt.subplot(1, 2, 2)\n",
    "plt.plot(epochs_range, loss, label='Training Loss')\n",
    "plt.plot(epochs_range, val_loss, label='Validation Loss')\n",
    "plt.legend(loc='upper right')\n",
    "plt.title('Training and Validation Loss')\n",
    "plt.show()"
   ]
  },
  {
   "cell_type": "code",
   "execution_count": null,
   "metadata": {
    "colab": {
     "base_uri": "https://localhost:8080/",
     "height": 1000
    },
    "id": "rE2UGIIi4D_z",
    "outputId": "20a1f145-0182-47d3-b0a9-19a958f3d1c2"
   },
   "outputs": [
    {
     "name": "stdout",
     "output_type": "stream",
     "text": [
      "43/43 [==============================] - 1s 11ms/step\n",
      "\n",
      "Testing Classification Report:\n",
      "\n",
      "               precision    recall  f1-score   support\n",
      "\n",
      "           0       0.03      0.08      0.04        36\n",
      "           1       0.06      0.09      0.07        22\n",
      "           2       0.00      0.00      0.00        29\n",
      "           3       0.00      0.00      0.00        31\n",
      "           4       0.00      0.00      0.00        26\n",
      "           5       0.04      0.17      0.06        30\n",
      "           6       0.00      0.00      0.00        19\n",
      "           7       0.00      0.00      0.00        27\n",
      "           8       0.00      0.00      0.00        28\n",
      "           9       0.00      0.00      0.00        29\n",
      "          10       0.00      0.00      0.00        34\n",
      "          11       0.00      0.00      0.00        33\n",
      "          12       0.00      0.00      0.00        40\n",
      "          13       0.00      0.00      0.00        33\n",
      "          14       0.00      0.00      0.00        33\n",
      "          15       0.05      0.50      0.09        28\n",
      "          16       0.04      0.18      0.07        34\n",
      "          17       0.00      0.00      0.00        33\n",
      "          18       0.00      0.00      0.00        25\n",
      "          19       0.00      0.00      0.00        28\n",
      "          20       0.00      0.00      0.00        34\n",
      "          21       0.00      0.00      0.00        26\n",
      "          22       0.18      0.94      0.30        35\n",
      "          23       0.00      0.00      0.00        32\n",
      "          24       0.00      0.00      0.00        29\n",
      "          25       0.00      0.00      0.00        33\n",
      "          26       0.00      0.00      0.00        32\n",
      "          27       0.00      0.00      0.00        35\n",
      "          28       0.00      0.00      0.00        28\n",
      "          29       0.00      0.00      0.00        27\n",
      "          30       0.00      0.00      0.00        33\n",
      "          31       0.00      0.00      0.00        24\n",
      "          32       0.00      0.00      0.00        27\n",
      "          33       0.00      0.00      0.00        28\n",
      "          34       0.00      0.00      0.00        29\n",
      "          35       0.00      0.00      0.00        34\n",
      "          36       0.00      0.00      0.00        27\n",
      "          37       0.07      1.00      0.13        23\n",
      "          38       0.00      0.00      0.00        22\n",
      "          39       0.05      0.03      0.04        29\n",
      "          40       0.00      0.00      0.00        31\n",
      "          41       0.00      0.00      0.00        28\n",
      "          42       0.00      0.00      0.00        37\n",
      "          43       0.00      0.00      0.00        29\n",
      "          44       0.00      0.00      0.00        42\n",
      "\n",
      "    accuracy                           0.06      1352\n",
      "   macro avg       0.01      0.07      0.02      1352\n",
      "weighted avg       0.01      0.06      0.02      1352\n",
      "\n",
      "\n",
      "Testing Confusion Matrix:\n",
      "\n"
     ]
    },
    {
     "data": {
      "text/plain": [
       "<Figure size 432x288 with 0 Axes>"
      ]
     },
     "execution_count": 26,
     "metadata": {},
     "output_type": "execute_result"
    },
    {
     "data": {
      "image/png": "[encoded data removed]",
      "text/plain": [
       "<Figure size 432x288 with 2 Axes>"
      ]
     },
     "metadata": {
      "needs_background": "light"
     },
     "output_type": "display_data"
    },
    {
     "data": {
      "text/plain": [
       "<Figure size 432x288 with 0 Axes>"
      ]
     },
     "metadata": {},
     "output_type": "display_data"
    }
   ],
   "source": [
    "# predict the labels of the test set\n",
    "predictedY = model.predict(val_ds)\n",
    "predictedY = np.argmax(predictedY, axis=1)\n",
    "testY = np.concatenate([y for x, y in val_ds], axis=0)\n",
    "\n",
    "# print quality metricsl\n",
    "print('\\nTesting Classification Report:\\n\\n', classification_report(testY, predictedY))\n",
    "\n",
    "print('\\nTesting Confusion Matrix:\\n')\n",
    "\n",
    "heatmap(confusion_matrix(testY, predictedY))\n",
    "plt.figure()"
   ]
  },
  {
   "cell_type": "markdown",
   "metadata": {
    "id": "KO_CgUmBNxBV"
   },
   "source": [
    "Run 5:\n",
    "Different layers and models have been tested in this run. "
   ]
  },
  {
   "cell_type": "code",
   "execution_count": null,
   "metadata": {
    "colab": {
     "base_uri": "https://localhost:8080/"
    },
    "id": "gNhT_joT4GBJ",
    "outputId": "b8e4f7d1-1eef-4c83-fb72-818ed3a418da"
   },
   "outputs": [
    {
     "name": "stdout",
     "output_type": "stream",
     "text": [
      "Model: \"sequential_4\"\n",
      "_________________________________________________________________\n",
      " Layer (type)                Output Shape              Param #   \n",
      "=================================================================\n",
      " rescaling_6 (Rescaling)     (None, 256, 256, 3)       0         \n",
      "                                                                 \n",
      " conv2d_15 (Conv2D)          (None, 256, 256, 32)      896       \n",
      "                                                                 \n",
      " max_pooling2d_15 (MaxPoolin  (None, 128, 128, 32)     0         \n",
      " g2D)                                                            \n",
      "                                                                 \n",
      " dropout_11 (Dropout)        (None, 128, 128, 32)      0         \n",
      "                                                                 \n",
      " conv2d_16 (Conv2D)          (None, 128, 128, 64)      18496     \n",
      "                                                                 \n",
      " max_pooling2d_16 (MaxPoolin  (None, 64, 64, 64)       0         \n",
      " g2D)                                                            \n",
      "                                                                 \n",
      " dropout_12 (Dropout)        (None, 64, 64, 64)        0         \n",
      "                                                                 \n",
      " conv2d_17 (Conv2D)          (None, 64, 64, 128)       73856     \n",
      "                                                                 \n",
      " max_pooling2d_17 (MaxPoolin  (None, 32, 32, 128)      0         \n",
      " g2D)                                                            \n",
      "                                                                 \n",
      " dropout_13 (Dropout)        (None, 32, 32, 128)       0         \n",
      "                                                                 \n",
      " conv2d_18 (Conv2D)          (None, 32, 32, 256)       295168    \n",
      "                                                                 \n",
      " max_pooling2d_18 (MaxPoolin  (None, 16, 16, 256)      0         \n",
      " g2D)                                                            \n",
      "                                                                 \n",
      " flatten_4 (Flatten)         (None, 65536)             0         \n",
      "                                                                 \n",
      " dense_8 (Dense)             (None, 128)               8388736   \n",
      "                                                                 \n",
      " dense_9 (Dense)             (None, 45)                5805      \n",
      "                                                                 \n",
      "=================================================================\n",
      "Total params: 8,782,957\n",
      "Trainable params: 8,782,957\n",
      "Non-trainable params: 0\n",
      "_________________________________________________________________\n"
     ]
    }
   ],
   "source": [
    "lambda2 = 0.002\n",
    "\n",
    "model = Sequential([\n",
    "  layers.Rescaling(1./255, input_shape=(img_height, img_width, 3)),\n",
    "  layers.Conv2D(32, 3, padding='same', activation='relu', kernel_regularizer = l2(lambda2)),\n",
    "  layers.MaxPooling2D(),\n",
    "  layers.Dropout(0.25),\n",
    "  layers.Conv2D(64, 3, padding='same', activation='relu', kernel_regularizer = l2(lambda2)),\n",
    "  layers.MaxPooling2D(),\n",
    "  layers.Dropout(0.25),\n",
    "  layers.Conv2D(128, 3, padding='same', activation='relu', kernel_regularizer = l2(lambda2)),\n",
    "  layers.MaxPooling2D(),\n",
    "  layers.Dropout(0.25),\n",
    "  layers.Conv2D(256, 3, padding='same', activation='relu', kernel_regularizer = l2(lambda2)),\n",
    "  layers.MaxPooling2D(),\n",
    "  layers.Flatten(),\n",
    "  layers.Dense(128, activation='relu'),\n",
    "  layers.Dense(num_classes)\n",
    "])\n",
    "model.compile(optimizer=SGD(0.01), loss=tf.keras.losses.SparseCategoricalCrossentropy(from_logits=True),\n",
    "              metrics=['accuracy'])\n",
    "model.summary()"
   ]
  },
  {
   "cell_type": "code",
   "execution_count": null,
   "metadata": {
    "colab": {
     "base_uri": "https://localhost:8080/"
    },
    "id": "1aKLVe5a4Vpb",
    "outputId": "79924798-d1c5-4049-b376-328ec94ba504"
   },
   "outputs": [
    {
     "name": "stdout",
     "output_type": "stream",
     "text": [
      "Epoch 1/50\n",
      "620/620 [==============================] - 14s 22ms/step - loss: 4.3051 - accuracy: 0.0413 - val_loss: 4.2205 - val_accuracy: 0.0666\n",
      "Epoch 2/50\n",
      "620/620 [==============================] - 13s 21ms/step - loss: 3.9360 - accuracy: 0.1090 - val_loss: 4.0736 - val_accuracy: 0.0962\n",
      "Epoch 3/50\n",
      "620/620 [==============================] - 13s 21ms/step - loss: 3.5536 - accuracy: 0.1880 - val_loss: 3.5242 - val_accuracy: 0.1805\n",
      "Epoch 4/50\n",
      "620/620 [==============================] - 13s 21ms/step - loss: 3.2068 - accuracy: 0.2632 - val_loss: 3.2491 - val_accuracy: 0.2308\n",
      "Epoch 5/50\n",
      "620/620 [==============================] - 13s 21ms/step - loss: 2.9017 - accuracy: 0.3337 - val_loss: 3.1881 - val_accuracy: 0.2522\n",
      "Epoch 6/50\n",
      "620/620 [==============================] - 13s 21ms/step - loss: 2.6557 - accuracy: 0.3912 - val_loss: 2.7806 - val_accuracy: 0.3528\n",
      "Epoch 7/50\n",
      "620/620 [==============================] - 13s 21ms/step - loss: 2.4227 - accuracy: 0.4469 - val_loss: 2.8084 - val_accuracy: 0.3617\n",
      "Epoch 8/50\n",
      "620/620 [==============================] - 13s 21ms/step - loss: 2.1950 - accuracy: 0.5051 - val_loss: 2.6012 - val_accuracy: 0.4016\n",
      "Epoch 9/50\n",
      "620/620 [==============================] - 13s 21ms/step - loss: 1.9678 - accuracy: 0.5628 - val_loss: 2.3292 - val_accuracy: 0.4689\n",
      "Epoch 10/50\n",
      "620/620 [==============================] - 13s 21ms/step - loss: 1.7298 - accuracy: 0.6259 - val_loss: 2.2990 - val_accuracy: 0.4882\n",
      "Epoch 11/50\n",
      "620/620 [==============================] - 13s 21ms/step - loss: 1.5043 - accuracy: 0.6842 - val_loss: 2.2654 - val_accuracy: 0.5133\n",
      "Epoch 12/50\n",
      "620/620 [==============================] - 13s 21ms/step - loss: 1.3049 - accuracy: 0.7439 - val_loss: 2.2924 - val_accuracy: 0.4970\n",
      "Epoch 13/50\n",
      "620/620 [==============================] - 13s 21ms/step - loss: 1.0874 - accuracy: 0.8050 - val_loss: 2.5158 - val_accuracy: 0.4704\n",
      "Epoch 14/50\n",
      "620/620 [==============================] - 13s 21ms/step - loss: 0.9092 - accuracy: 0.8518 - val_loss: 2.4995 - val_accuracy: 0.4882\n",
      "Epoch 15/50\n",
      "620/620 [==============================] - 13s 21ms/step - loss: 0.7732 - accuracy: 0.8949 - val_loss: 2.6756 - val_accuracy: 0.4889\n",
      "Epoch 16/50\n",
      "620/620 [==============================] - 13s 21ms/step - loss: 0.6691 - accuracy: 0.9251 - val_loss: 2.7931 - val_accuracy: 0.4985\n",
      "Epoch 17/50\n",
      "620/620 [==============================] - 13s 21ms/step - loss: 0.5929 - accuracy: 0.9425 - val_loss: 2.8897 - val_accuracy: 0.4985\n",
      "Epoch 18/50\n",
      "620/620 [==============================] - 13s 21ms/step - loss: 0.5382 - accuracy: 0.9589 - val_loss: 2.8890 - val_accuracy: 0.4956\n",
      "Epoch 19/50\n",
      "620/620 [==============================] - 13s 21ms/step - loss: 0.4810 - accuracy: 0.9731 - val_loss: 3.0382 - val_accuracy: 0.5163\n",
      "Epoch 20/50\n",
      "620/620 [==============================] - 13s 21ms/step - loss: 0.4467 - accuracy: 0.9803 - val_loss: 3.4639 - val_accuracy: 0.4719\n",
      "Epoch 21/50\n",
      "620/620 [==============================] - 13s 21ms/step - loss: 0.4358 - accuracy: 0.9806 - val_loss: 3.0104 - val_accuracy: 0.5052\n",
      "Epoch 22/50\n",
      "620/620 [==============================] - 13s 21ms/step - loss: 0.4039 - accuracy: 0.9850 - val_loss: 3.1514 - val_accuracy: 0.5059\n",
      "Epoch 23/50\n",
      "620/620 [==============================] - 13s 21ms/step - loss: 0.3894 - accuracy: 0.9881 - val_loss: 3.3316 - val_accuracy: 0.4978\n",
      "Epoch 24/50\n",
      "620/620 [==============================] - 13s 21ms/step - loss: 0.4479 - accuracy: 0.9778 - val_loss: 2.5584 - val_accuracy: 0.4771\n",
      "Epoch 25/50\n",
      "620/620 [==============================] - 13s 21ms/step - loss: 0.3759 - accuracy: 0.9857 - val_loss: 3.1082 - val_accuracy: 0.5104\n",
      "Epoch 26/50\n",
      "620/620 [==============================] - 13s 21ms/step - loss: 0.3362 - accuracy: 0.9937 - val_loss: 3.1067 - val_accuracy: 0.5111\n",
      "Epoch 27/50\n",
      "620/620 [==============================] - 13s 21ms/step - loss: 0.3458 - accuracy: 0.9901 - val_loss: 3.0918 - val_accuracy: 0.5118\n",
      "Epoch 28/50\n",
      "620/620 [==============================] - 13s 21ms/step - loss: 0.5209 - accuracy: 0.9540 - val_loss: 2.9699 - val_accuracy: 0.4837\n",
      "Epoch 29/50\n",
      "620/620 [==============================] - 13s 21ms/step - loss: 0.4130 - accuracy: 0.9727 - val_loss: 2.7112 - val_accuracy: 0.4978\n",
      "Epoch 30/50\n",
      "620/620 [==============================] - 13s 21ms/step - loss: 0.3080 - accuracy: 0.9947 - val_loss: 3.1154 - val_accuracy: 0.5052\n",
      "Epoch 31/50\n",
      "620/620 [==============================] - 13s 21ms/step - loss: 0.2851 - accuracy: 0.9965 - val_loss: 3.2342 - val_accuracy: 0.5104\n",
      "Epoch 32/50\n",
      "620/620 [==============================] - 13s 21ms/step - loss: 0.2672 - accuracy: 0.9987 - val_loss: 3.3027 - val_accuracy: 0.5037\n",
      "Epoch 33/50\n",
      "620/620 [==============================] - 13s 21ms/step - loss: 0.2572 - accuracy: 0.9989 - val_loss: 3.2593 - val_accuracy: 0.5207\n",
      "Epoch 34/50\n",
      "620/620 [==============================] - 13s 21ms/step - loss: 0.2560 - accuracy: 0.9964 - val_loss: 4.9340 - val_accuracy: 0.3476\n",
      "Epoch 35/50\n",
      "620/620 [==============================] - 13s 21ms/step - loss: 0.2500 - accuracy: 0.9970 - val_loss: 3.1379 - val_accuracy: 0.5052\n",
      "Epoch 36/50\n",
      "620/620 [==============================] - 13s 21ms/step - loss: 0.2310 - accuracy: 0.9989 - val_loss: 3.1614 - val_accuracy: 0.5155\n",
      "Epoch 37/50\n",
      "620/620 [==============================] - 13s 21ms/step - loss: 0.2226 - accuracy: 0.9987 - val_loss: 3.2053 - val_accuracy: 0.5007\n",
      "Epoch 38/50\n",
      "620/620 [==============================] - 13s 21ms/step - loss: 0.2790 - accuracy: 0.9890 - val_loss: 2.7416 - val_accuracy: 0.5000\n",
      "Epoch 39/50\n",
      "620/620 [==============================] - 13s 21ms/step - loss: 0.2131 - accuracy: 0.9990 - val_loss: 3.0310 - val_accuracy: 0.5133\n",
      "Epoch 40/50\n",
      "620/620 [==============================] - 13s 21ms/step - loss: 0.2060 - accuracy: 0.9985 - val_loss: 3.0412 - val_accuracy: 0.5133\n",
      "Epoch 41/50\n",
      "620/620 [==============================] - 13s 21ms/step - loss: 0.1953 - accuracy: 0.9998 - val_loss: 3.0815 - val_accuracy: 0.5148\n",
      "Epoch 42/50\n",
      "620/620 [==============================] - 13s 21ms/step - loss: 0.3504 - accuracy: 0.9685 - val_loss: 2.9213 - val_accuracy: 0.4933\n",
      "Epoch 43/50\n",
      "620/620 [==============================] - 13s 21ms/step - loss: 0.3284 - accuracy: 0.9756 - val_loss: 2.6399 - val_accuracy: 0.4660\n",
      "Epoch 44/50\n",
      "620/620 [==============================] - 13s 21ms/step - loss: 0.2293 - accuracy: 0.9904 - val_loss: 2.9533 - val_accuracy: 0.5133\n",
      "Epoch 45/50\n",
      "620/620 [==============================] - 13s 21ms/step - loss: 0.1876 - accuracy: 0.9991 - val_loss: 3.1324 - val_accuracy: 0.5126\n",
      "Epoch 46/50\n",
      "620/620 [==============================] - 13s 21ms/step - loss: 0.1787 - accuracy: 0.9993 - val_loss: 3.0743 - val_accuracy: 0.5141\n",
      "Epoch 47/50\n",
      "620/620 [==============================] - 13s 21ms/step - loss: 0.1759 - accuracy: 0.9988 - val_loss: 3.0521 - val_accuracy: 0.5096\n",
      "Epoch 48/50\n",
      "620/620 [==============================] - 13s 21ms/step - loss: 0.1678 - accuracy: 0.9993 - val_loss: 3.1449 - val_accuracy: 0.5148\n",
      "Epoch 49/50\n",
      "620/620 [==============================] - 13s 21ms/step - loss: 0.1617 - accuracy: 0.9995 - val_loss: 3.0977 - val_accuracy: 0.5081\n",
      "Epoch 50/50\n",
      "620/620 [==============================] - 13s 21ms/step - loss: 0.1559 - accuracy: 0.9996 - val_loss: 3.0815 - val_accuracy: 0.5118\n"
     ]
    }
   ],
   "source": [
    "epochs=50\n",
    "history = model.fit(\n",
    "  train_ds,\n",
    "  validation_data=val_ds,\n",
    "  epochs=epochs\n",
    ")"
   ]
  },
  {
   "cell_type": "markdown",
   "metadata": {
    "id": "5Q7ZYXIKPGwo"
   },
   "source": [
    "**The accuracy for Run 5:**"
   ]
  },
  {
   "cell_type": "code",
   "execution_count": null,
   "metadata": {
    "colab": {
     "base_uri": "https://localhost:8080/",
     "height": 499
    },
    "id": "oUTTd4V38FJd",
    "outputId": "31c55312-9e36-47bb-8445-5170afb21217"
   },
   "outputs": [
    {
     "data": {
      "image/png": "[encoded data removed]",
      "text/plain": [
       "<Figure size 576x576 with 2 Axes>"
      ]
     },
     "metadata": {
      "needs_background": "light"
     },
     "output_type": "display_data"
    }
   ],
   "source": [
    "acc = history.history['accuracy']\n",
    "val_acc = history.history['val_accuracy']\n",
    "\n",
    "loss = history.history['loss']\n",
    "val_loss = history.history['val_loss']\n",
    "\n",
    "epochs_range = range(epochs)\n",
    "\n",
    "plt.figure(figsize=(8, 8))\n",
    "plt.subplot(1, 2, 1)\n",
    "plt.plot(epochs_range, acc, label='Training Accuracy')\n",
    "plt.plot(epochs_range, val_acc, label='Validation Accuracy')\n",
    "plt.legend(loc='lower right')\n",
    "plt.title('Training and Validation Accuracy')\n",
    "\n",
    "plt.subplot(1, 2, 2)\n",
    "plt.plot(epochs_range, loss, label='Training Loss')\n",
    "plt.plot(epochs_range, val_loss, label='Validation Loss')\n",
    "plt.legend(loc='upper right')\n",
    "plt.title('Training and Validation Loss')\n",
    "plt.show()"
   ]
  },
  {
   "cell_type": "code",
   "execution_count": null,
   "metadata": {
    "colab": {
     "base_uri": "https://localhost:8080/",
     "height": 1000
    },
    "id": "2m3jsE-F8Ie7",
    "outputId": "e48e108c-88ac-48e1-ae0f-c00538150fb8"
   },
   "outputs": [
    {
     "name": "stdout",
     "output_type": "stream",
     "text": [
      "43/43 [==============================] - 1s 10ms/step\n",
      "\n",
      "Testing Classification Report:\n",
      "\n",
      "               precision    recall  f1-score   support\n",
      "\n",
      "           0       0.60      0.69      0.64        36\n",
      "           1       0.32      0.45      0.38        22\n",
      "           2       0.46      0.45      0.46        29\n",
      "           3       0.35      0.35      0.35        31\n",
      "           4       0.51      0.77      0.62        26\n",
      "           5       0.61      0.67      0.63        30\n",
      "           6       0.57      0.68      0.62        19\n",
      "           7       0.38      0.37      0.38        27\n",
      "           8       0.63      0.68      0.66        28\n",
      "           9       0.64      0.79      0.71        29\n",
      "          10       0.20      0.24      0.21        34\n",
      "          11       0.41      0.33      0.37        33\n",
      "          12       0.81      0.88      0.84        40\n",
      "          13       0.68      0.76      0.71        33\n",
      "          14       0.40      0.36      0.38        33\n",
      "          15       0.41      0.39      0.40        28\n",
      "          16       0.43      0.47      0.45        34\n",
      "          17       0.76      0.79      0.78        33\n",
      "          18       0.31      0.20      0.24        25\n",
      "          19       0.75      0.75      0.75        28\n",
      "          20       0.85      0.82      0.84        34\n",
      "          21       0.71      0.77      0.74        26\n",
      "          22       0.74      0.83      0.78        35\n",
      "          23       0.50      0.34      0.41        32\n",
      "          24       0.54      0.52      0.53        29\n",
      "          25       0.44      0.55      0.49        33\n",
      "          26       0.54      0.44      0.48        32\n",
      "          27       0.31      0.23      0.26        35\n",
      "          28       0.58      0.75      0.66        28\n",
      "          29       0.32      0.33      0.33        27\n",
      "          30       0.34      0.30      0.32        33\n",
      "          31       0.26      0.42      0.32        24\n",
      "          32       0.36      0.30      0.33        27\n",
      "          33       0.48      0.36      0.41        28\n",
      "          34       0.55      0.41      0.47        29\n",
      "          35       0.78      0.82      0.80        34\n",
      "          36       0.42      0.41      0.42        27\n",
      "          37       0.62      0.43      0.51        23\n",
      "          38       0.39      0.32      0.35        22\n",
      "          39       0.36      0.34      0.35        29\n",
      "          40       0.42      0.48      0.45        31\n",
      "          41       0.27      0.21      0.24        28\n",
      "          42       0.50      0.49      0.49        37\n",
      "          43       0.29      0.14      0.19        29\n",
      "          44       0.62      0.62      0.62        42\n",
      "\n",
      "    accuracy                           0.51      1352\n",
      "   macro avg       0.50      0.50      0.50      1352\n",
      "weighted avg       0.51      0.51      0.50      1352\n",
      "\n",
      "\n",
      "Testing Confusion Matrix:\n",
      "\n"
     ]
    },
    {
     "data": {
      "text/plain": [
       "<Figure size 432x288 with 0 Axes>"
      ]
     },
     "execution_count": 30,
     "metadata": {},
     "output_type": "execute_result"
    },
    {
     "data": {
      "image/png": "[encoded data removed]",
      "text/plain": [
       "<Figure size 432x288 with 2 Axes>"
      ]
     },
     "metadata": {
      "needs_background": "light"
     },
     "output_type": "display_data"
    },
    {
     "data": {
      "text/plain": [
       "<Figure size 432x288 with 0 Axes>"
      ]
     },
     "metadata": {},
     "output_type": "display_data"
    }
   ],
   "source": [
    "# predict the labels of the test set\n",
    "predictedY = model.predict(val_ds)\n",
    "predictedY = np.argmax(predictedY, axis=1)\n",
    "testY = np.concatenate([y for x, y in val_ds], axis=0)\n",
    "\n",
    "# print quality metricsl\n",
    "print('\\nTesting Classification Report:\\n\\n', classification_report(testY, predictedY))\n",
    "\n",
    "print('\\nTesting Confusion Matrix:\\n')\n",
    "\n",
    "heatmap(confusion_matrix(testY, predictedY))\n",
    "plt.figure()"
   ]
  },
  {
   "cell_type": "markdown",
   "metadata": {
    "id": "MqVwLrqDPKY-"
   },
   "source": [
    "**Run 6:**"
   ]
  },
  {
   "cell_type": "code",
   "execution_count": null,
   "metadata": {
    "colab": {
     "base_uri": "https://localhost:8080/"
    },
    "id": "Vmj55CTr8NAq",
    "outputId": "bffdc169-55eb-451a-d034-16a4989e9fb0"
   },
   "outputs": [
    {
     "name": "stdout",
     "output_type": "stream",
     "text": [
      "Model: \"sequential_6\"\n",
      "_________________________________________________________________\n",
      " Layer (type)                Output Shape              Param #   \n",
      "=================================================================\n",
      " rescaling_8 (Rescaling)     (None, 256, 256, 3)       0         \n",
      "                                                                 \n",
      " conv2d_23 (Conv2D)          (None, 256, 256, 64)      1792      \n",
      "                                                                 \n",
      " max_pooling2d_23 (MaxPoolin  (None, 128, 128, 64)     0         \n",
      " g2D)                                                            \n",
      "                                                                 \n",
      " dropout_17 (Dropout)        (None, 128, 128, 64)      0         \n",
      "                                                                 \n",
      " conv2d_24 (Conv2D)          (None, 128, 128, 128)     73856     \n",
      "                                                                 \n",
      " max_pooling2d_24 (MaxPoolin  (None, 64, 64, 128)      0         \n",
      " g2D)                                                            \n",
      "                                                                 \n",
      " dropout_18 (Dropout)        (None, 64, 64, 128)       0         \n",
      "                                                                 \n",
      " conv2d_25 (Conv2D)          (None, 64, 64, 256)       295168    \n",
      "                                                                 \n",
      " max_pooling2d_25 (MaxPoolin  (None, 32, 32, 256)      0         \n",
      " g2D)                                                            \n",
      "                                                                 \n",
      " dropout_19 (Dropout)        (None, 32, 32, 256)       0         \n",
      "                                                                 \n",
      " conv2d_26 (Conv2D)          (None, 32, 32, 256)       590080    \n",
      "                                                                 \n",
      " max_pooling2d_26 (MaxPoolin  (None, 16, 16, 256)      0         \n",
      " g2D)                                                            \n",
      "                                                                 \n",
      " dropout_20 (Dropout)        (None, 16, 16, 256)       0         \n",
      "                                                                 \n",
      " flatten_6 (Flatten)         (None, 65536)             0         \n",
      "                                                                 \n",
      " dense_12 (Dense)            (None, 512)               33554944  \n",
      "                                                                 \n",
      " dropout_21 (Dropout)        (None, 512)               0         \n",
      "                                                                 \n",
      " dense_13 (Dense)            (None, 45)                23085     \n",
      "                                                                 \n",
      "=================================================================\n",
      "Total params: 34,538,925\n",
      "Trainable params: 34,538,925\n",
      "Non-trainable params: 0\n",
      "_________________________________________________________________\n"
     ]
    }
   ],
   "source": [
    "lambda2 = 0.002\n",
    "\n",
    "model = Sequential([\n",
    "  layers.Rescaling(1./255, input_shape=(img_height, img_width, 3)),\n",
    "  layers.Conv2D(64, 3, padding='same', activation='relu', kernel_regularizer = l2(lambda2)),\n",
    "  layers.MaxPooling2D(),\n",
    "  layers.Dropout(0.25),\n",
    "  layers.Conv2D(128, 3, padding='same', activation='relu', kernel_regularizer = l2(lambda2)),\n",
    "  layers.MaxPooling2D(),\n",
    "  layers.Dropout(0.25),\n",
    "  layers.Conv2D(256, 3, padding='same', activation='relu', kernel_regularizer = l2(lambda2)),\n",
    "  layers.MaxPooling2D(),\n",
    "  layers.Dropout(0.25),\n",
    "  layers.Conv2D(256, 3, padding='same', activation='relu', kernel_regularizer = l2(lambda2)),\n",
    "  layers.MaxPooling2D(),\n",
    "  layers.Dropout(0.25),\n",
    "  layers.Flatten(),\n",
    "  layers.Dense(512, activation='relu', kernel_regularizer = l2(lambda2)),\n",
    "  layers.Dropout(0.25),\n",
    "  layers.Dense(num_classes)\n",
    "])\n",
    "model.compile(optimizer=SGD(0.01), loss=tf.keras.losses.SparseCategoricalCrossentropy(from_logits=True),\n",
    "              metrics=['accuracy'])\n",
    "model.summary()"
   ]
  },
  {
   "cell_type": "code",
   "execution_count": null,
   "metadata": {
    "colab": {
     "base_uri": "https://localhost:8080/"
    },
    "id": "hbCgNncs8TOv",
    "outputId": "68d6155e-b517-499d-90ae-36c575c96514"
   },
   "outputs": [
    {
     "name": "stdout",
     "output_type": "stream",
     "text": [
      "Epoch 1/50\n",
      "620/620 [==============================] - 23s 35ms/step - loss: 6.6814 - accuracy: 0.0487 - val_loss: 6.5400 - val_accuracy: 0.0717\n",
      "Epoch 2/50\n",
      "620/620 [==============================] - 21s 35ms/step - loss: 6.1329 - accuracy: 0.1281 - val_loss: 5.9465 - val_accuracy: 0.1679\n",
      "Epoch 3/50\n",
      "620/620 [==============================] - 21s 35ms/step - loss: 5.6078 - accuracy: 0.2100 - val_loss: 5.3762 - val_accuracy: 0.2581\n",
      "Epoch 4/50\n",
      "620/620 [==============================] - 21s 35ms/step - loss: 5.1887 - accuracy: 0.2843 - val_loss: 5.1079 - val_accuracy: 0.2996\n",
      "Epoch 5/50\n",
      "620/620 [==============================] - 21s 35ms/step - loss: 4.8648 - accuracy: 0.3335 - val_loss: 4.7790 - val_accuracy: 0.3661\n",
      "Epoch 6/50\n",
      "620/620 [==============================] - 21s 34ms/step - loss: 4.5560 - accuracy: 0.3881 - val_loss: 4.4549 - val_accuracy: 0.4290\n",
      "Epoch 7/50\n",
      "620/620 [==============================] - 21s 34ms/step - loss: 4.2747 - accuracy: 0.4392 - val_loss: 4.3373 - val_accuracy: 0.4246\n",
      "Epoch 8/50\n",
      "620/620 [==============================] - 21s 35ms/step - loss: 3.9974 - accuracy: 0.4867 - val_loss: 4.2512 - val_accuracy: 0.4098\n",
      "Epoch 9/50\n",
      "620/620 [==============================] - 21s 34ms/step - loss: 3.7258 - accuracy: 0.5391 - val_loss: 3.8494 - val_accuracy: 0.4985\n",
      "Epoch 10/50\n",
      "620/620 [==============================] - 21s 35ms/step - loss: 3.4750 - accuracy: 0.5875 - val_loss: 3.8823 - val_accuracy: 0.4645\n",
      "Epoch 11/50\n",
      "620/620 [==============================] - 21s 34ms/step - loss: 3.2117 - accuracy: 0.6401 - val_loss: 3.8637 - val_accuracy: 0.4712\n",
      "Epoch 12/50\n",
      "620/620 [==============================] - 21s 35ms/step - loss: 2.9667 - accuracy: 0.6916 - val_loss: 3.6320 - val_accuracy: 0.5118\n",
      "Epoch 13/50\n",
      "620/620 [==============================] - 21s 34ms/step - loss: 2.7424 - accuracy: 0.7437 - val_loss: 3.4866 - val_accuracy: 0.5459\n",
      "Epoch 14/50\n",
      "620/620 [==============================] - 21s 34ms/step - loss: 2.5304 - accuracy: 0.7889 - val_loss: 3.5456 - val_accuracy: 0.5444\n",
      "Epoch 15/50\n",
      "620/620 [==============================] - 21s 34ms/step - loss: 2.3517 - accuracy: 0.8298 - val_loss: 3.5945 - val_accuracy: 0.5510\n",
      "Epoch 16/50\n",
      "620/620 [==============================] - 21s 34ms/step - loss: 2.2051 - accuracy: 0.8612 - val_loss: 3.5491 - val_accuracy: 0.5325\n",
      "Epoch 17/50\n",
      "620/620 [==============================] - 21s 34ms/step - loss: 2.0695 - accuracy: 0.8865 - val_loss: 3.4842 - val_accuracy: 0.5533\n",
      "Epoch 18/50\n",
      "620/620 [==============================] - 21s 35ms/step - loss: 1.9525 - accuracy: 0.9098 - val_loss: 3.5235 - val_accuracy: 0.5607\n",
      "Epoch 19/50\n",
      "620/620 [==============================] - 21s 35ms/step - loss: 1.8583 - accuracy: 0.9238 - val_loss: 3.8059 - val_accuracy: 0.5133\n",
      "Epoch 20/50\n",
      "620/620 [==============================] - 21s 35ms/step - loss: 1.7811 - accuracy: 0.9356 - val_loss: 3.4684 - val_accuracy: 0.5562\n",
      "Epoch 21/50\n",
      "620/620 [==============================] - 22s 35ms/step - loss: 1.7007 - accuracy: 0.9445 - val_loss: 3.4988 - val_accuracy: 0.5348\n",
      "Epoch 22/50\n",
      "620/620 [==============================] - 22s 35ms/step - loss: 1.6419 - accuracy: 0.9485 - val_loss: 3.3842 - val_accuracy: 0.5651\n",
      "Epoch 23/50\n",
      "620/620 [==============================] - 21s 35ms/step - loss: 1.5659 - accuracy: 0.9594 - val_loss: 3.9981 - val_accuracy: 0.4697\n",
      "Epoch 24/50\n",
      "620/620 [==============================] - 21s 35ms/step - loss: 1.5180 - accuracy: 0.9614 - val_loss: 3.4242 - val_accuracy: 0.5673\n",
      "Epoch 25/50\n",
      "620/620 [==============================] - 21s 35ms/step - loss: 1.4564 - accuracy: 0.9650 - val_loss: 3.4780 - val_accuracy: 0.5466\n",
      "Epoch 26/50\n",
      "620/620 [==============================] - 22s 35ms/step - loss: 1.4006 - accuracy: 0.9697 - val_loss: 3.2940 - val_accuracy: 0.5547\n",
      "Epoch 27/50\n",
      "620/620 [==============================] - 21s 35ms/step - loss: 1.3506 - accuracy: 0.9721 - val_loss: 3.2794 - val_accuracy: 0.5621\n",
      "Epoch 28/50\n",
      "620/620 [==============================] - 21s 35ms/step - loss: 1.3022 - accuracy: 0.9742 - val_loss: 3.2235 - val_accuracy: 0.5533\n",
      "Epoch 29/50\n",
      "620/620 [==============================] - 22s 35ms/step - loss: 1.2582 - accuracy: 0.9765 - val_loss: 3.2138 - val_accuracy: 0.5791\n",
      "Epoch 30/50\n",
      "620/620 [==============================] - 21s 35ms/step - loss: 1.2087 - accuracy: 0.9800 - val_loss: 3.2102 - val_accuracy: 0.5673\n",
      "Epoch 31/50\n",
      "620/620 [==============================] - 22s 35ms/step - loss: 1.1672 - accuracy: 0.9801 - val_loss: 3.0366 - val_accuracy: 0.5688\n",
      "Epoch 32/50\n",
      "620/620 [==============================] - 22s 35ms/step - loss: 1.1308 - accuracy: 0.9807 - val_loss: 3.0793 - val_accuracy: 0.5510\n",
      "Epoch 33/50\n",
      "620/620 [==============================] - 22s 35ms/step - loss: 1.0849 - accuracy: 0.9838 - val_loss: 3.1300 - val_accuracy: 0.5680\n",
      "Epoch 34/50\n",
      "620/620 [==============================] - 21s 35ms/step - loss: 1.0496 - accuracy: 0.9833 - val_loss: 3.1758 - val_accuracy: 0.5459\n",
      "Epoch 35/50\n",
      "620/620 [==============================] - 22s 35ms/step - loss: 1.0856 - accuracy: 0.9720 - val_loss: 2.9869 - val_accuracy: 0.5636\n",
      "Epoch 36/50\n",
      "620/620 [==============================] - 22s 35ms/step - loss: 1.0138 - accuracy: 0.9785 - val_loss: 2.9540 - val_accuracy: 0.5503\n",
      "Epoch 37/50\n",
      "620/620 [==============================] - 22s 35ms/step - loss: 0.9713 - accuracy: 0.9841 - val_loss: 2.8883 - val_accuracy: 0.5533\n",
      "Epoch 38/50\n",
      "620/620 [==============================] - 21s 34ms/step - loss: 0.9364 - accuracy: 0.9858 - val_loss: 3.0017 - val_accuracy: 0.5429\n",
      "Epoch 39/50\n",
      "620/620 [==============================] - 21s 35ms/step - loss: 0.9037 - accuracy: 0.9863 - val_loss: 3.0168 - val_accuracy: 0.5510\n",
      "Epoch 40/50\n",
      "620/620 [==============================] - 22s 35ms/step - loss: 0.8857 - accuracy: 0.9851 - val_loss: 2.8942 - val_accuracy: 0.5621\n",
      "Epoch 41/50\n",
      "620/620 [==============================] - 22s 35ms/step - loss: 0.8659 - accuracy: 0.9830 - val_loss: 2.7342 - val_accuracy: 0.5784\n",
      "Epoch 42/50\n",
      "620/620 [==============================] - 22s 35ms/step - loss: 0.8282 - accuracy: 0.9878 - val_loss: 2.9249 - val_accuracy: 0.5540\n",
      "Epoch 43/50\n",
      "620/620 [==============================] - 21s 35ms/step - loss: 0.8139 - accuracy: 0.9851 - val_loss: 2.7319 - val_accuracy: 0.5695\n",
      "Epoch 44/50\n",
      "620/620 [==============================] - 21s 34ms/step - loss: 0.7921 - accuracy: 0.9859 - val_loss: 2.8177 - val_accuracy: 0.5614\n",
      "Epoch 45/50\n",
      "620/620 [==============================] - 21s 35ms/step - loss: 0.7908 - accuracy: 0.9790 - val_loss: 2.8356 - val_accuracy: 0.5473\n",
      "Epoch 46/50\n",
      "620/620 [==============================] - 21s 35ms/step - loss: 0.7461 - accuracy: 0.9885 - val_loss: 2.7098 - val_accuracy: 0.5629\n",
      "Epoch 47/50\n",
      "620/620 [==============================] - 22s 35ms/step - loss: 0.7277 - accuracy: 0.9882 - val_loss: 2.6061 - val_accuracy: 0.5710\n",
      "Epoch 48/50\n",
      "620/620 [==============================] - 21s 35ms/step - loss: 0.6987 - accuracy: 0.9912 - val_loss: 2.6936 - val_accuracy: 0.5570\n",
      "Epoch 49/50\n",
      "620/620 [==============================] - 22s 35ms/step - loss: 0.6979 - accuracy: 0.9865 - val_loss: 2.5870 - val_accuracy: 0.5710\n",
      "Epoch 50/50\n",
      "620/620 [==============================] - 22s 35ms/step - loss: 0.6731 - accuracy: 0.9888 - val_loss: 2.6024 - val_accuracy: 0.5658\n"
     ]
    }
   ],
   "source": [
    "epochs=50\n",
    "history = model.fit(\n",
    "  train_ds,\n",
    "  validation_data=val_ds,\n",
    "  epochs=epochs\n",
    ")"
   ]
  },
  {
   "cell_type": "markdown",
   "metadata": {
    "id": "qK4zGizlPX3g"
   },
   "source": [
    "**The accuracy for Run 6:**"
   ]
  },
  {
   "cell_type": "code",
   "execution_count": null,
   "metadata": {
    "colab": {
     "base_uri": "https://localhost:8080/",
     "height": 499
    },
    "id": "ionm8qlyA2_6",
    "outputId": "91b0817e-54dc-4b75-a9bc-e2f75c5bf943"
   },
   "outputs": [
    {
     "data": {
      "image/png": "[encoded data removed]",
      "text/plain": [
       "<Figure size 576x576 with 2 Axes>"
      ]
     },
     "metadata": {
      "needs_background": "light"
     },
     "output_type": "display_data"
    }
   ],
   "source": [
    "acc = history.history['accuracy']\n",
    "val_acc = history.history['val_accuracy']\n",
    "\n",
    "loss = history.history['loss']\n",
    "val_loss = history.history['val_loss']\n",
    "\n",
    "epochs_range = range(epochs)\n",
    "\n",
    "plt.figure(figsize=(8, 8))\n",
    "plt.subplot(1, 2, 1)\n",
    "plt.plot(epochs_range, acc, label='Training Accuracy')\n",
    "plt.plot(epochs_range, val_acc, label='Validation Accuracy')\n",
    "plt.legend(loc='lower right')\n",
    "plt.title('Training and Validation Accuracy')\n",
    "\n",
    "plt.subplot(1, 2, 2)\n",
    "plt.plot(epochs_range, loss, label='Training Loss')\n",
    "plt.plot(epochs_range, val_loss, label='Validation Loss')\n",
    "plt.legend(loc='upper right')\n",
    "plt.title('Training and Validation Loss')\n",
    "plt.show()"
   ]
  },
  {
   "cell_type": "code",
   "execution_count": null,
   "metadata": {
    "colab": {
     "base_uri": "https://localhost:8080/",
     "height": 1000
    },
    "id": "EMS0tZOPA61A",
    "outputId": "3fe65dec-d57a-43f6-a878-e081d6202262"
   },
   "outputs": [
    {
     "name": "stdout",
     "output_type": "stream",
     "text": [
      "43/43 [==============================] - 1s 14ms/step\n",
      "\n",
      "Testing Classification Report:\n",
      "\n",
      "               precision    recall  f1-score   support\n",
      "\n",
      "           0       0.40      0.86      0.55        36\n",
      "           1       0.28      0.36      0.31        22\n",
      "           2       0.46      0.45      0.46        29\n",
      "           3       0.45      0.29      0.35        31\n",
      "           4       0.78      0.81      0.79        26\n",
      "           5       0.60      0.70      0.65        30\n",
      "           6       0.57      0.89      0.69        19\n",
      "           7       0.46      0.41      0.43        27\n",
      "           8       0.68      0.89      0.77        28\n",
      "           9       0.72      0.62      0.67        29\n",
      "          10       0.44      0.35      0.39        34\n",
      "          11       0.57      0.64      0.60        33\n",
      "          12       0.80      0.88      0.83        40\n",
      "          13       0.76      0.79      0.78        33\n",
      "          14       0.50      0.45      0.48        33\n",
      "          15       0.47      0.54      0.50        28\n",
      "          16       0.55      0.62      0.58        34\n",
      "          17       0.87      0.82      0.84        33\n",
      "          18       0.42      0.40      0.41        25\n",
      "          19       0.56      0.64      0.60        28\n",
      "          20       0.96      0.79      0.87        34\n",
      "          21       0.79      0.88      0.84        26\n",
      "          22       0.81      0.83      0.82        35\n",
      "          23       0.35      0.44      0.39        32\n",
      "          24       0.53      0.66      0.58        29\n",
      "          25       0.58      0.45      0.51        33\n",
      "          26       0.62      0.56      0.59        32\n",
      "          27       0.44      0.31      0.37        35\n",
      "          28       0.60      0.75      0.67        28\n",
      "          29       0.50      0.56      0.53        27\n",
      "          30       0.41      0.27      0.33        33\n",
      "          31       0.46      0.46      0.46        24\n",
      "          32       0.60      0.33      0.43        27\n",
      "          33       0.38      0.29      0.33        28\n",
      "          34       0.38      0.45      0.41        29\n",
      "          35       0.83      0.85      0.84        34\n",
      "          36       0.43      0.48      0.46        27\n",
      "          37       0.67      0.35      0.46        23\n",
      "          38       0.42      0.36      0.39        22\n",
      "          39       0.62      0.34      0.44        29\n",
      "          40       0.55      0.55      0.55        31\n",
      "          41       0.24      0.18      0.20        28\n",
      "          42       0.68      0.62      0.65        37\n",
      "          43       0.31      0.28      0.29        29\n",
      "          44       0.76      0.67      0.71        42\n",
      "\n",
      "    accuracy                           0.57      1352\n",
      "   macro avg       0.56      0.56      0.55      1352\n",
      "weighted avg       0.57      0.57      0.56      1352\n",
      "\n",
      "\n",
      "Testing Confusion Matrix:\n",
      "\n"
     ]
    },
    {
     "data": {
      "text/plain": [
       "<Figure size 432x288 with 0 Axes>"
      ]
     },
     "execution_count": 36,
     "metadata": {},
     "output_type": "execute_result"
    },
    {
     "data": {
      "image/png": "[encoded data removed]",
      "text/plain": [
       "<Figure size 432x288 with 2 Axes>"
      ]
     },
     "metadata": {
      "needs_background": "light"
     },
     "output_type": "display_data"
    },
    {
     "data": {
      "text/plain": [
       "<Figure size 432x288 with 0 Axes>"
      ]
     },
     "metadata": {},
     "output_type": "display_data"
    }
   ],
   "source": [
    "# predict the labels of the test set\n",
    "predictedY = model.predict(val_ds)\n",
    "predictedY = np.argmax(predictedY, axis=1)\n",
    "testY = np.concatenate([y for x, y in val_ds], axis=0)\n",
    "\n",
    "# print quality metricsl\n",
    "print('\\nTesting Classification Report:\\n\\n', classification_report(testY, predictedY))\n",
    "\n",
    "print('\\nTesting Confusion Matrix:\\n')\n",
    "\n",
    "heatmap(confusion_matrix(testY, predictedY))\n",
    "plt.figure()"
   ]
  },
  {
   "cell_type": "markdown",
   "metadata": {
    "id": "7fcDQ559Pb8B"
   },
   "source": [
    "**Run 7:**\n",
    "The BachNormalization has been added to each layer. \n",
    "Also, the activation function for all layers is still relu except for the last layer. \n",
    "In last layer, the Softmax activation have been used."
   ]
  },
  {
   "cell_type": "code",
   "execution_count": null,
   "metadata": {
    "colab": {
     "base_uri": "https://localhost:8080/"
    },
    "id": "cTgR_bY7A-M7",
    "outputId": "5de6cedd-3ad0-43bf-8dd8-4068c3fc3fdb"
   },
   "outputs": [
    {
     "name": "stdout",
     "output_type": "stream",
     "text": [
      "Model: \"sequential_7\"\n",
      "_________________________________________________________________\n",
      " Layer (type)                Output Shape              Param #   \n",
      "=================================================================\n",
      " rescaling_9 (Rescaling)     (None, 256, 256, 3)       0         \n",
      "                                                                 \n",
      " conv2d_27 (Conv2D)          (None, 256, 256, 32)      896       \n",
      "                                                                 \n",
      " max_pooling2d_27 (MaxPoolin  (None, 128, 128, 32)     0         \n",
      " g2D)                                                            \n",
      "                                                                 \n",
      " dropout_22 (Dropout)        (None, 128, 128, 32)      0         \n",
      "                                                                 \n",
      " batch_normalization (BatchN  (None, 128, 128, 32)     128       \n",
      " ormalization)                                                   \n",
      "                                                                 \n",
      " conv2d_28 (Conv2D)          (None, 128, 128, 54)      15606     \n",
      "                                                                 \n",
      " max_pooling2d_28 (MaxPoolin  (None, 64, 64, 54)       0         \n",
      " g2D)                                                            \n",
      "                                                                 \n",
      " dropout_23 (Dropout)        (None, 64, 64, 54)        0         \n",
      "                                                                 \n",
      " batch_normalization_1 (Batc  (None, 64, 64, 54)       216       \n",
      " hNormalization)                                                 \n",
      "                                                                 \n",
      " conv2d_29 (Conv2D)          (None, 64, 64, 128)       62336     \n",
      "                                                                 \n",
      " max_pooling2d_29 (MaxPoolin  (None, 32, 32, 128)      0         \n",
      " g2D)                                                            \n",
      "                                                                 \n",
      " dropout_24 (Dropout)        (None, 32, 32, 128)       0         \n",
      "                                                                 \n",
      " batch_normalization_2 (Batc  (None, 32, 32, 128)      512       \n",
      " hNormalization)                                                 \n",
      "                                                                 \n",
      " conv2d_30 (Conv2D)          (None, 32, 32, 256)       295168    \n",
      "                                                                 \n",
      " max_pooling2d_30 (MaxPoolin  (None, 16, 16, 256)      0         \n",
      " g2D)                                                            \n",
      "                                                                 \n",
      " dropout_25 (Dropout)        (None, 16, 16, 256)       0         \n",
      "                                                                 \n",
      " flatten_7 (Flatten)         (None, 65536)             0         \n",
      "                                                                 \n",
      " dense_14 (Dense)            (None, 512)               33554944  \n",
      "                                                                 \n",
      " batch_normalization_3 (Batc  (None, 512)              2048      \n",
      " hNormalization)                                                 \n",
      "                                                                 \n",
      " dropout_26 (Dropout)        (None, 512)               0         \n",
      "                                                                 \n",
      " dense_15 (Dense)            (None, 45)                23085     \n",
      "                                                                 \n",
      "=================================================================\n",
      "Total params: 33,954,939\n",
      "Trainable params: 33,953,487\n",
      "Non-trainable params: 1,452\n",
      "_________________________________________________________________\n"
     ]
    }
   ],
   "source": [
    "lambda2 = 0.002\n",
    "\n",
    "model = Sequential([\n",
    "  layers.Rescaling(1./255, input_shape=(img_height, img_width, 3)),\n",
    "  layers.Conv2D(32, 3, padding='same', activation='relu', kernel_regularizer = l2(lambda2)),\n",
    "  layers.MaxPooling2D(),\n",
    "  layers.Dropout(0.25),\n",
    "  layers.BatchNormalization(),\n",
    "  layers.Conv2D(54, 3, padding='same', activation='relu', kernel_regularizer = l2(lambda2)),\n",
    "  layers.MaxPooling2D(),\n",
    "  layers.Dropout(0.25),\n",
    "  layers.BatchNormalization(),\n",
    "  layers.Conv2D(128, 3, padding='same', activation='relu', kernel_regularizer = l2(lambda2)),\n",
    "  layers.MaxPooling2D(),\n",
    "  layers.Dropout(0.25),\n",
    "  layers.BatchNormalization(),\n",
    "  layers.Conv2D(256, 3, padding='same', activation='relu', kernel_regularizer = l2(lambda2)),\n",
    "  layers.MaxPooling2D(),\n",
    "  layers.Dropout(0.25),\n",
    "  layers.Flatten(),\n",
    "  layers.Dense(512, activation='relu', kernel_regularizer = l2(lambda2)),\n",
    "  layers.BatchNormalization(),\n",
    "  layers.Dropout(0.5),\n",
    "  layers.Dense(num_classes, activation='softmax', kernel_regularizer = l2(lambda2))\n",
    "])\n",
    "model.compile(optimizer=SGD(0.01), loss=tf.keras.losses.SparseCategoricalCrossentropy(from_logits=True),\n",
    "              metrics=['accuracy'])\n",
    "model.summary()"
   ]
  },
  {
   "cell_type": "code",
   "execution_count": null,
   "metadata": {
    "colab": {
     "base_uri": "https://localhost:8080/"
    },
    "id": "-3eQYgOrCghx",
    "outputId": "100ee8d5-ceb5-41c2-d363-6fbcc7875bcd"
   },
   "outputs": [
    {
     "name": "stdout",
     "output_type": "stream",
     "text": [
      "Epoch 1/50\n",
      "620/620 [==============================] - 18s 26ms/step - loss: 5.8374 - accuracy: 0.1912 - val_loss: 7.4012 - val_accuracy: 0.0732\n",
      "Epoch 2/50\n",
      "620/620 [==============================] - 16s 25ms/step - loss: 5.0385 - accuracy: 0.3340 - val_loss: 7.3987 - val_accuracy: 0.0851\n",
      "Epoch 3/50\n",
      "620/620 [==============================] - 16s 25ms/step - loss: 4.5846 - accuracy: 0.4171 - val_loss: 7.7619 - val_accuracy: 0.0836\n",
      "Epoch 4/50\n",
      "620/620 [==============================] - 16s 25ms/step - loss: 4.2169 - accuracy: 0.4940 - val_loss: 7.2432 - val_accuracy: 0.1050\n",
      "Epoch 5/50\n",
      "620/620 [==============================] - 16s 25ms/step - loss: 3.9472 - accuracy: 0.5420 - val_loss: 5.8583 - val_accuracy: 0.1975\n",
      "Epoch 6/50\n",
      "620/620 [==============================] - 16s 25ms/step - loss: 3.6986 - accuracy: 0.5937 - val_loss: 5.6253 - val_accuracy: 0.2152\n",
      "Epoch 7/50\n",
      "620/620 [==============================] - 16s 25ms/step - loss: 3.4756 - accuracy: 0.6334 - val_loss: 4.7166 - val_accuracy: 0.3528\n",
      "Epoch 8/50\n",
      "620/620 [==============================] - 16s 25ms/step - loss: 3.2755 - accuracy: 0.6684 - val_loss: 4.1317 - val_accuracy: 0.4453\n",
      "Epoch 9/50\n",
      "620/620 [==============================] - 16s 25ms/step - loss: 3.0884 - accuracy: 0.7000 - val_loss: 4.0123 - val_accuracy: 0.4504\n",
      "Epoch 10/50\n",
      "620/620 [==============================] - 16s 25ms/step - loss: 2.9161 - accuracy: 0.7320 - val_loss: 4.4768 - val_accuracy: 0.3476\n",
      "Epoch 11/50\n",
      "620/620 [==============================] - 16s 25ms/step - loss: 2.7606 - accuracy: 0.7640 - val_loss: 4.6895 - val_accuracy: 0.3306\n",
      "Epoch 12/50\n",
      "620/620 [==============================] - 16s 25ms/step - loss: 2.6150 - accuracy: 0.7891 - val_loss: 4.4982 - val_accuracy: 0.3417\n",
      "Epoch 13/50\n",
      "620/620 [==============================] - 16s 25ms/step - loss: 2.4520 - accuracy: 0.8218 - val_loss: 3.5566 - val_accuracy: 0.5104\n",
      "Epoch 14/50\n",
      "620/620 [==============================] - 16s 25ms/step - loss: 2.3177 - accuracy: 0.8464 - val_loss: 3.7239 - val_accuracy: 0.4652\n",
      "Epoch 15/50\n",
      "620/620 [==============================] - 16s 25ms/step - loss: 2.1916 - accuracy: 0.8667 - val_loss: 3.7497 - val_accuracy: 0.4571\n",
      "Epoch 16/50\n",
      "620/620 [==============================] - 16s 25ms/step - loss: 2.0697 - accuracy: 0.8899 - val_loss: 3.2838 - val_accuracy: 0.5592\n",
      "Epoch 17/50\n",
      "620/620 [==============================] - 16s 25ms/step - loss: 1.9477 - accuracy: 0.9113 - val_loss: 3.3345 - val_accuracy: 0.5274\n",
      "Epoch 18/50\n",
      "620/620 [==============================] - 16s 25ms/step - loss: 1.8440 - accuracy: 0.9249 - val_loss: 3.0838 - val_accuracy: 0.5666\n",
      "Epoch 19/50\n",
      "620/620 [==============================] - 16s 25ms/step - loss: 1.7411 - accuracy: 0.9412 - val_loss: 2.9312 - val_accuracy: 0.5954\n",
      "Epoch 20/50\n",
      "620/620 [==============================] - 16s 25ms/step - loss: 1.6403 - accuracy: 0.9583 - val_loss: 3.2187 - val_accuracy: 0.5281\n",
      "Epoch 21/50\n",
      "620/620 [==============================] - 16s 25ms/step - loss: 1.5576 - accuracy: 0.9682 - val_loss: 2.8245 - val_accuracy: 0.6080\n",
      "Epoch 22/50\n",
      "620/620 [==============================] - 16s 25ms/step - loss: 1.4931 - accuracy: 0.9667 - val_loss: 2.9081 - val_accuracy: 0.5880\n",
      "Epoch 23/50\n",
      "620/620 [==============================] - 16s 25ms/step - loss: 1.4264 - accuracy: 0.9744 - val_loss: 2.7924 - val_accuracy: 0.5984\n",
      "Epoch 24/50\n",
      "620/620 [==============================] - 16s 25ms/step - loss: 1.3654 - accuracy: 0.9790 - val_loss: 2.9974 - val_accuracy: 0.5451\n",
      "Epoch 25/50\n",
      "620/620 [==============================] - 16s 25ms/step - loss: 1.3058 - accuracy: 0.9812 - val_loss: 3.0554 - val_accuracy: 0.5259\n",
      "Epoch 26/50\n",
      "620/620 [==============================] - 16s 25ms/step - loss: 1.2471 - accuracy: 0.9848 - val_loss: 2.6098 - val_accuracy: 0.6058\n",
      "Epoch 27/50\n",
      "620/620 [==============================] - 16s 25ms/step - loss: 1.1881 - accuracy: 0.9903 - val_loss: 2.8657 - val_accuracy: 0.5385\n",
      "Epoch 28/50\n",
      "620/620 [==============================] - 16s 25ms/step - loss: 1.1417 - accuracy: 0.9898 - val_loss: 2.5919 - val_accuracy: 0.5858\n",
      "Epoch 29/50\n",
      "620/620 [==============================] - 16s 25ms/step - loss: 1.0922 - accuracy: 0.9915 - val_loss: 2.4955 - val_accuracy: 0.6013\n",
      "Epoch 30/50\n",
      "620/620 [==============================] - 16s 25ms/step - loss: 1.0446 - accuracy: 0.9931 - val_loss: 2.5024 - val_accuracy: 0.5954\n",
      "Epoch 31/50\n",
      "620/620 [==============================] - 16s 25ms/step - loss: 1.0000 - accuracy: 0.9951 - val_loss: 2.4336 - val_accuracy: 0.6065\n",
      "Epoch 32/50\n",
      "620/620 [==============================] - 16s 25ms/step - loss: 0.9595 - accuracy: 0.9951 - val_loss: 2.3185 - val_accuracy: 0.6235\n",
      "Epoch 33/50\n",
      "620/620 [==============================] - 16s 25ms/step - loss: 0.9178 - accuracy: 0.9957 - val_loss: 2.2750 - val_accuracy: 0.6391\n",
      "Epoch 34/50\n",
      "620/620 [==============================] - 16s 25ms/step - loss: 0.8827 - accuracy: 0.9957 - val_loss: 2.2697 - val_accuracy: 0.6095\n",
      "Epoch 35/50\n",
      "620/620 [==============================] - 16s 25ms/step - loss: 0.8458 - accuracy: 0.9964 - val_loss: 2.2280 - val_accuracy: 0.6169\n",
      "Epoch 36/50\n",
      "620/620 [==============================] - 16s 25ms/step - loss: 0.8089 - accuracy: 0.9977 - val_loss: 2.1813 - val_accuracy: 0.6206\n",
      "Epoch 37/50\n",
      "620/620 [==============================] - 16s 25ms/step - loss: 0.7791 - accuracy: 0.9973 - val_loss: 2.2389 - val_accuracy: 0.5976\n",
      "Epoch 38/50\n",
      "620/620 [==============================] - 16s 25ms/step - loss: 0.7476 - accuracy: 0.9978 - val_loss: 2.1000 - val_accuracy: 0.6309\n",
      "Epoch 39/50\n",
      "620/620 [==============================] - 16s 25ms/step - loss: 0.7159 - accuracy: 0.9987 - val_loss: 2.4695 - val_accuracy: 0.5459\n",
      "Epoch 40/50\n",
      "620/620 [==============================] - 16s 25ms/step - loss: 0.6867 - accuracy: 0.9986 - val_loss: 2.0355 - val_accuracy: 0.6368\n",
      "Epoch 41/50\n",
      "620/620 [==============================] - 16s 25ms/step - loss: 0.6585 - accuracy: 0.9983 - val_loss: 1.9979 - val_accuracy: 0.6339\n",
      "Epoch 42/50\n",
      "620/620 [==============================] - 16s 25ms/step - loss: 0.6338 - accuracy: 0.9984 - val_loss: 2.0572 - val_accuracy: 0.6146\n",
      "Epoch 43/50\n",
      "620/620 [==============================] - 16s 25ms/step - loss: 0.6096 - accuracy: 0.9992 - val_loss: 1.8913 - val_accuracy: 0.6538\n",
      "Epoch 44/50\n",
      "620/620 [==============================] - 16s 25ms/step - loss: 0.5855 - accuracy: 0.9986 - val_loss: 2.1674 - val_accuracy: 0.5806\n",
      "Epoch 45/50\n",
      "620/620 [==============================] - 16s 25ms/step - loss: 0.5626 - accuracy: 0.9993 - val_loss: 2.0230 - val_accuracy: 0.5984\n",
      "Epoch 46/50\n",
      "620/620 [==============================] - 16s 25ms/step - loss: 0.5408 - accuracy: 0.9990 - val_loss: 1.9259 - val_accuracy: 0.6213\n",
      "Epoch 47/50\n",
      "620/620 [==============================] - 16s 25ms/step - loss: 0.5200 - accuracy: 0.9990 - val_loss: 1.8048 - val_accuracy: 0.6464\n",
      "Epoch 48/50\n",
      "620/620 [==============================] - 16s 25ms/step - loss: 0.5003 - accuracy: 0.9989 - val_loss: 1.8971 - val_accuracy: 0.6183\n",
      "Epoch 49/50\n",
      "620/620 [==============================] - 16s 25ms/step - loss: 0.4808 - accuracy: 0.9993 - val_loss: 1.7816 - val_accuracy: 0.6413\n",
      "Epoch 50/50\n",
      "620/620 [==============================] - 16s 25ms/step - loss: 0.4614 - accuracy: 0.9995 - val_loss: 1.7115 - val_accuracy: 0.6538\n"
     ]
    }
   ],
   "source": [
    "epochs=50\n",
    "history = model.fit(\n",
    "  train_ds,\n",
    "  validation_data=val_ds,\n",
    "  epochs=epochs\n",
    ")"
   ]
  },
  {
   "cell_type": "markdown",
   "metadata": {
    "id": "MEkFrojuP0p_"
   },
   "source": [
    "**The accuracy for Run 7:**"
   ]
  },
  {
   "cell_type": "code",
   "execution_count": null,
   "metadata": {
    "colab": {
     "base_uri": "https://localhost:8080/",
     "height": 499
    },
    "id": "KKmAGJyXFj87",
    "outputId": "d0d44010-f58b-4f79-8a2f-265841011ee5"
   },
   "outputs": [
    {
     "data": {
      "image/png": "[encoded data removed]",
      "text/plain": [
       "<Figure size 576x576 with 2 Axes>"
      ]
     },
     "metadata": {
      "needs_background": "light"
     },
     "output_type": "display_data"
    }
   ],
   "source": [
    "acc = history.history['accuracy']\n",
    "val_acc = history.history['val_accuracy']\n",
    "\n",
    "loss = history.history['loss']\n",
    "val_loss = history.history['val_loss']\n",
    "\n",
    "epochs_range = range(epochs)\n",
    "\n",
    "plt.figure(figsize=(8, 8))\n",
    "plt.subplot(1, 2, 1)\n",
    "plt.plot(epochs_range, acc, label='Training Accuracy')\n",
    "plt.plot(epochs_range, val_acc, label='Validation Accuracy')\n",
    "plt.legend(loc='lower right')\n",
    "plt.title('Training and Validation Accuracy')\n",
    "\n",
    "plt.subplot(1, 2, 2)\n",
    "plt.plot(epochs_range, loss, label='Training Loss')\n",
    "plt.plot(epochs_range, val_loss, label='Validation Loss')\n",
    "plt.legend(loc='upper right')\n",
    "plt.title('Training and Validation Loss')\n",
    "plt.show()"
   ]
  },
  {
   "cell_type": "code",
   "execution_count": null,
   "metadata": {
    "colab": {
     "base_uri": "https://localhost:8080/",
     "height": 1000
    },
    "id": "raoPPrW-FnTp",
    "outputId": "c6cbe3e8-1af9-4840-d95b-bca2dd265574"
   },
   "outputs": [
    {
     "name": "stdout",
     "output_type": "stream",
     "text": [
      "43/43 [==============================] - 1s 10ms/step\n",
      "\n",
      "Testing Classification Report:\n",
      "\n",
      "               precision    recall  f1-score   support\n",
      "\n",
      "           0       0.89      0.69      0.78        36\n",
      "           1       0.52      0.50      0.51        22\n",
      "           2       0.78      0.48      0.60        29\n",
      "           3       0.54      0.48      0.51        31\n",
      "           4       0.61      0.77      0.68        26\n",
      "           5       0.84      0.90      0.87        30\n",
      "           6       0.85      0.89      0.87        19\n",
      "           7       0.86      0.44      0.59        27\n",
      "           8       0.71      0.79      0.75        28\n",
      "           9       0.73      0.93      0.82        29\n",
      "          10       0.62      0.44      0.52        34\n",
      "          11       0.63      0.73      0.68        33\n",
      "          12       0.89      0.85      0.87        40\n",
      "          13       0.60      0.85      0.70        33\n",
      "          14       0.50      0.48      0.49        33\n",
      "          15       0.69      0.64      0.67        28\n",
      "          16       0.67      0.41      0.51        34\n",
      "          17       0.94      0.88      0.91        33\n",
      "          18       0.50      0.40      0.44        25\n",
      "          19       0.95      0.68      0.79        28\n",
      "          20       0.94      0.94      0.94        34\n",
      "          21       0.86      0.69      0.77        26\n",
      "          22       0.48      0.89      0.63        35\n",
      "          23       0.52      0.38      0.44        32\n",
      "          24       0.89      0.55      0.68        29\n",
      "          25       0.54      0.85      0.66        33\n",
      "          26       0.64      0.66      0.65        32\n",
      "          27       0.67      0.29      0.40        35\n",
      "          28       0.88      0.82      0.85        28\n",
      "          29       0.47      0.70      0.57        27\n",
      "          30       0.56      0.61      0.58        33\n",
      "          31       0.52      0.67      0.58        24\n",
      "          32       0.38      0.37      0.38        27\n",
      "          33       0.76      0.57      0.65        28\n",
      "          34       0.57      0.83      0.68        29\n",
      "          35       0.97      0.88      0.92        34\n",
      "          36       0.52      0.44      0.48        27\n",
      "          37       0.94      0.74      0.83        23\n",
      "          38       0.50      0.64      0.56        22\n",
      "          39       0.58      0.62      0.60        29\n",
      "          40       0.64      0.58      0.61        31\n",
      "          41       0.50      0.36      0.42        28\n",
      "          42       0.46      0.81      0.59        37\n",
      "          43       0.50      0.41      0.45        29\n",
      "          44       0.70      0.71      0.71        42\n",
      "\n",
      "    accuracy                           0.65      1352\n",
      "   macro avg       0.67      0.65      0.65      1352\n",
      "weighted avg       0.68      0.65      0.65      1352\n",
      "\n",
      "\n",
      "Testing Confusion Matrix:\n",
      "\n"
     ]
    },
    {
     "data": {
      "text/plain": [
       "<Figure size 432x288 with 0 Axes>"
      ]
     },
     "execution_count": 40,
     "metadata": {},
     "output_type": "execute_result"
    },
    {
     "data": {
      "image/png": "[encoded data removed]",
      "text/plain": [
       "<Figure size 432x288 with 2 Axes>"
      ]
     },
     "metadata": {
      "needs_background": "light"
     },
     "output_type": "display_data"
    },
    {
     "data": {
      "text/plain": [
       "<Figure size 432x288 with 0 Axes>"
      ]
     },
     "metadata": {},
     "output_type": "display_data"
    }
   ],
   "source": [
    "# predict the labels of the test set\n",
    "predictedY = model.predict(val_ds)\n",
    "predictedY = np.argmax(predictedY, axis=1)\n",
    "testY = np.concatenate([y for x, y in val_ds], axis=0)\n",
    "\n",
    "# print quality metricsl\n",
    "print('\\nTesting Classification Report:\\n\\n', classification_report(testY, predictedY))\n",
    "\n",
    "print('\\nTesting Confusion Matrix:\\n')\n",
    "\n",
    "heatmap(confusion_matrix(testY, predictedY))\n",
    "plt.figure()"
   ]
  },
  {
   "cell_type": "markdown",
   "metadata": {
    "id": "81kATAUMP7bS"
   },
   "source": [
    "**Run 8:**\n",
    "The learning rate has been changed to 0.03 in this run."
   ]
  },
  {
   "cell_type": "code",
   "execution_count": null,
   "metadata": {
    "colab": {
     "base_uri": "https://localhost:8080/"
    },
    "id": "BGHCe4UoFqWp",
    "outputId": "7e0f2c8a-73fe-4d10-fc43-2e4ffd7412ad"
   },
   "outputs": [
    {
     "name": "stdout",
     "output_type": "stream",
     "text": [
      "Model: \"sequential_8\"\n",
      "_________________________________________________________________\n",
      " Layer (type)                Output Shape              Param #   \n",
      "=================================================================\n",
      " rescaling_10 (Rescaling)    (None, 256, 256, 3)       0         \n",
      "                                                                 \n",
      " conv2d_31 (Conv2D)          (None, 256, 256, 32)      896       \n",
      "                                                                 \n",
      " max_pooling2d_31 (MaxPoolin  (None, 128, 128, 32)     0         \n",
      " g2D)                                                            \n",
      "                                                                 \n",
      " dropout_27 (Dropout)        (None, 128, 128, 32)      0         \n",
      "                                                                 \n",
      " batch_normalization_4 (Batc  (None, 128, 128, 32)     128       \n",
      " hNormalization)                                                 \n",
      "                                                                 \n",
      " conv2d_32 (Conv2D)          (None, 128, 128, 64)      18496     \n",
      "                                                                 \n",
      " max_pooling2d_32 (MaxPoolin  (None, 64, 64, 64)       0         \n",
      " g2D)                                                            \n",
      "                                                                 \n",
      " dropout_28 (Dropout)        (None, 64, 64, 64)        0         \n",
      "                                                                 \n",
      " batch_normalization_5 (Batc  (None, 64, 64, 64)       256       \n",
      " hNormalization)                                                 \n",
      "                                                                 \n",
      " conv2d_33 (Conv2D)          (None, 64, 64, 128)       73856     \n",
      "                                                                 \n",
      " max_pooling2d_33 (MaxPoolin  (None, 32, 32, 128)      0         \n",
      " g2D)                                                            \n",
      "                                                                 \n",
      " dropout_29 (Dropout)        (None, 32, 32, 128)       0         \n",
      "                                                                 \n",
      " batch_normalization_6 (Batc  (None, 32, 32, 128)      512       \n",
      " hNormalization)                                                 \n",
      "                                                                 \n",
      " conv2d_34 (Conv2D)          (None, 32, 32, 256)       295168    \n",
      "                                                                 \n",
      " max_pooling2d_34 (MaxPoolin  (None, 16, 16, 256)      0         \n",
      " g2D)                                                            \n",
      "                                                                 \n",
      " dropout_30 (Dropout)        (None, 16, 16, 256)       0         \n",
      "                                                                 \n",
      " flatten_8 (Flatten)         (None, 65536)             0         \n",
      "                                                                 \n",
      " dense_16 (Dense)            (None, 512)               33554944  \n",
      "                                                                 \n",
      " batch_normalization_7 (Batc  (None, 512)              2048      \n",
      " hNormalization)                                                 \n",
      "                                                                 \n",
      " dropout_31 (Dropout)        (None, 512)               0         \n",
      "                                                                 \n",
      " dense_17 (Dense)            (None, 45)                23085     \n",
      "                                                                 \n",
      "=================================================================\n",
      "Total params: 33,969,389\n",
      "Trainable params: 33,967,917\n",
      "Non-trainable params: 1,472\n",
      "_________________________________________________________________\n"
     ]
    }
   ],
   "source": [
    "lambda2 = 0.002\n",
    "\n",
    "model = Sequential([\n",
    "  layers.Rescaling(1./255, input_shape=(img_height, img_width, 3)),\n",
    "  layers.Conv2D(32, 3, padding='same', activation='relu', kernel_regularizer = l2(lambda2)),\n",
    "  layers.MaxPooling2D(),\n",
    "  layers.Dropout(0.25),\n",
    "  layers.BatchNormalization(),\n",
    "  layers.Conv2D(64, 3, padding='same', activation='relu', kernel_regularizer = l2(lambda2)),\n",
    "  layers.MaxPooling2D(),\n",
    "  layers.Dropout(0.25),\n",
    "  layers.BatchNormalization(),\n",
    "  layers.Conv2D(128, 3, padding='same', activation='relu', kernel_regularizer = l2(lambda2)),\n",
    "  layers.MaxPooling2D(),\n",
    "  layers.Dropout(0.25),\n",
    "  layers.BatchNormalization(),\n",
    "  layers.Conv2D(256, 3, padding='same', activation='relu', kernel_regularizer = l2(lambda2)),\n",
    "  layers.MaxPooling2D(),\n",
    "  layers.Dropout(0.5),\n",
    "  layers.Flatten(),\n",
    "  layers.Dense(512, activation='relu', kernel_regularizer = l2(lambda2)),\n",
    "  layers.BatchNormalization(),\n",
    "  layers.Dropout(0.5),\n",
    "  layers.Dense(num_classes, activation='softmax', kernel_regularizer = l2(lambda2))\n",
    "])\n",
    "model.compile(optimizer=SGD(0.03), loss=tf.keras.losses.SparseCategoricalCrossentropy(from_logits=True),\n",
    "              metrics=['accuracy'])\n",
    "model.summary()"
   ]
  },
  {
   "cell_type": "code",
   "execution_count": null,
   "metadata": {
    "colab": {
     "base_uri": "https://localhost:8080/"
    },
    "id": "0HNyc4KqF4J3",
    "outputId": "31281fc2-1d4d-4c24-c2b0-6d0e20d8e4fa"
   },
   "outputs": [
    {
     "name": "stdout",
     "output_type": "stream",
     "text": [
      "Epoch 1/50\n",
      "620/620 [==============================] - 17s 26ms/step - loss: 5.8268 - accuracy: 0.2059 - val_loss: 6.3248 - val_accuracy: 0.1191\n",
      "Epoch 2/50\n",
      "620/620 [==============================] - 16s 25ms/step - loss: 4.8609 - accuracy: 0.3513 - val_loss: 5.4976 - val_accuracy: 0.1945\n",
      "Epoch 3/50\n",
      "620/620 [==============================] - 16s 25ms/step - loss: 4.2704 - accuracy: 0.4406 - val_loss: 5.0789 - val_accuracy: 0.2544\n",
      "Epoch 4/50\n",
      "620/620 [==============================] - 16s 25ms/step - loss: 3.8479 - accuracy: 0.5031 - val_loss: 4.3997 - val_accuracy: 0.3543\n",
      "Epoch 5/50\n",
      "620/620 [==============================] - 16s 25ms/step - loss: 3.4944 - accuracy: 0.5471 - val_loss: 4.6254 - val_accuracy: 0.2922\n",
      "Epoch 6/50\n",
      "620/620 [==============================] - 16s 25ms/step - loss: 3.2058 - accuracy: 0.5902 - val_loss: 3.8100 - val_accuracy: 0.4357\n",
      "Epoch 7/50\n",
      "620/620 [==============================] - 16s 25ms/step - loss: 2.9641 - accuracy: 0.6264 - val_loss: 4.2268 - val_accuracy: 0.3425\n",
      "Epoch 8/50\n",
      "620/620 [==============================] - 16s 25ms/step - loss: 2.7710 - accuracy: 0.6627 - val_loss: 4.3295 - val_accuracy: 0.3003\n",
      "Epoch 9/50\n",
      "620/620 [==============================] - 16s 25ms/step - loss: 2.5632 - accuracy: 0.7024 - val_loss: 3.2732 - val_accuracy: 0.5192\n",
      "Epoch 10/50\n",
      "620/620 [==============================] - 16s 25ms/step - loss: 2.3902 - accuracy: 0.7378 - val_loss: 3.5361 - val_accuracy: 0.4497\n",
      "Epoch 11/50\n",
      "620/620 [==============================] - 16s 25ms/step - loss: 2.2296 - accuracy: 0.7738 - val_loss: 3.2978 - val_accuracy: 0.5325\n",
      "Epoch 12/50\n",
      "620/620 [==============================] - 16s 25ms/step - loss: 2.0963 - accuracy: 0.8072 - val_loss: 3.4201 - val_accuracy: 0.4845\n",
      "Epoch 13/50\n",
      "620/620 [==============================] - 16s 25ms/step - loss: 1.9935 - accuracy: 0.8312 - val_loss: 3.6719 - val_accuracy: 0.4497\n",
      "Epoch 14/50\n",
      "620/620 [==============================] - 16s 25ms/step - loss: 1.8881 - accuracy: 0.8591 - val_loss: 4.0477 - val_accuracy: 0.4149\n",
      "Epoch 15/50\n",
      "620/620 [==============================] - 16s 25ms/step - loss: 1.8137 - accuracy: 0.8747 - val_loss: 2.9934 - val_accuracy: 0.5510\n",
      "Epoch 16/50\n",
      "620/620 [==============================] - 16s 25ms/step - loss: 1.7295 - accuracy: 0.8982 - val_loss: 3.5331 - val_accuracy: 0.4771\n",
      "Epoch 17/50\n",
      "620/620 [==============================] - 16s 25ms/step - loss: 1.6607 - accuracy: 0.9080 - val_loss: 3.0879 - val_accuracy: 0.5444\n",
      "Epoch 18/50\n",
      "620/620 [==============================] - 16s 25ms/step - loss: 1.5850 - accuracy: 0.9254 - val_loss: 3.9868 - val_accuracy: 0.4112\n",
      "Epoch 19/50\n",
      "620/620 [==============================] - 16s 25ms/step - loss: 1.5328 - accuracy: 0.9296 - val_loss: 3.3997 - val_accuracy: 0.4845\n",
      "Epoch 20/50\n",
      "620/620 [==============================] - 16s 25ms/step - loss: 1.5007 - accuracy: 0.9321 - val_loss: 2.8633 - val_accuracy: 0.5791\n",
      "Epoch 21/50\n",
      "620/620 [==============================] - 16s 25ms/step - loss: 1.4595 - accuracy: 0.9375 - val_loss: 3.6091 - val_accuracy: 0.4490\n",
      "Epoch 22/50\n",
      "620/620 [==============================] - 16s 25ms/step - loss: 1.4295 - accuracy: 0.9399 - val_loss: 3.0724 - val_accuracy: 0.5385\n",
      "Epoch 23/50\n",
      "620/620 [==============================] - 16s 25ms/step - loss: 1.3978 - accuracy: 0.9443 - val_loss: 3.0443 - val_accuracy: 0.5155\n",
      "Epoch 24/50\n",
      "620/620 [==============================] - 16s 25ms/step - loss: 1.3688 - accuracy: 0.9449 - val_loss: 3.1971 - val_accuracy: 0.4978\n",
      "Epoch 25/50\n",
      "620/620 [==============================] - 16s 25ms/step - loss: 1.3352 - accuracy: 0.9515 - val_loss: 3.2260 - val_accuracy: 0.4793\n",
      "Epoch 26/50\n",
      "620/620 [==============================] - 16s 25ms/step - loss: 1.3149 - accuracy: 0.9515 - val_loss: 3.2093 - val_accuracy: 0.4660\n",
      "Epoch 27/50\n",
      "620/620 [==============================] - 16s 25ms/step - loss: 1.2935 - accuracy: 0.9545 - val_loss: 3.5025 - val_accuracy: 0.4408\n",
      "Epoch 28/50\n",
      "620/620 [==============================] - 16s 25ms/step - loss: 1.2715 - accuracy: 0.9578 - val_loss: 3.4405 - val_accuracy: 0.4312\n",
      "Epoch 29/50\n",
      "620/620 [==============================] - 16s 25ms/step - loss: 1.2517 - accuracy: 0.9558 - val_loss: 3.2471 - val_accuracy: 0.4756\n",
      "Epoch 30/50\n",
      "620/620 [==============================] - 16s 25ms/step - loss: 1.2478 - accuracy: 0.9551 - val_loss: 2.9011 - val_accuracy: 0.5133\n",
      "Epoch 31/50\n",
      "620/620 [==============================] - 16s 25ms/step - loss: 1.2443 - accuracy: 0.9564 - val_loss: 3.1242 - val_accuracy: 0.4852\n",
      "Epoch 32/50\n",
      "620/620 [==============================] - 16s 25ms/step - loss: 1.2450 - accuracy: 0.9552 - val_loss: 2.9229 - val_accuracy: 0.5318\n",
      "Epoch 33/50\n",
      "620/620 [==============================] - 16s 25ms/step - loss: 1.2462 - accuracy: 0.9563 - val_loss: 2.7528 - val_accuracy: 0.5629\n",
      "Epoch 34/50\n",
      "620/620 [==============================] - 16s 25ms/step - loss: 1.2514 - accuracy: 0.9521 - val_loss: 2.6578 - val_accuracy: 0.5791\n",
      "Epoch 35/50\n",
      "620/620 [==============================] - 16s 25ms/step - loss: 1.2321 - accuracy: 0.9615 - val_loss: 3.3256 - val_accuracy: 0.4667\n",
      "Epoch 36/50\n",
      "620/620 [==============================] - 16s 25ms/step - loss: 1.2335 - accuracy: 0.9575 - val_loss: 2.6531 - val_accuracy: 0.5999\n",
      "Epoch 37/50\n",
      "620/620 [==============================] - 16s 25ms/step - loss: 1.2271 - accuracy: 0.9604 - val_loss: 2.7334 - val_accuracy: 0.5873\n",
      "Epoch 38/50\n",
      "620/620 [==============================] - 16s 25ms/step - loss: 1.2409 - accuracy: 0.9558 - val_loss: 2.8837 - val_accuracy: 0.5281\n",
      "Epoch 39/50\n",
      "620/620 [==============================] - 16s 25ms/step - loss: 1.2143 - accuracy: 0.9645 - val_loss: 2.6063 - val_accuracy: 0.5799\n",
      "Epoch 40/50\n",
      "620/620 [==============================] - 16s 25ms/step - loss: 1.2150 - accuracy: 0.9619 - val_loss: 3.9953 - val_accuracy: 0.3802\n",
      "Epoch 41/50\n",
      "620/620 [==============================] - 16s 25ms/step - loss: 1.2140 - accuracy: 0.9619 - val_loss: 2.6726 - val_accuracy: 0.5710\n",
      "Epoch 42/50\n",
      "620/620 [==============================] - 16s 25ms/step - loss: 1.2099 - accuracy: 0.9607 - val_loss: 3.9509 - val_accuracy: 0.3558\n",
      "Epoch 43/50\n",
      "620/620 [==============================] - 16s 25ms/step - loss: 1.2232 - accuracy: 0.9601 - val_loss: 2.8615 - val_accuracy: 0.5488\n",
      "Epoch 44/50\n",
      "620/620 [==============================] - 16s 25ms/step - loss: 1.2172 - accuracy: 0.9620 - val_loss: 2.8610 - val_accuracy: 0.5259\n",
      "Epoch 45/50\n",
      "620/620 [==============================] - 16s 25ms/step - loss: 1.2238 - accuracy: 0.9595 - val_loss: 2.9658 - val_accuracy: 0.5266\n",
      "Epoch 46/50\n",
      "620/620 [==============================] - 16s 25ms/step - loss: 1.2365 - accuracy: 0.9601 - val_loss: 2.8180 - val_accuracy: 0.5362\n",
      "Epoch 47/50\n",
      "620/620 [==============================] - 15s 25ms/step - loss: 1.2412 - accuracy: 0.9601 - val_loss: 3.0010 - val_accuracy: 0.5141\n",
      "Epoch 48/50\n",
      "620/620 [==============================] - 16s 25ms/step - loss: 1.2487 - accuracy: 0.9603 - val_loss: 3.3193 - val_accuracy: 0.4926\n",
      "Epoch 49/50\n",
      "620/620 [==============================] - 16s 25ms/step - loss: 1.2538 - accuracy: 0.9613 - val_loss: 5.2365 - val_accuracy: 0.2700\n",
      "Epoch 50/50\n",
      "620/620 [==============================] - 16s 25ms/step - loss: 1.2556 - accuracy: 0.9626 - val_loss: 2.7937 - val_accuracy: 0.5703\n"
     ]
    }
   ],
   "source": [
    "epochs=50\n",
    "history = model.fit(\n",
    "  train_ds,\n",
    "  validation_data=val_ds,\n",
    "  epochs=epochs\n",
    ")"
   ]
  },
  {
   "cell_type": "markdown",
   "metadata": {
    "id": "e5rPEodHQF5X"
   },
   "source": [
    "**The accuracy for Run 8:**"
   ]
  },
  {
   "cell_type": "code",
   "execution_count": null,
   "metadata": {
    "colab": {
     "base_uri": "https://localhost:8080/",
     "height": 499
    },
    "id": "FC1sEMsNI8IZ",
    "outputId": "efe37e02-e5cc-4142-feac-75e46322c52d"
   },
   "outputs": [
    {
     "data": {
      "image/png": "[encoded data removed]",
      "text/plain": [
       "<Figure size 576x576 with 2 Axes>"
      ]
     },
     "metadata": {
      "needs_background": "light"
     },
     "output_type": "display_data"
    }
   ],
   "source": [
    "acc = history.history['accuracy']\n",
    "val_acc = history.history['val_accuracy']\n",
    "\n",
    "loss = history.history['loss']\n",
    "val_loss = history.history['val_loss']\n",
    "\n",
    "epochs_range = range(epochs)\n",
    "\n",
    "plt.figure(figsize=(8, 8))\n",
    "plt.subplot(1, 2, 1)\n",
    "plt.plot(epochs_range, acc, label='Training Accuracy')\n",
    "plt.plot(epochs_range, val_acc, label='Validation Accuracy')\n",
    "plt.legend(loc='lower right')\n",
    "plt.title('Training and Validation Accuracy')\n",
    "\n",
    "plt.subplot(1, 2, 2)\n",
    "plt.plot(epochs_range, loss, label='Training Loss')\n",
    "plt.plot(epochs_range, val_loss, label='Validation Loss')\n",
    "plt.legend(loc='upper right')\n",
    "plt.title('Training and Validation Loss')\n",
    "plt.show()"
   ]
  },
  {
   "cell_type": "code",
   "execution_count": null,
   "metadata": {
    "colab": {
     "base_uri": "https://localhost:8080/",
     "height": 1000
    },
    "id": "w9cjrd1NJAMJ",
    "outputId": "51c25a3b-de07-4947-dd90-ca648f0c5be9"
   },
   "outputs": [
    {
     "name": "stdout",
     "output_type": "stream",
     "text": [
      "43/43 [==============================] - 1s 10ms/step\n",
      "\n",
      "Testing Classification Report:\n",
      "\n",
      "               precision    recall  f1-score   support\n",
      "\n",
      "           0       0.40      0.75      0.52        36\n",
      "           1       0.30      0.27      0.29        22\n",
      "           2       0.75      0.31      0.44        29\n",
      "           3       0.67      0.32      0.43        31\n",
      "           4       0.50      0.88      0.64        26\n",
      "           5       0.64      0.83      0.72        30\n",
      "           6       1.00      0.74      0.85        19\n",
      "           7       0.83      0.37      0.51        27\n",
      "           8       0.90      0.32      0.47        28\n",
      "           9       0.68      0.93      0.78        29\n",
      "          10       0.41      0.21      0.27        34\n",
      "          11       0.79      0.45      0.58        33\n",
      "          12       0.89      0.82      0.86        40\n",
      "          13       0.92      0.67      0.77        33\n",
      "          14       0.52      0.48      0.50        33\n",
      "          15       0.70      0.50      0.58        28\n",
      "          16       0.83      0.29      0.43        34\n",
      "          17       1.00      0.85      0.92        33\n",
      "          18       0.45      0.20      0.28        25\n",
      "          19       1.00      0.50      0.67        28\n",
      "          20       0.89      0.97      0.93        34\n",
      "          21       0.73      0.85      0.79        26\n",
      "          22       0.46      0.89      0.61        35\n",
      "          23       0.83      0.16      0.26        32\n",
      "          24       0.83      0.52      0.64        29\n",
      "          25       0.55      0.73      0.62        33\n",
      "          26       0.77      0.53      0.63        32\n",
      "          27       0.64      0.20      0.30        35\n",
      "          28       0.95      0.75      0.84        28\n",
      "          29       0.29      0.89      0.43        27\n",
      "          30       0.44      0.58      0.50        33\n",
      "          31       0.46      0.71      0.56        24\n",
      "          32       0.24      0.26      0.25        27\n",
      "          33       0.67      0.50      0.57        28\n",
      "          34       0.37      0.83      0.51        29\n",
      "          35       0.66      0.91      0.77        34\n",
      "          36       0.34      0.52      0.41        27\n",
      "          37       0.92      0.48      0.63        23\n",
      "          38       0.53      0.41      0.46        22\n",
      "          39       0.50      0.52      0.51        29\n",
      "          40       0.74      0.45      0.56        31\n",
      "          41       0.43      0.32      0.37        28\n",
      "          42       0.61      0.59      0.60        37\n",
      "          43       0.35      0.45      0.39        29\n",
      "          44       0.43      0.69      0.53        42\n",
      "\n",
      "    accuracy                           0.57      1352\n",
      "   macro avg       0.64      0.56      0.56      1352\n",
      "weighted avg       0.64      0.57      0.56      1352\n",
      "\n",
      "\n",
      "Testing Confusion Matrix:\n",
      "\n"
     ]
    },
    {
     "data": {
      "text/plain": [
       "<Figure size 432x288 with 0 Axes>"
      ]
     },
     "execution_count": 44,
     "metadata": {},
     "output_type": "execute_result"
    },
    {
     "data": {
      "image/png": "[encoded data removed]",
      "text/plain": [
       "<Figure size 432x288 with 2 Axes>"
      ]
     },
     "metadata": {
      "needs_background": "light"
     },
     "output_type": "display_data"
    },
    {
     "data": {
      "text/plain": [
       "<Figure size 432x288 with 0 Axes>"
      ]
     },
     "metadata": {},
     "output_type": "display_data"
    }
   ],
   "source": [
    "# predict the labels of the test set\n",
    "predictedY = model.predict(val_ds)\n",
    "predictedY = np.argmax(predictedY, axis=1)\n",
    "testY = np.concatenate([y for x, y in val_ds], axis=0)\n",
    "\n",
    "# print quality metricsl\n",
    "print('\\nTesting Classification Report:\\n\\n', classification_report(testY, predictedY))\n",
    "\n",
    "print('\\nTesting Confusion Matrix:\\n')\n",
    "\n",
    "heatmap(confusion_matrix(testY, predictedY))\n",
    "plt.figure()"
   ]
  },
  {
   "cell_type": "markdown",
   "metadata": {
    "id": "e_c86v8oQKg-"
   },
   "source": [
    "**Run 9: Accuracy: 69%**\n",
    "**The Best Result**\n",
    "different layers and hyperparameters in layers have been used in this run.\n",
    "Also, another dropout have been added."
   ]
  },
  {
   "cell_type": "code",
   "execution_count": null,
   "metadata": {
    "colab": {
     "base_uri": "https://localhost:8080/"
    },
    "id": "uENQkzzyJGn6",
    "outputId": "2d85e1b0-8ffc-4054-ddc6-8351dcb01efd"
   },
   "outputs": [
    {
     "name": "stdout",
     "output_type": "stream",
     "text": [
      "Model: \"sequential_9\"\n",
      "_________________________________________________________________\n",
      " Layer (type)                Output Shape              Param #   \n",
      "=================================================================\n",
      " rescaling_11 (Rescaling)    (None, 256, 256, 3)       0         \n",
      "                                                                 \n",
      " conv2d_35 (Conv2D)          (None, 256, 256, 32)      896       \n",
      "                                                                 \n",
      " batch_normalization_8 (Batc  (None, 256, 256, 32)     128       \n",
      " hNormalization)                                                 \n",
      "                                                                 \n",
      " max_pooling2d_35 (MaxPoolin  (None, 128, 128, 32)     0         \n",
      " g2D)                                                            \n",
      "                                                                 \n",
      " dropout_32 (Dropout)        (None, 128, 128, 32)      0         \n",
      "                                                                 \n",
      " conv2d_36 (Conv2D)          (None, 128, 128, 64)      18496     \n",
      "                                                                 \n",
      " batch_normalization_9 (Batc  (None, 128, 128, 64)     256       \n",
      " hNormalization)                                                 \n",
      "                                                                 \n",
      " max_pooling2d_36 (MaxPoolin  (None, 64, 64, 64)       0         \n",
      " g2D)                                                            \n",
      "                                                                 \n",
      " dropout_33 (Dropout)        (None, 64, 64, 64)        0         \n",
      "                                                                 \n",
      " conv2d_37 (Conv2D)          (None, 64, 64, 128)       73856     \n",
      "                                                                 \n",
      " batch_normalization_10 (Bat  (None, 64, 64, 128)      512       \n",
      " chNormalization)                                                \n",
      "                                                                 \n",
      " max_pooling2d_37 (MaxPoolin  (None, 32, 32, 128)      0         \n",
      " g2D)                                                            \n",
      "                                                                 \n",
      " dropout_34 (Dropout)        (None, 32, 32, 128)       0         \n",
      "                                                                 \n",
      " conv2d_38 (Conv2D)          (None, 32, 32, 256)       295168    \n",
      "                                                                 \n",
      " batch_normalization_11 (Bat  (None, 32, 32, 256)      1024      \n",
      " chNormalization)                                                \n",
      "                                                                 \n",
      " max_pooling2d_38 (MaxPoolin  (None, 16, 16, 256)      0         \n",
      " g2D)                                                            \n",
      "                                                                 \n",
      " dropout_35 (Dropout)        (None, 16, 16, 256)       0         \n",
      "                                                                 \n",
      " flatten_9 (Flatten)         (None, 65536)             0         \n",
      "                                                                 \n",
      " dense_18 (Dense)            (None, 512)               33554944  \n",
      "                                                                 \n",
      " batch_normalization_12 (Bat  (None, 512)              2048      \n",
      " chNormalization)                                                \n",
      "                                                                 \n",
      " dropout_36 (Dropout)        (None, 512)               0         \n",
      "                                                                 \n",
      " dense_19 (Dense)            (None, 45)                23085     \n",
      "                                                                 \n",
      "=================================================================\n",
      "Total params: 33,970,413\n",
      "Trainable params: 33,968,429\n",
      "Non-trainable params: 1,984\n",
      "_________________________________________________________________\n"
     ]
    }
   ],
   "source": [
    "lambda2 = 0.002\n",
    "\n",
    "model = Sequential([\n",
    "  layers.Rescaling(1./255, input_shape=(img_height, img_width, 3)),\n",
    "  layers.Conv2D(32, 3, padding='same', activation='relu', kernel_regularizer = l2(lambda2)),\n",
    "  layers.BatchNormalization(),\n",
    "  layers.MaxPooling2D(),\n",
    "  layers.Dropout(0.25),\n",
    "  layers.Conv2D(64, 3, padding='same', activation='relu', kernel_regularizer = l2(lambda2)),\n",
    "  layers.BatchNormalization(),\n",
    "  layers.MaxPooling2D(),\n",
    "  layers.Dropout(0.25),\n",
    "  layers.Conv2D(128, 3, padding='same', activation='relu', kernel_regularizer = l2(lambda2)),\n",
    "  layers.BatchNormalization(),\n",
    "  layers.MaxPooling2D(),\n",
    "  layers.Dropout(0.25),\n",
    "  layers.Conv2D(256, 3, padding='same', activation='relu', kernel_regularizer = l2(lambda2)),\n",
    "  layers.BatchNormalization(),\n",
    "  layers.MaxPooling2D(),\n",
    "  layers.Dropout(0.5),\n",
    "  layers.Flatten(),\n",
    "  layers.Dense(512, activation='relu', kernel_regularizer = l2(lambda2)),\n",
    "  layers.BatchNormalization(),\n",
    "  layers.Dropout(0.5),\n",
    "  layers.Dense(num_classes, activation='softmax', kernel_regularizer = l2(lambda2))\n",
    "])\n",
    "model.compile(optimizer=SGD(0.01), loss=tf.keras.losses.SparseCategoricalCrossentropy(from_logits=True),\n",
    "              metrics=['accuracy'])\n",
    "model.summary()"
   ]
  },
  {
   "cell_type": "code",
   "execution_count": null,
   "metadata": {
    "colab": {
     "base_uri": "https://localhost:8080/"
    },
    "id": "JEate2knJfmG",
    "outputId": "fa292c4b-b1ca-4f8c-9cd8-a5277b3f27a6"
   },
   "outputs": [
    {
     "name": "stdout",
     "output_type": "stream",
     "text": [
      "Epoch 1/50\n",
      "620/620 [==============================] - 21s 32ms/step - loss: 5.9842 - accuracy: 0.2144 - val_loss: 6.9274 - val_accuracy: 0.1050\n",
      "Epoch 2/50\n",
      "620/620 [==============================] - 19s 31ms/step - loss: 5.0248 - accuracy: 0.3690 - val_loss: 7.2252 - val_accuracy: 0.1679\n",
      "Epoch 3/50\n",
      "620/620 [==============================] - 20s 32ms/step - loss: 4.5053 - accuracy: 0.4670 - val_loss: 6.3068 - val_accuracy: 0.2655\n",
      "Epoch 4/50\n",
      "620/620 [==============================] - 20s 32ms/step - loss: 4.1163 - accuracy: 0.5518 - val_loss: 5.1618 - val_accuracy: 0.3824\n",
      "Epoch 5/50\n",
      "620/620 [==============================] - 20s 32ms/step - loss: 3.7735 - accuracy: 0.6220 - val_loss: 4.2324 - val_accuracy: 0.5148\n",
      "Epoch 6/50\n",
      "620/620 [==============================] - 20s 32ms/step - loss: 3.4849 - accuracy: 0.6844 - val_loss: 4.2058 - val_accuracy: 0.5170\n",
      "Epoch 7/50\n",
      "620/620 [==============================] - 20s 32ms/step - loss: 3.2307 - accuracy: 0.7402 - val_loss: 4.3395 - val_accuracy: 0.4682\n",
      "Epoch 8/50\n",
      "620/620 [==============================] - 20s 32ms/step - loss: 3.0067 - accuracy: 0.7909 - val_loss: 3.8756 - val_accuracy: 0.5851\n",
      "Epoch 9/50\n",
      "620/620 [==============================] - 20s 32ms/step - loss: 2.8139 - accuracy: 0.8293 - val_loss: 3.6871 - val_accuracy: 0.6065\n",
      "Epoch 10/50\n",
      "620/620 [==============================] - 20s 32ms/step - loss: 2.6377 - accuracy: 0.8661 - val_loss: 3.5353 - val_accuracy: 0.6235\n",
      "Epoch 11/50\n",
      "620/620 [==============================] - 20s 32ms/step - loss: 2.4716 - accuracy: 0.9002 - val_loss: 3.5312 - val_accuracy: 0.6080\n",
      "Epoch 12/50\n",
      "620/620 [==============================] - 20s 32ms/step - loss: 2.3441 - accuracy: 0.9165 - val_loss: 3.4325 - val_accuracy: 0.6161\n",
      "Epoch 13/50\n",
      "620/620 [==============================] - 20s 32ms/step - loss: 2.2135 - accuracy: 0.9381 - val_loss: 3.4795 - val_accuracy: 0.5747\n",
      "Epoch 14/50\n",
      "620/620 [==============================] - 20s 32ms/step - loss: 2.1031 - accuracy: 0.9520 - val_loss: 3.2051 - val_accuracy: 0.6590\n",
      "Epoch 15/50\n",
      "620/620 [==============================] - 20s 32ms/step - loss: 2.0129 - accuracy: 0.9567 - val_loss: 3.2243 - val_accuracy: 0.6309\n",
      "Epoch 16/50\n",
      "620/620 [==============================] - 20s 32ms/step - loss: 1.9136 - accuracy: 0.9661 - val_loss: 3.0993 - val_accuracy: 0.6516\n",
      "Epoch 17/50\n",
      "620/620 [==============================] - 20s 32ms/step - loss: 1.8300 - accuracy: 0.9739 - val_loss: 2.9764 - val_accuracy: 0.6428\n",
      "Epoch 18/50\n",
      "620/620 [==============================] - 20s 32ms/step - loss: 1.7454 - accuracy: 0.9792 - val_loss: 3.1273 - val_accuracy: 0.6183\n",
      "Epoch 19/50\n",
      "620/620 [==============================] - 20s 32ms/step - loss: 1.6706 - accuracy: 0.9822 - val_loss: 2.9449 - val_accuracy: 0.6354\n",
      "Epoch 20/50\n",
      "620/620 [==============================] - 20s 32ms/step - loss: 1.6010 - accuracy: 0.9825 - val_loss: 2.8169 - val_accuracy: 0.6620\n",
      "Epoch 21/50\n",
      "620/620 [==============================] - 20s 32ms/step - loss: 1.5300 - accuracy: 0.9875 - val_loss: 2.8930 - val_accuracy: 0.6309\n",
      "Epoch 22/50\n",
      "620/620 [==============================] - 20s 32ms/step - loss: 1.4690 - accuracy: 0.9888 - val_loss: 2.7756 - val_accuracy: 0.6354\n",
      "Epoch 23/50\n",
      "620/620 [==============================] - 20s 32ms/step - loss: 1.4065 - accuracy: 0.9907 - val_loss: 2.6509 - val_accuracy: 0.6516\n",
      "Epoch 24/50\n",
      "620/620 [==============================] - 20s 32ms/step - loss: 1.3448 - accuracy: 0.9928 - val_loss: 2.5767 - val_accuracy: 0.6664\n",
      "Epoch 25/50\n",
      "620/620 [==============================] - 20s 32ms/step - loss: 1.2886 - accuracy: 0.9938 - val_loss: 2.5319 - val_accuracy: 0.6605\n",
      "Epoch 26/50\n",
      "620/620 [==============================] - 20s 31ms/step - loss: 1.2359 - accuracy: 0.9937 - val_loss: 2.4594 - val_accuracy: 0.6649\n",
      "Epoch 27/50\n",
      "620/620 [==============================] - 20s 32ms/step - loss: 1.1839 - accuracy: 0.9946 - val_loss: 2.4446 - val_accuracy: 0.6546\n",
      "Epoch 28/50\n",
      "620/620 [==============================] - 20s 32ms/step - loss: 1.1348 - accuracy: 0.9964 - val_loss: 2.4075 - val_accuracy: 0.6612\n",
      "Epoch 29/50\n",
      "620/620 [==============================] - 20s 31ms/step - loss: 1.0901 - accuracy: 0.9957 - val_loss: 2.3100 - val_accuracy: 0.6701\n",
      "Epoch 30/50\n",
      "620/620 [==============================] - 20s 32ms/step - loss: 1.0469 - accuracy: 0.9953 - val_loss: 2.3033 - val_accuracy: 0.6516\n",
      "Epoch 31/50\n",
      "620/620 [==============================] - 20s 32ms/step - loss: 1.0027 - accuracy: 0.9974 - val_loss: 2.2117 - val_accuracy: 0.6783\n",
      "Epoch 32/50\n",
      "620/620 [==============================] - 20s 31ms/step - loss: 0.9638 - accuracy: 0.9970 - val_loss: 2.1607 - val_accuracy: 0.6783\n",
      "Epoch 33/50\n",
      "620/620 [==============================] - 20s 32ms/step - loss: 0.9235 - accuracy: 0.9974 - val_loss: 2.1438 - val_accuracy: 0.6775\n",
      "Epoch 34/50\n",
      "620/620 [==============================] - 20s 32ms/step - loss: 0.8866 - accuracy: 0.9981 - val_loss: 2.0854 - val_accuracy: 0.6657\n",
      "Epoch 35/50\n",
      "620/620 [==============================] - 20s 32ms/step - loss: 0.8509 - accuracy: 0.9978 - val_loss: 2.0823 - val_accuracy: 0.6672\n",
      "Epoch 36/50\n",
      "620/620 [==============================] - 20s 32ms/step - loss: 0.8154 - accuracy: 0.9983 - val_loss: 2.0092 - val_accuracy: 0.6812\n",
      "Epoch 37/50\n",
      "620/620 [==============================] - 20s 32ms/step - loss: 0.7856 - accuracy: 0.9980 - val_loss: 2.0444 - val_accuracy: 0.6635\n",
      "Epoch 38/50\n",
      "620/620 [==============================] - 20s 32ms/step - loss: 0.7518 - accuracy: 0.9986 - val_loss: 1.9505 - val_accuracy: 0.6686\n",
      "Epoch 39/50\n",
      "620/620 [==============================] - 20s 31ms/step - loss: 0.7283 - accuracy: 0.9974 - val_loss: 2.0198 - val_accuracy: 0.6612\n",
      "Epoch 40/50\n",
      "620/620 [==============================] - 20s 32ms/step - loss: 0.6971 - accuracy: 0.9986 - val_loss: 1.8647 - val_accuracy: 0.6768\n",
      "Epoch 41/50\n",
      "620/620 [==============================] - 20s 32ms/step - loss: 0.6703 - accuracy: 0.9988 - val_loss: 1.8643 - val_accuracy: 0.6812\n",
      "Epoch 42/50\n",
      "620/620 [==============================] - 20s 31ms/step - loss: 0.6452 - accuracy: 0.9985 - val_loss: 1.8553 - val_accuracy: 0.6716\n",
      "Epoch 43/50\n",
      "620/620 [==============================] - 20s 32ms/step - loss: 0.6216 - accuracy: 0.9986 - val_loss: 1.7626 - val_accuracy: 0.6857\n",
      "Epoch 44/50\n",
      "620/620 [==============================] - 20s 32ms/step - loss: 0.6006 - accuracy: 0.9984 - val_loss: 1.7557 - val_accuracy: 0.6893\n",
      "Epoch 45/50\n",
      "620/620 [==============================] - 20s 32ms/step - loss: 0.5748 - accuracy: 0.9994 - val_loss: 1.7650 - val_accuracy: 0.6701\n",
      "Epoch 46/50\n",
      "620/620 [==============================] - 20s 32ms/step - loss: 0.5549 - accuracy: 0.9991 - val_loss: 1.8956 - val_accuracy: 0.6516\n",
      "Epoch 47/50\n",
      "620/620 [==============================] - 20s 32ms/step - loss: 0.5359 - accuracy: 0.9987 - val_loss: 1.7459 - val_accuracy: 0.6709\n",
      "Epoch 48/50\n",
      "620/620 [==============================] - 20s 32ms/step - loss: 0.5161 - accuracy: 0.9992 - val_loss: 1.6769 - val_accuracy: 0.6783\n",
      "Epoch 49/50\n",
      "620/620 [==============================] - 20s 31ms/step - loss: 0.4992 - accuracy: 0.9985 - val_loss: 1.6397 - val_accuracy: 0.6775\n",
      "Epoch 50/50\n",
      "620/620 [==============================] - 19s 31ms/step - loss: 0.4791 - accuracy: 0.9994 - val_loss: 1.6617 - val_accuracy: 0.6834\n"
     ]
    }
   ],
   "source": [
    "epochs=50\n",
    "history = model.fit(\n",
    "  train_ds,\n",
    "  validation_data=val_ds,\n",
    "  epochs=epochs\n",
    ")"
   ]
  },
  {
   "cell_type": "markdown",
   "metadata": {
    "id": "gR3EWVzZQrdA"
   },
   "source": [
    "**The accuracy for Run 9:**"
   ]
  },
  {
   "cell_type": "code",
   "execution_count": null,
   "metadata": {
    "colab": {
     "base_uri": "https://localhost:8080/",
     "height": 499
    },
    "id": "VVSYJknnKkIw",
    "outputId": "1926b826-3102-4a87-c95d-66bdad33bc90"
   },
   "outputs": [
    {
     "data": {
      "image/png": "[encoded data removed]",
      "text/plain": [
       "<Figure size 576x576 with 2 Axes>"
      ]
     },
     "metadata": {
      "needs_background": "light"
     },
     "output_type": "display_data"
    }
   ],
   "source": [
    "acc = history.history['accuracy']\n",
    "val_acc = history.history['val_accuracy']\n",
    "\n",
    "loss = history.history['loss']\n",
    "val_loss = history.history['val_loss']\n",
    "\n",
    "epochs_range = range(epochs)\n",
    "\n",
    "plt.figure(figsize=(8, 8))\n",
    "plt.subplot(1, 2, 1)\n",
    "plt.plot(epochs_range, acc, label='Training Accuracy')\n",
    "plt.plot(epochs_range, val_acc, label='Validation Accuracy')\n",
    "plt.legend(loc='lower right')\n",
    "plt.title('Training and Validation Accuracy')\n",
    "\n",
    "plt.subplot(1, 2, 2)\n",
    "plt.plot(epochs_range, loss, label='Training Loss')\n",
    "plt.plot(epochs_range, val_loss, label='Validation Loss')\n",
    "plt.legend(loc='upper right')\n",
    "plt.title('Training and Validation Loss')\n",
    "plt.show()"
   ]
  },
  {
   "cell_type": "code",
   "execution_count": null,
   "metadata": {
    "colab": {
     "base_uri": "https://localhost:8080/",
     "height": 1000
    },
    "id": "dTi08ckuKnhz",
    "outputId": "a19631bb-f9f3-469d-a369-794840f661b2"
   },
   "outputs": [
    {
     "name": "stdout",
     "output_type": "stream",
     "text": [
      "43/43 [==============================] - 1s 10ms/step\n",
      "\n",
      "Testing Classification Report:\n",
      "\n",
      "               precision    recall  f1-score   support\n",
      "\n",
      "           0       0.63      0.75      0.68        36\n",
      "           1       0.44      0.50      0.47        22\n",
      "           2       0.69      0.62      0.65        29\n",
      "           3       0.60      0.48      0.54        31\n",
      "           4       0.56      0.85      0.68        26\n",
      "           5       0.84      0.87      0.85        30\n",
      "           6       0.95      1.00      0.97        19\n",
      "           7       0.85      0.41      0.55        27\n",
      "           8       0.68      0.93      0.79        28\n",
      "           9       0.67      0.97      0.79        29\n",
      "          10       0.55      0.50      0.52        34\n",
      "          11       0.89      0.52      0.65        33\n",
      "          12       0.97      0.90      0.94        40\n",
      "          13       0.81      0.79      0.80        33\n",
      "          14       0.57      0.64      0.60        33\n",
      "          15       0.68      0.75      0.71        28\n",
      "          16       0.65      0.59      0.62        34\n",
      "          17       0.97      0.85      0.90        33\n",
      "          18       0.43      0.40      0.42        25\n",
      "          19       0.80      0.71      0.75        28\n",
      "          20       0.94      0.91      0.93        34\n",
      "          21       0.81      0.85      0.83        26\n",
      "          22       0.65      0.89      0.75        35\n",
      "          23       0.53      0.53      0.53        32\n",
      "          24       0.71      0.52      0.60        29\n",
      "          25       0.55      0.88      0.67        33\n",
      "          26       0.63      0.84      0.72        32\n",
      "          27       0.64      0.20      0.30        35\n",
      "          28       0.69      0.86      0.76        28\n",
      "          29       0.61      0.70      0.66        27\n",
      "          30       0.78      0.64      0.70        33\n",
      "          31       0.64      0.67      0.65        24\n",
      "          32       0.68      0.56      0.61        27\n",
      "          33       0.94      0.61      0.74        28\n",
      "          34       0.66      0.86      0.75        29\n",
      "          35       0.85      0.97      0.90        34\n",
      "          36       0.53      0.63      0.58        27\n",
      "          37       0.83      0.65      0.73        23\n",
      "          38       0.42      0.64      0.51        22\n",
      "          39       0.61      0.66      0.63        29\n",
      "          40       0.57      0.52      0.54        31\n",
      "          41       0.59      0.46      0.52        28\n",
      "          42       0.77      0.81      0.79        37\n",
      "          43       0.46      0.21      0.29        29\n",
      "          44       0.72      0.62      0.67        42\n",
      "\n",
      "    accuracy                           0.68      1352\n",
      "   macro avg       0.69      0.68      0.67      1352\n",
      "weighted avg       0.69      0.68      0.68      1352\n",
      "\n",
      "\n",
      "Testing Confusion Matrix:\n",
      "\n"
     ]
    },
    {
     "data": {
      "text/plain": [
       "<Figure size 432x288 with 0 Axes>"
      ]
     },
     "execution_count": 48,
     "metadata": {},
     "output_type": "execute_result"
    },
    {
     "data": {
      "image/png": "[encoded data removed]",
      "text/plain": [
       "<Figure size 432x288 with 2 Axes>"
      ]
     },
     "metadata": {
      "needs_background": "light"
     },
     "output_type": "display_data"
    },
    {
     "data": {
      "text/plain": [
       "<Figure size 432x288 with 0 Axes>"
      ]
     },
     "metadata": {},
     "output_type": "display_data"
    }
   ],
   "source": [
    "# predict the labels of the test set\n",
    "predictedY = model.predict(val_ds)\n",
    "predictedY = np.argmax(predictedY, axis=1)\n",
    "testY = np.concatenate([y for x, y in val_ds], axis=0)\n",
    "\n",
    "# print quality metricsl\n",
    "print('\\nTesting Classification Report:\\n\\n', classification_report(testY, predictedY))\n",
    "\n",
    "print('\\nTesting Confusion Matrix:\\n')\n",
    "\n",
    "heatmap(confusion_matrix(testY, predictedY))\n",
    "plt.figure()"
   ]
  },
  {
   "cell_type": "markdown",
   "metadata": {
    "id": "zKsgHnQRQvl2"
   },
   "source": [
    "**Run 10: Accuracy: 68%**\n",
    "Resnet for this dataset.\n",
    "The dataset has been trained and tested on Resnet in this run with 20 Epochs."
   ]
  },
  {
   "cell_type": "code",
   "execution_count": null,
   "metadata": {
    "colab": {
     "base_uri": "https://localhost:8080/"
    },
    "id": "BAyB4_kWKIRW",
    "outputId": "7949452b-e70d-4692-8f5e-8472204c6274"
   },
   "outputs": [
    {
     "name": "stdout",
     "output_type": "stream",
     "text": [
      "Model: \"ResNet34\"\n",
      "_________________________________________________________________\n",
      " Layer (type)                Output Shape              Param #   \n",
      "=================================================================\n",
      " conv2d_39 (Conv2D)          multiple                  9472      \n",
      "                                                                 \n",
      " batch_normalization_13 (Bat  multiple                 256       \n",
      " chNormalization)                                                \n",
      "                                                                 \n",
      " re_lu (ReLU)                multiple                  0         \n",
      "                                                                 \n",
      " max_pooling2d_39 (MaxPoolin  multiple                 0         \n",
      " g2D)                                                            \n",
      "                                                                 \n",
      " ResBlock (ResBlock)         multiple                  74368     \n",
      "                                                                 \n",
      " ResBlock (ResBlock)         multiple                  74368     \n",
      "                                                                 \n",
      " ResBlock (ResBlock)         multiple                  74368     \n",
      "                                                                 \n",
      " ResBlock (ResBlock)         multiple                  231296    \n",
      "                                                                 \n",
      " ResBlock (ResBlock)         multiple                  296192    \n",
      "                                                                 \n",
      " ResBlock (ResBlock)         multiple                  296192    \n",
      "                                                                 \n",
      " ResBlock (ResBlock)         multiple                  296192    \n",
      "                                                                 \n",
      " ResBlock (ResBlock)         multiple                  921344    \n",
      "                                                                 \n",
      " ResBlock (ResBlock)         multiple                  1182208   \n",
      "                                                                 \n",
      " ResBlock (ResBlock)         multiple                  1182208   \n",
      "                                                                 \n",
      " ResBlock (ResBlock)         multiple                  1182208   \n",
      "                                                                 \n",
      " ResBlock (ResBlock)         multiple                  1182208   \n",
      "                                                                 \n",
      " ResBlock (ResBlock)         multiple                  1182208   \n",
      "                                                                 \n",
      " ResBlock (ResBlock)         multiple                  3677696   \n",
      "                                                                 \n",
      " ResBlock (ResBlock)         multiple                  4723712   \n",
      "                                                                 \n",
      " ResBlock (ResBlock)         multiple                  4723712   \n",
      "                                                                 \n",
      " global_average_pooling2d (G  multiple                 0         \n",
      " lobalAveragePooling2D)                                          \n",
      "                                                                 \n",
      " dense_20 (Dense)            multiple                  262656    \n",
      "                                                                 \n",
      " dropout_37 (Dropout)        multiple                  0         \n",
      "                                                                 \n",
      " dense_21 (Dense)            multiple                  262656    \n",
      "                                                                 \n",
      " dropout_38 (Dropout)        multiple                  0         \n",
      "                                                                 \n",
      " dense_22 (Dense)            multiple                  23085     \n",
      "                                                                 \n",
      "=================================================================\n",
      "Total params: 21,858,605\n",
      "Trainable params: 21,841,581\n",
      "Non-trainable params: 17,024\n",
      "_________________________________________________________________\n"
     ]
    }
   ],
   "source": [
    "from tensorflow.keras import Model\n",
    "from tensorflow.keras.models import Sequential\n",
    "from tensorflow.keras.layers import InputLayer\n",
    "from tensorflow.keras.layers import Flatten\n",
    "from tensorflow.keras.layers import Dropout\n",
    "from tensorflow.keras.regularizers import l1_l2\n",
    "from tensorflow.keras.datasets import cifar10\n",
    "from tensorflow.keras.optimizers import SGD\n",
    "from tensorflow.keras.utils import to_categorical\n",
    "from sklearn.utils import shuffle\n",
    "from sklearn.model_selection import train_test_split\n",
    "from sklearn.metrics import confusion_matrix\n",
    "from sklearn.metrics import classification_report\n",
    "from PIL import Image\n",
    "import pandas as pd\n",
    "import warnings\n",
    "import math\n",
    "import os\n",
    "from tensorflow.keras.utils import to_categorical\n",
    "from tensorflow import keras\n",
    "from keras.activations import relu\n",
    "from keras.activations import linear\n",
    "from tensorflow.keras.layers import *\n",
    "from tensorflow.keras import layers as Layers\n",
    "from keras_preprocessing.image import ImageDataGenerator\n",
    "from keras.layers import LeakyReLU\n",
    "from keras.models import Sequential #Import from keras_preprocessing not from keras.preprocessingfrom keras_preprocessing.image import ImageDataGenerator\n",
    "from keras.layers import Dense, Activation, Flatten, Dropout, BatchNormalization\n",
    "from keras.layers import Conv2D, MaxPooling2D\n",
    "from keras import regularizers, optimizers\n",
    "from keras_preprocessing.image import ImageDataGenerator\n",
    "import warnings\n",
    "warnings.filterwarnings(\"ignore\")\n",
    "import pathlib\n",
    "from tensorflow.keras import datasets, layers, models\n",
    "\n",
    "class ResBlock(Model):\n",
    "    def __init__(self, channels, stride=1):\n",
    "        super(ResBlock, self).__init__(name='ResBlock')\n",
    "        self.flag = (stride != 1)\n",
    "        self.conv1 = Conv2D(channels, 3, stride, padding='same')\n",
    "        self.bn1 = BatchNormalization()\n",
    "        self.conv2 = Conv2D(channels, 3, padding='same')\n",
    "        self.bn2 = BatchNormalization()\n",
    "        self.relu = ReLU()\n",
    "        if self.flag:\n",
    "            self.bn3 = BatchNormalization()\n",
    "            self.conv3 = Conv2D(channels, 1, stride)\n",
    "\n",
    "    def call(self, x):\n",
    "        x1 = self.conv1(x)\n",
    "        x1 = self.bn1(x1)\n",
    "        x1 = self.relu(x1)\n",
    "        x1 = self.conv2(x1)\n",
    "        x1 = self.bn2(x1)\n",
    "        if self.flag:\n",
    "            x = self.conv3(x)\n",
    "            x = self.bn3(x)\n",
    "        x1 = Layers.add([x, x1])\n",
    "        x1 = self.relu(x1)\n",
    "        return x1\n",
    "\n",
    "\n",
    "class ResNet34(Model):\n",
    "    def __init__(self):\n",
    "        super(ResNet34, self).__init__(name='ResNet34')\n",
    "        self.conv1 = Conv2D(64, 7, 2, padding='same')\n",
    "        self.bn = BatchNormalization()\n",
    "        self.relu = ReLU()\n",
    "        self.mp1 = MaxPooling2D(3, 2)\n",
    "\n",
    "        self.conv2_1 = ResBlock(64)\n",
    "        self.conv2_2 = ResBlock(64)\n",
    "        self.conv2_3 = ResBlock(64)\n",
    "\n",
    "        self.conv3_1 = ResBlock(128, 2)\n",
    "        self.conv3_2 = ResBlock(128)\n",
    "        self.conv3_3 = ResBlock(128)\n",
    "        self.conv3_4 = ResBlock(128)\n",
    "\n",
    "        self.conv4_1 = ResBlock(256, 2)\n",
    "        self.conv4_2 = ResBlock(256)\n",
    "        self.conv4_3 = ResBlock(256)\n",
    "        self.conv4_4 = ResBlock(256)\n",
    "        self.conv4_5 = ResBlock(256)\n",
    "        self.conv4_6 = ResBlock(256)\n",
    "\n",
    "        self.conv5_1 = ResBlock(512, 2)\n",
    "        self.conv5_2 = ResBlock(512)\n",
    "        self.conv5_3 = ResBlock(512)\n",
    "\n",
    "        self.pool = GlobalAveragePooling2D()\n",
    "        self.fc1 = Dense(512, activation='relu')\n",
    "        self.dp1 = Dropout(0.5)\n",
    "        self.fc2 = Dense(512, activation='relu')\n",
    "        self.dp2 = Dropout(0.5)\n",
    "        self.fc3 = Dense(45)\n",
    "\n",
    "    def call(self, x):\n",
    "        x = self.conv1(x)\n",
    "        x = self.bn(x)\n",
    "        x = self.relu(x)\n",
    "        x = self.mp1(x)\n",
    "\n",
    "        x = self.conv2_1(x)\n",
    "        x = self.conv2_2(x)\n",
    "        x = self.conv2_3(x)\n",
    "\n",
    "        x = self.conv3_1(x)\n",
    "        x = self.conv3_2(x)\n",
    "        x = self.conv3_3(x)\n",
    "        x = self.conv3_4(x)\n",
    "\n",
    "        x = self.conv4_1(x)\n",
    "        x = self.conv4_2(x)\n",
    "        x = self.conv4_3(x)\n",
    "        x = self.conv4_4(x)\n",
    "        x = self.conv4_5(x)\n",
    "        x = self.conv4_6(x)\n",
    "\n",
    "        x = self.conv5_1(x)\n",
    "        x = self.conv5_2(x)\n",
    "        x = self.conv5_3(x)\n",
    "\n",
    "        x = self.pool(x)\n",
    "        x = self.fc1(x)\n",
    "        x = self.dp1(x)\n",
    "        x = self.fc2(x)\n",
    "        x = self.dp2(x)\n",
    "        x = self.fc3(x)\n",
    "        return x\n",
    "\n",
    "\n",
    "model = ResNet34()\n",
    "model.build(input_shape=(1, 256, 256, 3))\n",
    "model.summary()"
   ]
  },
  {
   "cell_type": "code",
   "execution_count": null,
   "metadata": {
    "colab": {
     "base_uri": "https://localhost:8080/"
    },
    "id": "aUHQ8dv4KMmb",
    "outputId": "79fd695e-3e82-433d-f262-dd2111d9d452"
   },
   "outputs": [
    {
     "name": "stdout",
     "output_type": "stream",
     "text": [
      "Epoch 1/20\n",
      "620/620 [==============================] - 35s 49ms/step - loss: 3.4168 - accuracy: 0.1039 - val_loss: 13.9099 - val_accuracy: 0.0814\n",
      "Epoch 2/20\n",
      "620/620 [==============================] - 30s 48ms/step - loss: 2.9664 - accuracy: 0.1814 - val_loss: 6.8005 - val_accuracy: 0.1050\n",
      "Epoch 3/20\n",
      "620/620 [==============================] - 30s 48ms/step - loss: 2.7075 - accuracy: 0.2398 - val_loss: 2.8743 - val_accuracy: 0.2315\n",
      "Epoch 4/20\n",
      "620/620 [==============================] - 30s 48ms/step - loss: 2.5143 - accuracy: 0.2823 - val_loss: 2.9356 - val_accuracy: 0.3609\n",
      "Epoch 5/20\n",
      "620/620 [==============================] - 30s 48ms/step - loss: 2.2972 - accuracy: 0.3344 - val_loss: 2.3177 - val_accuracy: 0.3624\n",
      "Epoch 6/20\n",
      "620/620 [==============================] - 30s 48ms/step - loss: 2.1276 - accuracy: 0.3789 - val_loss: 2.3693 - val_accuracy: 0.3499\n",
      "Epoch 7/20\n",
      "620/620 [==============================] - 30s 48ms/step - loss: 1.9651 - accuracy: 0.4232 - val_loss: 2.4364 - val_accuracy: 0.3868\n",
      "Epoch 8/20\n",
      "620/620 [==============================] - 30s 48ms/step - loss: 1.8174 - accuracy: 0.4639 - val_loss: 2.2051 - val_accuracy: 0.3891\n",
      "Epoch 9/20\n",
      "620/620 [==============================] - 30s 48ms/step - loss: 1.6554 - accuracy: 0.5039 - val_loss: 1.5435 - val_accuracy: 0.5540\n",
      "Epoch 10/20\n",
      "620/620 [==============================] - 30s 48ms/step - loss: 1.5091 - accuracy: 0.5481 - val_loss: 2.3885 - val_accuracy: 0.3809\n",
      "Epoch 11/20\n",
      "620/620 [==============================] - 30s 48ms/step - loss: 1.3834 - accuracy: 0.5825 - val_loss: 1.8224 - val_accuracy: 0.4993\n",
      "Epoch 12/20\n",
      "620/620 [==============================] - 30s 48ms/step - loss: 1.2943 - accuracy: 0.6121 - val_loss: 2.1231 - val_accuracy: 0.5880\n",
      "Epoch 13/20\n",
      "620/620 [==============================] - 30s 48ms/step - loss: 1.1265 - accuracy: 0.6538 - val_loss: 1.3096 - val_accuracy: 0.6309\n",
      "Epoch 14/20\n",
      "620/620 [==============================] - 29s 47ms/step - loss: 1.0496 - accuracy: 0.6829 - val_loss: 3.2401 - val_accuracy: 0.2707\n",
      "Epoch 15/20\n",
      "620/620 [==============================] - 30s 48ms/step - loss: 0.9250 - accuracy: 0.7111 - val_loss: 1.4250 - val_accuracy: 0.6013\n",
      "Epoch 16/20\n",
      "620/620 [==============================] - 30s 49ms/step - loss: 0.8062 - accuracy: 0.7535 - val_loss: 10.2730 - val_accuracy: 0.6672\n",
      "Epoch 17/20\n",
      "620/620 [==============================] - 30s 48ms/step - loss: 0.7262 - accuracy: 0.7774 - val_loss: 12.9178 - val_accuracy: 0.6827\n",
      "Epoch 18/20\n",
      "620/620 [==============================] - 30s 49ms/step - loss: 0.6952 - accuracy: 0.7913 - val_loss: 3.1664 - val_accuracy: 0.6797\n",
      "Epoch 19/20\n",
      "620/620 [==============================] - 30s 48ms/step - loss: 0.6781 - accuracy: 0.7932 - val_loss: 1.2705 - val_accuracy: 0.6605\n",
      "Epoch 20/20\n",
      "620/620 [==============================] - 29s 48ms/step - loss: 0.5985 - accuracy: 0.8168 - val_loss: 2.9185 - val_accuracy: 0.6383\n"
     ]
    }
   ],
   "source": [
    "model.compile(optimizer='adam', loss=tf.keras.losses.SparseCategoricalCrossentropy(from_logits=True), metrics=['accuracy'])\n",
    "epochs=20\n",
    "history = model.fit(\n",
    "  train_ds,\n",
    "  validation_data=val_ds,\n",
    "  epochs=epochs,\n",
    "  batch_size=128\n",
    ")"
   ]
  },
  {
   "cell_type": "markdown",
   "metadata": {
    "id": "AEHADNdFQ4Ig"
   },
   "source": [
    "**The accuracy for Run 10:**"
   ]
  },
  {
   "cell_type": "code",
   "execution_count": null,
   "metadata": {
    "colab": {
     "base_uri": "https://localhost:8080/",
     "height": 499
    },
    "id": "QpwnFLhwKPDA",
    "outputId": "2b88672b-678f-4600-e0bb-9e7fdb6029c3"
   },
   "outputs": [
    {
     "data": {
      "image/png": "[encoded data removed]",
      "text/plain": [
       "<Figure size 576x576 with 2 Axes>"
      ]
     },
     "metadata": {
      "needs_background": "light"
     },
     "output_type": "display_data"
    }
   ],
   "source": [
    "acc = history.history['accuracy']\n",
    "val_acc = history.history['val_accuracy']\n",
    "\n",
    "loss = history.history['loss']\n",
    "val_loss = history.history['val_loss']\n",
    "\n",
    "epochs_range = range(epochs)\n",
    "\n",
    "plt.figure(figsize=(8, 8))\n",
    "plt.subplot(1, 2, 1)\n",
    "plt.plot(epochs_range, acc, label='Training Accuracy')\n",
    "plt.plot(epochs_range, val_acc, label='Validation Accuracy')\n",
    "plt.legend(loc='lower right')\n",
    "plt.title('Training and Validation Accuracy')\n",
    "\n",
    "plt.subplot(1, 2, 2)\n",
    "plt.plot(epochs_range, loss, label='Training Loss')\n",
    "plt.plot(epochs_range, val_loss, label='Validation Loss')\n",
    "plt.legend(loc='upper right')\n",
    "plt.title('Training and Validation Loss')\n",
    "plt.show()"
   ]
  },
  {
   "cell_type": "code",
   "execution_count": null,
   "metadata": {
    "colab": {
     "base_uri": "https://localhost:8080/",
     "height": 1000
    },
    "id": "lpViSg34KRZj",
    "outputId": "28e6fcaf-4e95-4e9f-8b4a-e3023a6eec77"
   },
   "outputs": [
    {
     "name": "stdout",
     "output_type": "stream",
     "text": [
      "43/43 [==============================] - 1s 16ms/step\n",
      "\n",
      "Testing Classification Report:\n",
      "\n",
      "               precision    recall  f1-score   support\n",
      "\n",
      "           0       0.90      0.50      0.64        36\n",
      "           1       0.27      0.86      0.41        22\n",
      "           2       0.83      0.52      0.64        29\n",
      "           3       0.65      0.48      0.56        31\n",
      "           4       0.35      0.92      0.51        26\n",
      "           5       0.79      0.77      0.78        30\n",
      "           6       0.94      0.79      0.86        19\n",
      "           7       0.65      0.48      0.55        27\n",
      "           8       0.74      0.71      0.73        28\n",
      "           9       0.96      0.83      0.89        29\n",
      "          10       0.70      0.41      0.52        34\n",
      "          11       0.89      0.52      0.65        33\n",
      "          12       0.89      0.80      0.84        40\n",
      "          13       0.79      0.67      0.72        33\n",
      "          14       0.83      0.61      0.70        33\n",
      "          15       0.80      0.57      0.67        28\n",
      "          16       0.68      0.68      0.68        34\n",
      "          17       0.86      0.55      0.67        33\n",
      "          18       0.71      0.40      0.51        25\n",
      "          19       0.82      0.64      0.72        28\n",
      "          20       0.97      0.82      0.89        34\n",
      "          21       0.60      0.96      0.74        26\n",
      "          22       0.85      0.80      0.82        35\n",
      "          23       0.74      0.53      0.62        32\n",
      "          24       0.84      0.72      0.78        29\n",
      "          25       0.41      0.76      0.53        33\n",
      "          26       0.74      0.88      0.80        32\n",
      "          27       0.43      0.34      0.38        35\n",
      "          28       0.37      0.64      0.47        28\n",
      "          29       0.86      0.70      0.78        27\n",
      "          30       0.43      0.55      0.48        33\n",
      "          31       0.57      0.71      0.63        24\n",
      "          32       0.22      0.67      0.33        27\n",
      "          33       0.77      0.61      0.68        28\n",
      "          34       0.72      0.45      0.55        29\n",
      "          35       0.77      0.97      0.86        34\n",
      "          36       0.82      0.52      0.64        27\n",
      "          37       0.53      0.70      0.60        23\n",
      "          38       0.75      0.68      0.71        22\n",
      "          39       0.76      0.86      0.81        29\n",
      "          40       0.79      0.48      0.60        31\n",
      "          41       0.84      0.57      0.68        28\n",
      "          42       0.90      0.51      0.66        37\n",
      "          43       0.43      0.52      0.47        29\n",
      "          44       0.88      0.36      0.51        42\n",
      "\n",
      "    accuracy                           0.64      1352\n",
      "   macro avg       0.71      0.64      0.65      1352\n",
      "weighted avg       0.72      0.64      0.65      1352\n",
      "\n",
      "\n",
      "Testing Confusion Matrix:\n",
      "\n"
     ]
    },
    {
     "data": {
      "text/plain": [
       "<Figure size 432x288 with 0 Axes>"
      ]
     },
     "execution_count": 54,
     "metadata": {},
     "output_type": "execute_result"
    },
    {
     "data": {
      "image/png": "[encoded data removed]",
      "text/plain": [
       "<Figure size 432x288 with 2 Axes>"
      ]
     },
     "metadata": {
      "needs_background": "light"
     },
     "output_type": "display_data"
    },
    {
     "data": {
      "text/plain": [
       "<Figure size 432x288 with 0 Axes>"
      ]
     },
     "metadata": {},
     "output_type": "display_data"
    }
   ],
   "source": [
    "predictedY = model.predict(val_ds)\n",
    "predictedY =  np.argmax(predictedY,axis= 1 )\n",
    "testY = np.concatenate([y for x, y in val_ds], axis=0) \n",
    "\n",
    "# print quality metricsl\n",
    "print('\\nTesting Classification Report:\\n\\n', classification_report(testY, predictedY))\n",
    "\n",
    "print('\\nTesting Confusion Matrix:\\n')\n",
    "\n",
    "heatmap(confusion_matrix(testY, predictedY))\n",
    "plt.figure()"
   ]
  },
  {
   "cell_type": "markdown",
   "metadata": {},
   "source": [
    "Summary:\n",
    "through testing different models, I realized the Relu activation function worke better with this dataset. Although, the activation function used in last layer is Softmax. The Elu and Sigmoid did not perform well with this dataset. Also, dropout and L2 regulizer improved the result significantly. The Resnet and Ensemble had a really good result with this dataset. In addition, adding more layers to the model improves the validation accuracy. eventhough, adding too many  layers, may not improve the accuracy.\n",
    "I used two notebooks. I figured out one kernall is not enough for this 13 runs.\n",
    "I ran the Resnet model with this dataset 3 times. The accuracy with Resnet is 84%."
   ]
  }
 ],
 "metadata": {
  "accelerator": "GPU",
  "colab": {
   "collapsed_sections": [],
   "machine_shape": "hm",
   "provenance": []
  },
  "gpuClass": "premium",
  "kernelspec": {
   "display_name": "Python 3 (ipykernel)",
   "language": "python",
   "name": "python3"
  },
  "language_info": {
   "codemirror_mode": {
    "name": "ipython",
    "version": 3
   },
   "file_extension": ".py",
   "mimetype": "text/x-python",
   "name": "python",
   "nbconvert_exporter": "python",
   "pygments_lexer": "ipython3",
   "version": "3.8.12"
  }
 },
 "nbformat": 4,
 "nbformat_minor": 4
}
